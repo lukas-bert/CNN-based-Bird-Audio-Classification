{
 "cells": [
  {
   "cell_type": "markdown",
   "id": "19bcf1d9-4224-4222-ad08-15345e09b965",
   "metadata": {},
   "source": [
    "# Evaluate a trained model"
   ]
  },
  {
   "cell_type": "code",
   "execution_count": 1,
   "id": "b04c341a-6321-47b0-a65b-c222f8fec10e",
   "metadata": {},
   "outputs": [],
   "source": [
    "import pandas as pd\n",
    "import numpy as np\n",
    "import random\n",
    "from tqdm import tqdm\n",
    "import h5py\n",
    "import os\n",
    "\n",
    "import tensorflow as tf\n",
    "import keras\n",
    "import tensorflow_io as tfio\n",
    "import tensorflow_probability as tfp\n",
    "import tensorflow_extra as tfe\n",
    "\n",
    "import matplotlib.pyplot as plt\n",
    "import librosa\n",
    "import librosa.display\n",
    "from IPython.display import Audio"
   ]
  },
  {
   "cell_type": "code",
   "execution_count": 2,
   "id": "717b3eec-97e5-44a6-b040-192f588e6b23",
   "metadata": {},
   "outputs": [],
   "source": [
    "df = pd.read_csv(\"../../data/dataset_train.csv\")\n",
    "df[\"fullfilename\"] = \"../\" + df[\"fullfilename\"]"
   ]
  },
  {
   "cell_type": "code",
   "execution_count": 3,
   "id": "b755f61b-725e-45b1-b653-28922d3ec0d0",
   "metadata": {},
   "outputs": [],
   "source": [
    "from sklearn.model_selection import train_test_split\n",
    "\n",
    "df_train, df_val = train_test_split(df, test_size=0.2, random_state=42)\n",
    "\n",
    "df_train.reset_index(inplace = True, drop = True)\n",
    "df_val.reset_index(inplace = True, drop = True)"
   ]
  },
  {
   "cell_type": "code",
   "execution_count": 4,
   "id": "b49455aa-db06-4535-9404-dbc42ffcc264",
   "metadata": {},
   "outputs": [],
   "source": [
    "class cfg:\n",
    "    # random seed\n",
    "    seed = 42\n",
    "\n",
    "    # audio clip settings\n",
    "    sr = 22050\n",
    "    duration = 15 # the duration of the clips\n",
    "    \n",
    "    n_samples = duration*sr\n",
    "    \n",
    "    hop_length = 2048 # \"stepsize\" of the fft for the melspectrograms\n",
    "    nfft = 4096 # windowsize of the fft for the melspectrograms\n",
    "    n_mels = 128 # number of mel frequency bins\n",
    "    fmax = sr/2 # maximum frequency in the melspectrograms\n",
    "    input_dim = (n_mels, int(duration*sr//hop_length + 1))\n",
    "    \n",
    "    # training settings\n",
    "    batch_size = 32\n",
    "    n_epochs = 50\n",
    "    \n",
    "    # class labels/names\n",
    "    names = list(np.unique(df.en))"
   ]
  },
  {
   "cell_type": "code",
   "execution_count": 5,
   "id": "c368ae3a-a829-42db-935c-1a2a7cfcaf09",
   "metadata": {},
   "outputs": [
    {
     "data": {
      "text/html": [
       "<pre style=\"white-space:pre;overflow-x:auto;line-height:normal;font-family:Menlo,'DejaVu Sans Mono',consolas,'Courier New',monospace\"><span style=\"font-weight: bold\">Model: \"Basemodel\"</span>\n",
       "</pre>\n"
      ],
      "text/plain": [
       "\u001b[1mModel: \"Basemodel\"\u001b[0m\n"
      ]
     },
     "metadata": {},
     "output_type": "display_data"
    },
    {
     "data": {
      "text/html": [
       "<pre style=\"white-space:pre;overflow-x:auto;line-height:normal;font-family:Menlo,'DejaVu Sans Mono',consolas,'Courier New',monospace\">┏━━━━━━━━━━━━━━━━━━━━━━━━━━━━━━━━━┳━━━━━━━━━━━━━━━━━━━━━━━━┳━━━━━━━━━━━━━━━┓\n",
       "┃<span style=\"font-weight: bold\"> Layer (type)                    </span>┃<span style=\"font-weight: bold\"> Output Shape           </span>┃<span style=\"font-weight: bold\">       Param # </span>┃\n",
       "┡━━━━━━━━━━━━━━━━━━━━━━━━━━━━━━━━━╇━━━━━━━━━━━━━━━━━━━━━━━━╇━━━━━━━━━━━━━━━┩\n",
       "│ input_layer_5 (<span style=\"color: #0087ff; text-decoration-color: #0087ff\">InputLayer</span>)      │ (<span style=\"color: #00d7ff; text-decoration-color: #00d7ff\">None</span>, <span style=\"color: #00af00; text-decoration-color: #00af00\">128</span>, <span style=\"color: #00af00; text-decoration-color: #00af00\">162</span>, <span style=\"color: #00af00; text-decoration-color: #00af00\">1</span>)    │             <span style=\"color: #00af00; text-decoration-color: #00af00\">0</span> │\n",
       "├─────────────────────────────────┼────────────────────────┼───────────────┤\n",
       "│ z_score_min_max (<span style=\"color: #0087ff; text-decoration-color: #0087ff\">ZScoreMinMax</span>)  │ (<span style=\"color: #00d7ff; text-decoration-color: #00d7ff\">None</span>, <span style=\"color: #00af00; text-decoration-color: #00af00\">128</span>, <span style=\"color: #00af00; text-decoration-color: #00af00\">162</span>, <span style=\"color: #00af00; text-decoration-color: #00af00\">1</span>)    │             <span style=\"color: #00af00; text-decoration-color: #00af00\">0</span> │\n",
       "├─────────────────────────────────┼────────────────────────┼───────────────┤\n",
       "│ time_freq_mask (<span style=\"color: #0087ff; text-decoration-color: #0087ff\">TimeFreqMask</span>)   │ (<span style=\"color: #00d7ff; text-decoration-color: #00d7ff\">None</span>, <span style=\"color: #00af00; text-decoration-color: #00af00\">128</span>, <span style=\"color: #00af00; text-decoration-color: #00af00\">162</span>, <span style=\"color: #00af00; text-decoration-color: #00af00\">1</span>)    │             <span style=\"color: #00af00; text-decoration-color: #00af00\">0</span> │\n",
       "├─────────────────────────────────┼────────────────────────┼───────────────┤\n",
       "│ conv2d_3 (<span style=\"color: #0087ff; text-decoration-color: #0087ff\">Conv2D</span>)               │ (<span style=\"color: #00d7ff; text-decoration-color: #00d7ff\">None</span>, <span style=\"color: #00af00; text-decoration-color: #00af00\">126</span>, <span style=\"color: #00af00; text-decoration-color: #00af00\">160</span>, <span style=\"color: #00af00; text-decoration-color: #00af00\">64</span>)   │           <span style=\"color: #00af00; text-decoration-color: #00af00\">640</span> │\n",
       "├─────────────────────────────────┼────────────────────────┼───────────────┤\n",
       "│ leaky_re_lu_6 (<span style=\"color: #0087ff; text-decoration-color: #0087ff\">LeakyReLU</span>)       │ (<span style=\"color: #00d7ff; text-decoration-color: #00d7ff\">None</span>, <span style=\"color: #00af00; text-decoration-color: #00af00\">126</span>, <span style=\"color: #00af00; text-decoration-color: #00af00\">160</span>, <span style=\"color: #00af00; text-decoration-color: #00af00\">64</span>)   │             <span style=\"color: #00af00; text-decoration-color: #00af00\">0</span> │\n",
       "├─────────────────────────────────┼────────────────────────┼───────────────┤\n",
       "│ max_pooling2d_3 (<span style=\"color: #0087ff; text-decoration-color: #0087ff\">MaxPooling2D</span>)  │ (<span style=\"color: #00d7ff; text-decoration-color: #00d7ff\">None</span>, <span style=\"color: #00af00; text-decoration-color: #00af00\">63</span>, <span style=\"color: #00af00; text-decoration-color: #00af00\">80</span>, <span style=\"color: #00af00; text-decoration-color: #00af00\">64</span>)     │             <span style=\"color: #00af00; text-decoration-color: #00af00\">0</span> │\n",
       "├─────────────────────────────────┼────────────────────────┼───────────────┤\n",
       "│ conv2d_4 (<span style=\"color: #0087ff; text-decoration-color: #0087ff\">Conv2D</span>)               │ (<span style=\"color: #00d7ff; text-decoration-color: #00d7ff\">None</span>, <span style=\"color: #00af00; text-decoration-color: #00af00\">61</span>, <span style=\"color: #00af00; text-decoration-color: #00af00\">78</span>, <span style=\"color: #00af00; text-decoration-color: #00af00\">128</span>)    │        <span style=\"color: #00af00; text-decoration-color: #00af00\">73,856</span> │\n",
       "├─────────────────────────────────┼────────────────────────┼───────────────┤\n",
       "│ leaky_re_lu_7 (<span style=\"color: #0087ff; text-decoration-color: #0087ff\">LeakyReLU</span>)       │ (<span style=\"color: #00d7ff; text-decoration-color: #00d7ff\">None</span>, <span style=\"color: #00af00; text-decoration-color: #00af00\">61</span>, <span style=\"color: #00af00; text-decoration-color: #00af00\">78</span>, <span style=\"color: #00af00; text-decoration-color: #00af00\">128</span>)    │             <span style=\"color: #00af00; text-decoration-color: #00af00\">0</span> │\n",
       "├─────────────────────────────────┼────────────────────────┼───────────────┤\n",
       "│ max_pooling2d_4 (<span style=\"color: #0087ff; text-decoration-color: #0087ff\">MaxPooling2D</span>)  │ (<span style=\"color: #00d7ff; text-decoration-color: #00d7ff\">None</span>, <span style=\"color: #00af00; text-decoration-color: #00af00\">30</span>, <span style=\"color: #00af00; text-decoration-color: #00af00\">39</span>, <span style=\"color: #00af00; text-decoration-color: #00af00\">128</span>)    │             <span style=\"color: #00af00; text-decoration-color: #00af00\">0</span> │\n",
       "├─────────────────────────────────┼────────────────────────┼───────────────┤\n",
       "│ conv2d_5 (<span style=\"color: #0087ff; text-decoration-color: #0087ff\">Conv2D</span>)               │ (<span style=\"color: #00d7ff; text-decoration-color: #00d7ff\">None</span>, <span style=\"color: #00af00; text-decoration-color: #00af00\">28</span>, <span style=\"color: #00af00; text-decoration-color: #00af00\">37</span>, <span style=\"color: #00af00; text-decoration-color: #00af00\">128</span>)    │       <span style=\"color: #00af00; text-decoration-color: #00af00\">147,584</span> │\n",
       "├─────────────────────────────────┼────────────────────────┼───────────────┤\n",
       "│ leaky_re_lu_8 (<span style=\"color: #0087ff; text-decoration-color: #0087ff\">LeakyReLU</span>)       │ (<span style=\"color: #00d7ff; text-decoration-color: #00d7ff\">None</span>, <span style=\"color: #00af00; text-decoration-color: #00af00\">28</span>, <span style=\"color: #00af00; text-decoration-color: #00af00\">37</span>, <span style=\"color: #00af00; text-decoration-color: #00af00\">128</span>)    │             <span style=\"color: #00af00; text-decoration-color: #00af00\">0</span> │\n",
       "├─────────────────────────────────┼────────────────────────┼───────────────┤\n",
       "│ max_pooling2d_5 (<span style=\"color: #0087ff; text-decoration-color: #0087ff\">MaxPooling2D</span>)  │ (<span style=\"color: #00d7ff; text-decoration-color: #00d7ff\">None</span>, <span style=\"color: #00af00; text-decoration-color: #00af00\">14</span>, <span style=\"color: #00af00; text-decoration-color: #00af00\">18</span>, <span style=\"color: #00af00; text-decoration-color: #00af00\">128</span>)    │             <span style=\"color: #00af00; text-decoration-color: #00af00\">0</span> │\n",
       "├─────────────────────────────────┼────────────────────────┼───────────────┤\n",
       "│ dropout_3 (<span style=\"color: #0087ff; text-decoration-color: #0087ff\">Dropout</span>)             │ (<span style=\"color: #00d7ff; text-decoration-color: #00d7ff\">None</span>, <span style=\"color: #00af00; text-decoration-color: #00af00\">14</span>, <span style=\"color: #00af00; text-decoration-color: #00af00\">18</span>, <span style=\"color: #00af00; text-decoration-color: #00af00\">128</span>)    │             <span style=\"color: #00af00; text-decoration-color: #00af00\">0</span> │\n",
       "├─────────────────────────────────┼────────────────────────┼───────────────┤\n",
       "│ flatten_1 (<span style=\"color: #0087ff; text-decoration-color: #0087ff\">Flatten</span>)             │ (<span style=\"color: #00d7ff; text-decoration-color: #00d7ff\">None</span>, <span style=\"color: #00af00; text-decoration-color: #00af00\">32256</span>)          │             <span style=\"color: #00af00; text-decoration-color: #00af00\">0</span> │\n",
       "├─────────────────────────────────┼────────────────────────┼───────────────┤\n",
       "│ dense_4 (<span style=\"color: #0087ff; text-decoration-color: #0087ff\">Dense</span>)                 │ (<span style=\"color: #00d7ff; text-decoration-color: #00d7ff\">None</span>, <span style=\"color: #00af00; text-decoration-color: #00af00\">128</span>)            │     <span style=\"color: #00af00; text-decoration-color: #00af00\">4,128,896</span> │\n",
       "├─────────────────────────────────┼────────────────────────┼───────────────┤\n",
       "│ leaky_re_lu_9 (<span style=\"color: #0087ff; text-decoration-color: #0087ff\">LeakyReLU</span>)       │ (<span style=\"color: #00d7ff; text-decoration-color: #00d7ff\">None</span>, <span style=\"color: #00af00; text-decoration-color: #00af00\">128</span>)            │             <span style=\"color: #00af00; text-decoration-color: #00af00\">0</span> │\n",
       "├─────────────────────────────────┼────────────────────────┼───────────────┤\n",
       "│ dropout_4 (<span style=\"color: #0087ff; text-decoration-color: #0087ff\">Dropout</span>)             │ (<span style=\"color: #00d7ff; text-decoration-color: #00d7ff\">None</span>, <span style=\"color: #00af00; text-decoration-color: #00af00\">128</span>)            │             <span style=\"color: #00af00; text-decoration-color: #00af00\">0</span> │\n",
       "├─────────────────────────────────┼────────────────────────┼───────────────┤\n",
       "│ dense_5 (<span style=\"color: #0087ff; text-decoration-color: #0087ff\">Dense</span>)                 │ (<span style=\"color: #00d7ff; text-decoration-color: #00d7ff\">None</span>, <span style=\"color: #00af00; text-decoration-color: #00af00\">64</span>)             │         <span style=\"color: #00af00; text-decoration-color: #00af00\">8,256</span> │\n",
       "├─────────────────────────────────┼────────────────────────┼───────────────┤\n",
       "│ leaky_re_lu_10 (<span style=\"color: #0087ff; text-decoration-color: #0087ff\">LeakyReLU</span>)      │ (<span style=\"color: #00d7ff; text-decoration-color: #00d7ff\">None</span>, <span style=\"color: #00af00; text-decoration-color: #00af00\">64</span>)             │             <span style=\"color: #00af00; text-decoration-color: #00af00\">0</span> │\n",
       "├─────────────────────────────────┼────────────────────────┼───────────────┤\n",
       "│ dense_6 (<span style=\"color: #0087ff; text-decoration-color: #0087ff\">Dense</span>)                 │ (<span style=\"color: #00d7ff; text-decoration-color: #00d7ff\">None</span>, <span style=\"color: #00af00; text-decoration-color: #00af00\">46</span>)             │         <span style=\"color: #00af00; text-decoration-color: #00af00\">2,990</span> │\n",
       "└─────────────────────────────────┴────────────────────────┴───────────────┘\n",
       "</pre>\n"
      ],
      "text/plain": [
       "┏━━━━━━━━━━━━━━━━━━━━━━━━━━━━━━━━━┳━━━━━━━━━━━━━━━━━━━━━━━━┳━━━━━━━━━━━━━━━┓\n",
       "┃\u001b[1m \u001b[0m\u001b[1mLayer (type)                   \u001b[0m\u001b[1m \u001b[0m┃\u001b[1m \u001b[0m\u001b[1mOutput Shape          \u001b[0m\u001b[1m \u001b[0m┃\u001b[1m \u001b[0m\u001b[1m      Param #\u001b[0m\u001b[1m \u001b[0m┃\n",
       "┡━━━━━━━━━━━━━━━━━━━━━━━━━━━━━━━━━╇━━━━━━━━━━━━━━━━━━━━━━━━╇━━━━━━━━━━━━━━━┩\n",
       "│ input_layer_5 (\u001b[38;5;33mInputLayer\u001b[0m)      │ (\u001b[38;5;45mNone\u001b[0m, \u001b[38;5;34m128\u001b[0m, \u001b[38;5;34m162\u001b[0m, \u001b[38;5;34m1\u001b[0m)    │             \u001b[38;5;34m0\u001b[0m │\n",
       "├─────────────────────────────────┼────────────────────────┼───────────────┤\n",
       "│ z_score_min_max (\u001b[38;5;33mZScoreMinMax\u001b[0m)  │ (\u001b[38;5;45mNone\u001b[0m, \u001b[38;5;34m128\u001b[0m, \u001b[38;5;34m162\u001b[0m, \u001b[38;5;34m1\u001b[0m)    │             \u001b[38;5;34m0\u001b[0m │\n",
       "├─────────────────────────────────┼────────────────────────┼───────────────┤\n",
       "│ time_freq_mask (\u001b[38;5;33mTimeFreqMask\u001b[0m)   │ (\u001b[38;5;45mNone\u001b[0m, \u001b[38;5;34m128\u001b[0m, \u001b[38;5;34m162\u001b[0m, \u001b[38;5;34m1\u001b[0m)    │             \u001b[38;5;34m0\u001b[0m │\n",
       "├─────────────────────────────────┼────────────────────────┼───────────────┤\n",
       "│ conv2d_3 (\u001b[38;5;33mConv2D\u001b[0m)               │ (\u001b[38;5;45mNone\u001b[0m, \u001b[38;5;34m126\u001b[0m, \u001b[38;5;34m160\u001b[0m, \u001b[38;5;34m64\u001b[0m)   │           \u001b[38;5;34m640\u001b[0m │\n",
       "├─────────────────────────────────┼────────────────────────┼───────────────┤\n",
       "│ leaky_re_lu_6 (\u001b[38;5;33mLeakyReLU\u001b[0m)       │ (\u001b[38;5;45mNone\u001b[0m, \u001b[38;5;34m126\u001b[0m, \u001b[38;5;34m160\u001b[0m, \u001b[38;5;34m64\u001b[0m)   │             \u001b[38;5;34m0\u001b[0m │\n",
       "├─────────────────────────────────┼────────────────────────┼───────────────┤\n",
       "│ max_pooling2d_3 (\u001b[38;5;33mMaxPooling2D\u001b[0m)  │ (\u001b[38;5;45mNone\u001b[0m, \u001b[38;5;34m63\u001b[0m, \u001b[38;5;34m80\u001b[0m, \u001b[38;5;34m64\u001b[0m)     │             \u001b[38;5;34m0\u001b[0m │\n",
       "├─────────────────────────────────┼────────────────────────┼───────────────┤\n",
       "│ conv2d_4 (\u001b[38;5;33mConv2D\u001b[0m)               │ (\u001b[38;5;45mNone\u001b[0m, \u001b[38;5;34m61\u001b[0m, \u001b[38;5;34m78\u001b[0m, \u001b[38;5;34m128\u001b[0m)    │        \u001b[38;5;34m73,856\u001b[0m │\n",
       "├─────────────────────────────────┼────────────────────────┼───────────────┤\n",
       "│ leaky_re_lu_7 (\u001b[38;5;33mLeakyReLU\u001b[0m)       │ (\u001b[38;5;45mNone\u001b[0m, \u001b[38;5;34m61\u001b[0m, \u001b[38;5;34m78\u001b[0m, \u001b[38;5;34m128\u001b[0m)    │             \u001b[38;5;34m0\u001b[0m │\n",
       "├─────────────────────────────────┼────────────────────────┼───────────────┤\n",
       "│ max_pooling2d_4 (\u001b[38;5;33mMaxPooling2D\u001b[0m)  │ (\u001b[38;5;45mNone\u001b[0m, \u001b[38;5;34m30\u001b[0m, \u001b[38;5;34m39\u001b[0m, \u001b[38;5;34m128\u001b[0m)    │             \u001b[38;5;34m0\u001b[0m │\n",
       "├─────────────────────────────────┼────────────────────────┼───────────────┤\n",
       "│ conv2d_5 (\u001b[38;5;33mConv2D\u001b[0m)               │ (\u001b[38;5;45mNone\u001b[0m, \u001b[38;5;34m28\u001b[0m, \u001b[38;5;34m37\u001b[0m, \u001b[38;5;34m128\u001b[0m)    │       \u001b[38;5;34m147,584\u001b[0m │\n",
       "├─────────────────────────────────┼────────────────────────┼───────────────┤\n",
       "│ leaky_re_lu_8 (\u001b[38;5;33mLeakyReLU\u001b[0m)       │ (\u001b[38;5;45mNone\u001b[0m, \u001b[38;5;34m28\u001b[0m, \u001b[38;5;34m37\u001b[0m, \u001b[38;5;34m128\u001b[0m)    │             \u001b[38;5;34m0\u001b[0m │\n",
       "├─────────────────────────────────┼────────────────────────┼───────────────┤\n",
       "│ max_pooling2d_5 (\u001b[38;5;33mMaxPooling2D\u001b[0m)  │ (\u001b[38;5;45mNone\u001b[0m, \u001b[38;5;34m14\u001b[0m, \u001b[38;5;34m18\u001b[0m, \u001b[38;5;34m128\u001b[0m)    │             \u001b[38;5;34m0\u001b[0m │\n",
       "├─────────────────────────────────┼────────────────────────┼───────────────┤\n",
       "│ dropout_3 (\u001b[38;5;33mDropout\u001b[0m)             │ (\u001b[38;5;45mNone\u001b[0m, \u001b[38;5;34m14\u001b[0m, \u001b[38;5;34m18\u001b[0m, \u001b[38;5;34m128\u001b[0m)    │             \u001b[38;5;34m0\u001b[0m │\n",
       "├─────────────────────────────────┼────────────────────────┼───────────────┤\n",
       "│ flatten_1 (\u001b[38;5;33mFlatten\u001b[0m)             │ (\u001b[38;5;45mNone\u001b[0m, \u001b[38;5;34m32256\u001b[0m)          │             \u001b[38;5;34m0\u001b[0m │\n",
       "├─────────────────────────────────┼────────────────────────┼───────────────┤\n",
       "│ dense_4 (\u001b[38;5;33mDense\u001b[0m)                 │ (\u001b[38;5;45mNone\u001b[0m, \u001b[38;5;34m128\u001b[0m)            │     \u001b[38;5;34m4,128,896\u001b[0m │\n",
       "├─────────────────────────────────┼────────────────────────┼───────────────┤\n",
       "│ leaky_re_lu_9 (\u001b[38;5;33mLeakyReLU\u001b[0m)       │ (\u001b[38;5;45mNone\u001b[0m, \u001b[38;5;34m128\u001b[0m)            │             \u001b[38;5;34m0\u001b[0m │\n",
       "├─────────────────────────────────┼────────────────────────┼───────────────┤\n",
       "│ dropout_4 (\u001b[38;5;33mDropout\u001b[0m)             │ (\u001b[38;5;45mNone\u001b[0m, \u001b[38;5;34m128\u001b[0m)            │             \u001b[38;5;34m0\u001b[0m │\n",
       "├─────────────────────────────────┼────────────────────────┼───────────────┤\n",
       "│ dense_5 (\u001b[38;5;33mDense\u001b[0m)                 │ (\u001b[38;5;45mNone\u001b[0m, \u001b[38;5;34m64\u001b[0m)             │         \u001b[38;5;34m8,256\u001b[0m │\n",
       "├─────────────────────────────────┼────────────────────────┼───────────────┤\n",
       "│ leaky_re_lu_10 (\u001b[38;5;33mLeakyReLU\u001b[0m)      │ (\u001b[38;5;45mNone\u001b[0m, \u001b[38;5;34m64\u001b[0m)             │             \u001b[38;5;34m0\u001b[0m │\n",
       "├─────────────────────────────────┼────────────────────────┼───────────────┤\n",
       "│ dense_6 (\u001b[38;5;33mDense\u001b[0m)                 │ (\u001b[38;5;45mNone\u001b[0m, \u001b[38;5;34m46\u001b[0m)             │         \u001b[38;5;34m2,990\u001b[0m │\n",
       "└─────────────────────────────────┴────────────────────────┴───────────────┘\n"
      ]
     },
     "metadata": {},
     "output_type": "display_data"
    },
    {
     "data": {
      "text/html": [
       "<pre style=\"white-space:pre;overflow-x:auto;line-height:normal;font-family:Menlo,'DejaVu Sans Mono',consolas,'Courier New',monospace\"><span style=\"font-weight: bold\"> Total params: </span><span style=\"color: #00af00; text-decoration-color: #00af00\">13,086,668</span> (49.92 MB)\n",
       "</pre>\n"
      ],
      "text/plain": [
       "\u001b[1m Total params: \u001b[0m\u001b[38;5;34m13,086,668\u001b[0m (49.92 MB)\n"
      ]
     },
     "metadata": {},
     "output_type": "display_data"
    },
    {
     "data": {
      "text/html": [
       "<pre style=\"white-space:pre;overflow-x:auto;line-height:normal;font-family:Menlo,'DejaVu Sans Mono',consolas,'Courier New',monospace\"><span style=\"font-weight: bold\"> Trainable params: </span><span style=\"color: #00af00; text-decoration-color: #00af00\">4,362,222</span> (16.64 MB)\n",
       "</pre>\n"
      ],
      "text/plain": [
       "\u001b[1m Trainable params: \u001b[0m\u001b[38;5;34m4,362,222\u001b[0m (16.64 MB)\n"
      ]
     },
     "metadata": {},
     "output_type": "display_data"
    },
    {
     "data": {
      "text/html": [
       "<pre style=\"white-space:pre;overflow-x:auto;line-height:normal;font-family:Menlo,'DejaVu Sans Mono',consolas,'Courier New',monospace\"><span style=\"font-weight: bold\"> Non-trainable params: </span><span style=\"color: #00af00; text-decoration-color: #00af00\">0</span> (0.00 B)\n",
       "</pre>\n"
      ],
      "text/plain": [
       "\u001b[1m Non-trainable params: \u001b[0m\u001b[38;5;34m0\u001b[0m (0.00 B)\n"
      ]
     },
     "metadata": {},
     "output_type": "display_data"
    },
    {
     "data": {
      "text/html": [
       "<pre style=\"white-space:pre;overflow-x:auto;line-height:normal;font-family:Menlo,'DejaVu Sans Mono',consolas,'Courier New',monospace\"><span style=\"font-weight: bold\"> Optimizer params: </span><span style=\"color: #00af00; text-decoration-color: #00af00\">8,724,446</span> (33.28 MB)\n",
       "</pre>\n"
      ],
      "text/plain": [
       "\u001b[1m Optimizer params: \u001b[0m\u001b[38;5;34m8,724,446\u001b[0m (33.28 MB)\n"
      ]
     },
     "metadata": {},
     "output_type": "display_data"
    }
   ],
   "source": [
    "from tensorflow.keras.models import load_model\n",
    "\n",
    "model = load_model('../models/Best_Model_1.keras')\n",
    "model.summary()"
   ]
  },
  {
   "cell_type": "code",
   "execution_count": 6,
   "id": "b9559416-5ec9-4d37-9959-9c3d48cbd5ae",
   "metadata": {},
   "outputs": [],
   "source": [
    "def random_int(shape=[], minval=0, maxval=1):\n",
    "    return tf.random.uniform(shape=shape, minval=minval, maxval=maxval, dtype=tf.int32)\n",
    "\n",
    "# Generats random float\n",
    "def random_float(shape=[], minval=0.0, maxval=1.0):\n",
    "    rnd = tf.random.uniform(shape=shape, minval=minval, maxval=maxval, dtype=tf.float32)\n",
    "    return rnd\n",
    "\n",
    "def load_spectrogram_slice(hdf5_path, name, start_row = 0, end_row =None, start_col = 0, end_col = None):\n",
    "    with h5py.File(hdf5_path, 'r') as f:\n",
    "        spectrogram_slice = f[name][start_row:end_row, start_col:end_col]\n",
    "    return spectrogram_slice\n",
    "\n",
    "def pad_spectrogram(spec, shape = cfg.input_dim, random = False):\n",
    "    _ = np.zeros(shape)\n",
    "    if random:\n",
    "        rdm = random_int(maxval=shape[1]-spec.shape[1])\n",
    "        _[:,rdm: rdm + spec.shape[1]] = spec \n",
    "    else:\n",
    "        _[:,:spec.shape[1]] = spec\n",
    "    return _\n",
    "\n",
    "def predict_file(df, ID, model):\n",
    "    name = df.spectrogram.iloc[ID]\n",
    "    hdf5_path = os.path.dirname(df.fullfilename.iloc[ID]) + \"/spectrograms.h5\"\n",
    "    spec_length = df.length_spectrogram.iloc[ID]\n",
    "    spec = load_spectrogram_slice(hdf5_path, name)\n",
    "    if spec_length < cfg.input_dim[1]:\n",
    "        spec = pad_spectrogram(spec, shape = cfg.input_dim, random = True)\n",
    "        preds = model.predict(np.expand_dims([spec], axis = -1), verbose=0)\n",
    "        return np.mean(preds, axis = 0) # return mean prediction\n",
    "    slices = []\n",
    "    k = 0\n",
    "    for i in range(spec_length//cfg.input_dim[1]):\n",
    "        k = i\n",
    "        slices.append(spec[:,i*cfg.input_dim[1]:(i+1)*cfg.input_dim[1]])\n",
    "    if spec_length%cfg.input_dim[1]/cfg.input_dim[1] > 5/cfg.duration:\n",
    "        # consider last slice, only if it is longer than the shortest clips in the dataset \n",
    "        slices.append(pad_spectrogram(spec[:, (k+1)*cfg.input_dim[1]:None], random = True))\n",
    "    \n",
    "    \n",
    "    preds = model.predict(np.expand_dims(np.array(slices), axis = -1), verbose=0)\n",
    "    \n",
    "    return np.mean(preds, axis = 0) # return mean prediction\n"
   ]
  },
  {
   "cell_type": "code",
   "execution_count": 7,
   "id": "d315561b-6147-483d-95c7-c3be6984e56f",
   "metadata": {},
   "outputs": [
    {
     "name": "stderr",
     "output_type": "stream",
     "text": [
      "100%|█████████████████████████████████████| 11100/11100 [10:20<00:00, 17.89it/s]\n"
     ]
    }
   ],
   "source": [
    "predictions_train = []\n",
    "for j in tqdm(df_train.index):\n",
    "    predictions_train.append(predict_file(df_train, j, model))"
   ]
  },
  {
   "cell_type": "code",
   "execution_count": 8,
   "id": "fa2264d5-0ae2-49ea-bad9-6237056f1fac",
   "metadata": {},
   "outputs": [
    {
     "name": "stderr",
     "output_type": "stream",
     "text": [
      "100%|███████████████████████████████████████| 2776/2776 [02:57<00:00, 15.61it/s]\n"
     ]
    }
   ],
   "source": [
    "predictions_val = []\n",
    "for j in tqdm(df_val.index):\n",
    "    predictions_val.append(predict_file(df_val, j, model))"
   ]
  },
  {
   "cell_type": "code",
   "execution_count": 10,
   "id": "72de6c96-f684-46ca-98cf-cd82b8580b85",
   "metadata": {},
   "outputs": [],
   "source": [
    "preds_train = np.array(predictions_train)\n",
    "preds_class_train = np.argmax(preds_train, axis=1)\n",
    "one_hot_pred_train = np.zeros_like(preds_train)\n",
    "one_hot_pred_train[np.arange(len(preds_class_train)), preds_class_train] = 1"
   ]
  },
  {
   "cell_type": "code",
   "execution_count": 11,
   "id": "7916065d-0e32-462d-99ea-93041d0ea1f6",
   "metadata": {},
   "outputs": [],
   "source": [
    "preds_val = np.array(predictions_val)\n",
    "preds_class_val = np.argmax(preds_val, axis=1)\n",
    "one_hot_pred_val = np.zeros_like(preds_val)\n",
    "one_hot_pred_val[np.arange(len(preds_class_val)), preds_class_val] = 1"
   ]
  },
  {
   "cell_type": "code",
   "execution_count": 12,
   "id": "9c4b7c97-fc47-4d2d-93f7-359c079dcd6c",
   "metadata": {},
   "outputs": [],
   "source": [
    "true_label_train = df_train.label\n",
    "true_label_train = np.array(true_label_train)\n",
    "from tensorflow.keras.utils import to_categorical\n",
    "trues_train = to_categorical(true_label_train)"
   ]
  },
  {
   "cell_type": "code",
   "execution_count": 13,
   "id": "fd883999-6c64-4746-aa38-d74d7e4c9d87",
   "metadata": {},
   "outputs": [],
   "source": [
    "true_label_val = df_val.label\n",
    "true_label_val = np.array(true_label_val)\n",
    "from tensorflow.keras.utils import to_categorical\n",
    "trues_val = to_categorical(true_label_val)"
   ]
  },
  {
   "cell_type": "code",
   "execution_count": 14,
   "id": "da881475-4967-42fa-a4c1-fb1ba55610ac",
   "metadata": {},
   "outputs": [],
   "source": [
    "from sklearn.metrics import confusion_matrix, classification_report"
   ]
  },
  {
   "cell_type": "code",
   "execution_count": 57,
   "id": "05469c45-7e71-4927-874f-640dc251a48d",
   "metadata": {},
   "outputs": [
    {
     "data": {
      "text/plain": [
       "0.8505043227665706"
      ]
     },
     "execution_count": 57,
     "metadata": {},
     "output_type": "execute_result"
    }
   ],
   "source": [
    "len(preds_class_val[preds_class_val == true_label_val])/len(preds_class_val)"
   ]
  },
  {
   "cell_type": "code",
   "execution_count": 64,
   "id": "038b39fe-d540-40bb-ae19-e800a6afa1fb",
   "metadata": {},
   "outputs": [
    {
     "data": {
      "text/plain": [
       "0.035662824207492796"
      ]
     },
     "execution_count": 64,
     "metadata": {},
     "output_type": "execute_result"
    }
   ],
   "source": [
    "99/len(df_val)"
   ]
  },
  {
   "cell_type": "code",
   "execution_count": null,
   "id": "441ea0dd-5e14-4c9a-8e15-eee7f4c079fb",
   "metadata": {},
   "outputs": [],
   "source": [
    "def plot_confusion_matrix(cm, classes,\n",
    "                          normalize=True,\n",
    "                          title='Confusion matrix',\n",
    "                          cmap=plt.cm.Blues):\n",
    "    \"\"\"\n",
    "    This function prints and plots the confusion matrix.\n",
    "    Normalization can be applied by setting `normalize=True`.\n",
    "    \"\"\"\n",
    "    plt.imshow(cm, interpolation='nearest', cmap=cmap)\n",
    "    plt.title(title)\n",
    "    plt.colorbar()\n",
    "    #tick_marks = np.arange(len(classes))\n",
    "    #plt.xticks(tick_marks, classes, rotation=45)\n",
    "    #plt.yticks(tick_marks, classes)\n",
    "\n",
    "    if normalize:\n",
    "        cm = cm.astype('float') / cm.sum(axis=1)[:, np.newaxis]\n",
    "\n",
    "    # Loop over data dimensions and create text annotations.\n",
    "    fmt = '.2f' if normalize else 'd'\n",
    "    thresh = cm.max() / 2.\n",
    "    for i, j in itertools.product(range(cm.shape[0]), range(cm.shape[1])):\n",
    "        #plt.text(j, i, format(cm[i, j], fmt),\n",
    "                 horizontalalignment=\"center\",\n",
    "                 color=\"white\" if cm[i, j] > thresh else \"black\")\n",
    "\n",
    "    plt.tight_layout()\n",
    "    #plt.ylabel('True label')\n",
    "    #plt.xlabel('Predicted label')"
   ]
  },
  {
   "cell_type": "code",
   "execution_count": 53,
   "id": "124129c9-5e8d-4963-95df-41b177f2c6a8",
   "metadata": {},
   "outputs": [],
   "source": [
    "cm = confusion_matrix(true_label_val, np.argmax(preds_val, axis = 1), normalize = \"true\")\n",
    "\n",
    "plt.imshow(cm, interpolation='nearest', cmap=\"viridis\")\n",
    "plt.colorbar()\n",
    "plt.ylabel('True label')\n",
    "plt.xlabel('Predicted label')\n",
    "\n",
    "plt.savefig(\"../../plots/Confusion.pdf\")\n",
    "plt.close()"
   ]
  },
  {
   "cell_type": "code",
   "execution_count": null,
   "id": "185e1a78-d757-4f61-84e9-5b662397b138",
   "metadata": {},
   "outputs": [],
   "source": [
    "import itertools\n",
    "plt.figure(figsize = (30, 30))\n",
    "plot_confusion_matrix(confusion_mtx, cfg.names,\n",
    "                          normalize=True,\n",
    "                          title='Confusion matrix',\n",
    "                          cmap=plt.cm.Blues)"
   ]
  },
  {
   "cell_type": "code",
   "execution_count": 34,
   "id": "8321adcc-4b91-4884-aabf-583ba90191dd",
   "metadata": {},
   "outputs": [
    {
     "ename": "NameError",
     "evalue": "name 'trues' is not defined",
     "output_type": "error",
     "traceback": [
      "\u001b[0;31m---------------------------------------------------------------------------\u001b[0m",
      "\u001b[0;31mNameError\u001b[0m                                 Traceback (most recent call last)",
      "Cell \u001b[0;32mIn[34], line 5\u001b[0m\n\u001b[1;32m      1\u001b[0m plt\u001b[38;5;241m.\u001b[39mfigure(figsize\u001b[38;5;241m=\u001b[39m(\u001b[38;5;241m6.5\u001b[39m, \u001b[38;5;241m4.5\u001b[39m))\n\u001b[1;32m      3\u001b[0m classnr \u001b[38;5;241m=\u001b[39m \u001b[38;5;241m2\u001b[39m\n\u001b[0;32m----> 5\u001b[0m _, bins, _ \u001b[38;5;241m=\u001b[39m plt\u001b[38;5;241m.\u001b[39mhist(preds_val[:, classnr][\u001b[43mtrues\u001b[49m[:, classnr] \u001b[38;5;241m==\u001b[39m \u001b[38;5;241m1\u001b[39m], bins \u001b[38;5;241m=\u001b[39m \u001b[38;5;241m10\u001b[39m, color \u001b[38;5;241m=\u001b[39m \u001b[38;5;124m\"\u001b[39m\u001b[38;5;124mfirebrick\u001b[39m\u001b[38;5;124m\"\u001b[39m, edgecolor \u001b[38;5;241m=\u001b[39m \u001b[38;5;124m\"\u001b[39m\u001b[38;5;124mr\u001b[39m\u001b[38;5;124m\"\u001b[39m, \u001b[38;5;28mrange\u001b[39m \u001b[38;5;241m=\u001b[39m [\u001b[38;5;241m0\u001b[39m, \u001b[38;5;241m1\u001b[39m], density \u001b[38;5;241m=\u001b[39m \u001b[38;5;28;01mTrue\u001b[39;00m,\n\u001b[1;32m      6\u001b[0m                           label \u001b[38;5;241m=\u001b[39m \u001b[38;5;124mf\u001b[39m\u001b[38;5;124m\"\u001b[39m\u001b[38;5;124mTrue class \u001b[39m\u001b[38;5;132;01m{\u001b[39;00mclassnr\u001b[38;5;132;01m}\u001b[39;00m\u001b[38;5;124m\"\u001b[39m, alpha \u001b[38;5;241m=\u001b[39m \u001b[38;5;241m.8\u001b[39m)\n\u001b[1;32m      7\u001b[0m plt\u001b[38;5;241m.\u001b[39mhist(preds_val[:, classnr][trues[:, classnr] \u001b[38;5;241m!=\u001b[39m \u001b[38;5;241m1\u001b[39m], bins \u001b[38;5;241m=\u001b[39m bins, color \u001b[38;5;241m=\u001b[39m \u001b[38;5;124m\"\u001b[39m\u001b[38;5;124mroyalblue\u001b[39m\u001b[38;5;124m\"\u001b[39m, edgecolor \u001b[38;5;241m=\u001b[39m \u001b[38;5;124m\"\u001b[39m\u001b[38;5;124mb\u001b[39m\u001b[38;5;124m\"\u001b[39m, density \u001b[38;5;241m=\u001b[39m \u001b[38;5;28;01mTrue\u001b[39;00m, label \u001b[38;5;241m=\u001b[39m \u001b[38;5;124m\"\u001b[39m\u001b[38;5;124mNot class 0\u001b[39m\u001b[38;5;124m\"\u001b[39m, alpha \u001b[38;5;241m=\u001b[39m \u001b[38;5;241m.8\u001b[39m)\n\u001b[1;32m      8\u001b[0m \u001b[38;5;66;03m#plt.yscale(\"log\")\u001b[39;00m\n",
      "\u001b[0;31mNameError\u001b[0m: name 'trues' is not defined"
     ]
    },
    {
     "data": {
      "text/plain": [
       "<Figure size 650x450 with 0 Axes>"
      ]
     },
     "metadata": {},
     "output_type": "display_data"
    }
   ],
   "source": [
    "plt.figure(figsize=(6.5, 4.5))\n",
    "\n",
    "classnr = 2\n",
    "\n",
    "_, bins, _ = plt.hist(preds_val[:, classnr][trues[:, classnr] == 1], bins = 10, color = \"firebrick\", edgecolor = \"r\", range = [0, 1], density = True,\n",
    "                          label = f\"True class {classnr}\", alpha = .8)\n",
    "plt.hist(preds_val[:, classnr][trues[:, classnr] != 1], bins = bins, color = \"royalblue\", edgecolor = \"b\", density = True, label = \"Not class 0\", alpha = .8)\n",
    "#plt.yscale(\"log\")\n",
    "plt.xlabel(f\"Probability of being class {classnr}\")\n",
    "plt.ylabel(\"Counts [a.u.]\")\n",
    "plt.title(\"Probability distribution\", fontsize = 18)\n",
    "plt.legend()\n",
    "plt.tight_layout()"
   ]
  },
  {
   "cell_type": "code",
   "execution_count": null,
   "id": "e5b972c9-da3d-40e8-985a-a3a195e0bdfb",
   "metadata": {},
   "outputs": [],
   "source": [
    "print(len(preds_class[preds_class == true_label])/len(preds_class))"
   ]
  },
  {
   "cell_type": "code",
   "execution_count": null,
   "id": "0bd5587b-20cf-44ca-86fe-39aecce62369",
   "metadata": {},
   "outputs": [],
   "source": [
    "def compute_spec(filepath, sr=cfg.sr, duration=cfg.duration, nfft=cfg.nfft, hop_length=cfg.hop_length, n_mels=cfg.n_mels, fmax=cfg.fmax):\n",
    "    audio, sr = librosa.load(filepath, sr = sr)\n",
    "    # randomly pad clip if shorter\n",
    "    if len(audio) < duration*sr:\n",
    "        _ = np.zeros(duration*sr)\n",
    "        rand_idx = np.random.randint(0, duration*sr-len(audio))\n",
    "        _[rand_idx:rand_idx + len(audio)] = audio\n",
    "        audio = _\n",
    "    mel_spectrogram = librosa.feature.melspectrogram(y=audio, sr=sr, n_fft=nfft, hop_length=hop_length, n_mels=n_mels, fmin = 0, fmax=fmax)\n",
    "    log_mel_spectrogram = librosa.power_to_db(mel_spectrogram)\n",
    "    return log_mel_spectrogram"
   ]
  },
  {
   "cell_type": "code",
   "execution_count": null,
   "id": "5e126d25-06c0-48c8-ba52-9381209db158",
   "metadata": {},
   "outputs": [],
   "source": [
    "file = \"../../data/own_recordings/Vogel_Terasse.mp3\""
   ]
  },
  {
   "cell_type": "code",
   "execution_count": null,
   "id": "e6faae96-3659-48fa-8d6d-8ee5a6d07744",
   "metadata": {},
   "outputs": [],
   "source": [
    "spec = compute_spec(file)\n",
    "audio, sr = librosa.load(file, sr = cfg.sr)"
   ]
  },
  {
   "cell_type": "code",
   "execution_count": null,
   "id": "cf767424-3433-4cbe-b93b-84a949ee2d7f",
   "metadata": {},
   "outputs": [],
   "source": [
    "fig, ax = plt.subplots(1,1)\n",
    "librosa.display.specshow(spec, sr=cfg.sr, hop_length=cfg.hop_length,\n",
    "                         x_axis='time', ax=ax)"
   ]
  },
  {
   "cell_type": "code",
   "execution_count": null,
   "id": "998cb604-80b5-4c87-8750-3dc89deb9ce0",
   "metadata": {},
   "outputs": [],
   "source": [
    "Audio(audio, rate = sr)"
   ]
  },
  {
   "cell_type": "code",
   "execution_count": null,
   "id": "f01b7185-a3d2-4f8d-9319-8dd4a811600b",
   "metadata": {},
   "outputs": [],
   "source": [
    "def predict_spec(spec, model):\n",
    "    slices = []\n",
    "    spec_length = spec.shape[1]\n",
    "    for i in range(spec_length//cfg.input_dim[1]):\n",
    "        slices.append(spec[:,i*cfg.input_dim[1]:(i+1)*cfg.input_dim[1]])\n",
    "    if spec_length%cfg.input_dim[1]/cfg.input_dim[1] > 5/cfg.duration:\n",
    "        # consider last slice, only if it is longer than the shortest clips in the dataset \n",
    "        slices.append(pad_spectrogram(spec[:, (i+1)*cfg.input_dim[1]:None], random = True))\n",
    "    \n",
    "    preds = model.predict(np.expand_dims(np.array(slices), axis = -1))\n",
    "    return np.mean(preds, axis = 0) # return mean prediction"
   ]
  },
  {
   "cell_type": "code",
   "execution_count": null,
   "id": "fb00b822-b8c0-40d5-b3e0-553188744c8d",
   "metadata": {},
   "outputs": [],
   "source": [
    "np.argsort(predict_spec(spec, model))"
   ]
  },
  {
   "cell_type": "code",
   "execution_count": null,
   "id": "aa864fda-3f71-4921-ac51-ac1546bcc1d8",
   "metadata": {},
   "outputs": [],
   "source": [
    "cfg.label2name[16]"
   ]
  },
  {
   "cell_type": "code",
   "execution_count": null,
   "id": "35b9a2f1-7d23-4a32-9cc3-68ff0f5407a4",
   "metadata": {},
   "outputs": [],
   "source": [
    "df[df.label == 4]"
   ]
  },
  {
   "cell_type": "code",
   "execution_count": 35,
   "id": "23e3900b-fcc4-43c5-ad3d-04e3d674fc5c",
   "metadata": {},
   "outputs": [],
   "source": [
    "df_new = pd.read_csv(\"../models/Best_Model_1_log.csv\")"
   ]
  },
  {
   "cell_type": "code",
   "execution_count": 38,
   "id": "738b8645-9179-488f-82d7-695aa72ba4fa",
   "metadata": {},
   "outputs": [
    {
     "data": {
      "text/html": [
       "<div>\n",
       "<style scoped>\n",
       "    .dataframe tbody tr th:only-of-type {\n",
       "        vertical-align: middle;\n",
       "    }\n",
       "\n",
       "    .dataframe tbody tr th {\n",
       "        vertical-align: top;\n",
       "    }\n",
       "\n",
       "    .dataframe thead th {\n",
       "        text-align: right;\n",
       "    }\n",
       "</style>\n",
       "<table border=\"1\" class=\"dataframe\">\n",
       "  <thead>\n",
       "    <tr style=\"text-align: right;\">\n",
       "      <th></th>\n",
       "      <th>epoch</th>\n",
       "      <th>accuracy</th>\n",
       "      <th>loss</th>\n",
       "      <th>val_accuracy</th>\n",
       "      <th>val_loss</th>\n",
       "    </tr>\n",
       "  </thead>\n",
       "  <tbody>\n",
       "    <tr>\n",
       "      <th>0</th>\n",
       "      <td>0</td>\n",
       "      <td>0.079039</td>\n",
       "      <td>3.518565</td>\n",
       "      <td>0.252907</td>\n",
       "      <td>2.641062</td>\n",
       "    </tr>\n",
       "    <tr>\n",
       "      <th>1</th>\n",
       "      <td>1</td>\n",
       "      <td>0.298659</td>\n",
       "      <td>2.457076</td>\n",
       "      <td>0.459666</td>\n",
       "      <td>2.014435</td>\n",
       "    </tr>\n",
       "    <tr>\n",
       "      <th>2</th>\n",
       "      <td>2</td>\n",
       "      <td>0.402681</td>\n",
       "      <td>2.093218</td>\n",
       "      <td>0.506177</td>\n",
       "      <td>1.788356</td>\n",
       "    </tr>\n",
       "    <tr>\n",
       "      <th>3</th>\n",
       "      <td>3</td>\n",
       "      <td>0.464485</td>\n",
       "      <td>1.886614</td>\n",
       "      <td>0.567587</td>\n",
       "      <td>1.581876</td>\n",
       "    </tr>\n",
       "    <tr>\n",
       "      <th>4</th>\n",
       "      <td>4</td>\n",
       "      <td>0.510098</td>\n",
       "      <td>1.714994</td>\n",
       "      <td>0.615189</td>\n",
       "      <td>1.413678</td>\n",
       "    </tr>\n",
       "  </tbody>\n",
       "</table>\n",
       "</div>"
      ],
      "text/plain": [
       "   epoch  accuracy      loss  val_accuracy  val_loss\n",
       "0      0  0.079039  3.518565      0.252907  2.641062\n",
       "1      1  0.298659  2.457076      0.459666  2.014435\n",
       "2      2  0.402681  2.093218      0.506177  1.788356\n",
       "3      3  0.464485  1.886614      0.567587  1.581876\n",
       "4      4  0.510098  1.714994      0.615189  1.413678"
      ]
     },
     "execution_count": 38,
     "metadata": {},
     "output_type": "execute_result"
    }
   ],
   "source": [
    "df_new.head()"
   ]
  },
  {
   "cell_type": "code",
   "execution_count": 54,
   "id": "2e60c30c-aa02-4ad7-8a85-7927ce22f2c9",
   "metadata": {},
   "outputs": [],
   "source": [
    "fig, ax = plt.subplots()\n",
    "\n",
    "ax.plot(df_new[\"epoch\"], df_new.val_accuracy, label = \"Validation Accuracy\", color = \"chartreuse\")\n",
    "ax.plot(df_new[\"epoch\"], df_new.accuracy, label = \"Accuracy\", color = \"fuchsia\")\n",
    "\n",
    "ax.set_xlabel(\"Epoch\")\n",
    "ax.set_ylabel(\"Accuracy\")\n",
    "ax.legend()\n",
    "\n",
    "ax.set_xlim(0,42)\n",
    "\n",
    "fig.savefig(\"../../plots/acc.pdf\")\n",
    "plt.close()\n"
   ]
  },
  {
   "cell_type": "code",
   "execution_count": null,
   "id": "982f0200-980d-4911-848e-6903525a0332",
   "metadata": {},
   "outputs": [],
   "source": []
  }
 ],
 "metadata": {
  "kernelspec": {
   "display_name": "Python 3 (ipykernel)",
   "language": "python",
   "name": "python3"
  },
  "language_info": {
   "codemirror_mode": {
    "name": "ipython",
    "version": 3
   },
   "file_extension": ".py",
   "mimetype": "text/x-python",
   "name": "python",
   "nbconvert_exporter": "python",
   "pygments_lexer": "ipython3",
   "version": "3.9.19"
  }
 },
 "nbformat": 4,
 "nbformat_minor": 5
}

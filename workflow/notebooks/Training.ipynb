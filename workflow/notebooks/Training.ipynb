{
 "cells": [
  {
   "cell_type": "code",
   "execution_count": 1,
   "id": "eed5527e-ddf7-4368-8973-27cc0ed6e2a2",
   "metadata": {},
   "outputs": [
    {
     "name": "stderr",
     "output_type": "stream",
     "text": [
      "2024-06-24 22:36:50.912895: E external/local_xla/xla/stream_executor/cuda/cuda_dnn.cc:9261] Unable to register cuDNN factory: Attempting to register factory for plugin cuDNN when one has already been registered\n",
      "2024-06-24 22:36:50.912948: E external/local_xla/xla/stream_executor/cuda/cuda_fft.cc:607] Unable to register cuFFT factory: Attempting to register factory for plugin cuFFT when one has already been registered\n",
      "2024-06-24 22:36:50.914066: E external/local_xla/xla/stream_executor/cuda/cuda_blas.cc:1515] Unable to register cuBLAS factory: Attempting to register factory for plugin cuBLAS when one has already been registered\n",
      "2024-06-24 22:36:50.921270: I tensorflow/core/platform/cpu_feature_guard.cc:182] This TensorFlow binary is optimized to use available CPU instructions in performance-critical operations.\n",
      "To enable the following instructions: AVX2 FMA, in other operations, rebuild TensorFlow with the appropriate compiler flags.\n",
      "2024-06-24 22:36:51.758064: W tensorflow/compiler/tf2tensorrt/utils/py_utils.cc:38] TF-TRT Warning: Could not find TensorRT\n"
     ]
    }
   ],
   "source": [
    "import pandas as pd\n",
    "import numpy as np\n",
    "import random\n",
    "from tqdm import tqdm\n",
    "\n",
    "import tensorflow as tf\n",
    "# Set logging level to avoid unnecessary messages\n",
    "tf.get_logger().setLevel('ERROR')\n",
    "# Set autograph verbosity to avoid unnecessary messages\n",
    "tf.autograph.set_verbosity(0)\n",
    "\n",
    "import keras\n",
    "import tensorflow_io as tfio\n",
    "import tensorflow_probability as tfp\n",
    "import tensorflow_extra as tfe\n",
    "\n",
    "import matplotlib.pyplot as plt\n",
    "import librosa\n",
    "import librosa.display\n",
    "from IPython.display import Audio\n",
    "\n",
    "from pathlib import Path\n",
    "import sys\n",
    "import os\n",
    "import time\n",
    "import warnings\n",
    "# suppress all warnings\n",
    "warnings.filterwarnings(\"ignore\")\n",
    "\n",
    "XC_ROOTDIR = '../../data/' # directory to save data in\n",
    "XC_DIR = 'test_dataset10' # subdirectory name of dataset"
   ]
  },
  {
   "cell_type": "code",
   "execution_count": 2,
   "id": "a2cbf84f-179c-447d-b89c-73e6040f578f",
   "metadata": {},
   "outputs": [
    {
     "name": "stdout",
     "output_type": "stream",
     "text": [
      "Num GPUs Available:  1\n"
     ]
    },
    {
     "name": "stderr",
     "output_type": "stream",
     "text": [
      "2024-06-24 22:36:53.433840: I external/local_xla/xla/stream_executor/cuda/cuda_executor.cc:887] could not open file to read NUMA node: /sys/bus/pci/devices/0000:01:00.0/numa_node\n",
      "Your kernel may have been built without NUMA support.\n",
      "2024-06-24 22:36:53.470351: I external/local_xla/xla/stream_executor/cuda/cuda_executor.cc:887] could not open file to read NUMA node: /sys/bus/pci/devices/0000:01:00.0/numa_node\n",
      "Your kernel may have been built without NUMA support.\n",
      "2024-06-24 22:36:53.470712: I external/local_xla/xla/stream_executor/cuda/cuda_executor.cc:887] could not open file to read NUMA node: /sys/bus/pci/devices/0000:01:00.0/numa_node\n",
      "Your kernel may have been built without NUMA support.\n"
     ]
    }
   ],
   "source": [
    "print(\"Num GPUs Available: \", len(tf.config.list_physical_devices('GPU')))"
   ]
  },
  {
   "cell_type": "markdown",
   "id": "1a93dfa1-a557-4206-9836-49c10ae02877",
   "metadata": {},
   "source": [
    "### Load dataset"
   ]
  },
  {
   "cell_type": "code",
   "execution_count": 3,
   "id": "234b8fa7-8b0c-434c-935d-5069b33e719f",
   "metadata": {},
   "outputs": [],
   "source": [
    "df = pd.read_csv(\"../../data/dataset10.csv\")\n",
    "df[\"fullfilename\"] = \"../\" + df[\"fullfilename\"]"
   ]
  },
  {
   "cell_type": "markdown",
   "id": "4f02a437-8b42-4f84-9af4-187e63d38c3b",
   "metadata": {},
   "source": [
    "### Configurations"
   ]
  },
  {
   "cell_type": "code",
   "execution_count": 4,
   "id": "65a253a1-018b-4adf-99ba-cac2657d8938",
   "metadata": {},
   "outputs": [],
   "source": [
    "class cfg:\n",
    "    seed = 42\n",
    "\n",
    "    # audio clip settings\n",
    "    sr = 22050 # the target sampling rate\n",
    "    duration = 15 # the duration of the clips\n",
    "    n_samples = duration*sr\n",
    "    hop_length = 2048 # \"stepsize\" of the fft for the melspectrograms\n",
    "    nfft = 4096 # windowsize of the fft for the melspectrograms\n",
    "    n_mels = 128 # number of mel frequency bins\n",
    "    fmax = sr/2 # maximum frequency in the melspectrograms\n",
    "    input_dim = (int(duration*sr/hop_length + 1), n_mels)\n",
    "\n",
    "    # class labels/names\n",
    "    names = list(np.unique(df.en))\n",
    "    n_classes = len(names)\n",
    "    labels = list(range(n_classes))\n",
    "    label2name = dict(zip(labels, names))\n",
    "    name2label = {v:k for k,v in label2name.items()}\n",
    "\n",
    "tf.keras.utils.set_random_seed(cfg.seed)"
   ]
  },
  {
   "cell_type": "markdown",
   "id": "81625d99-bb29-41f4-a279-46799649245d",
   "metadata": {},
   "source": [
    "## Data generator"
   ]
  },
  {
   "cell_type": "code",
   "execution_count": 5,
   "id": "eda7fae5-3a72-4085-bdf2-0860efcbd8ca",
   "metadata": {},
   "outputs": [],
   "source": [
    "# Generates random integer # from https://www.kaggle.com/code/wengsilu/birdclef24pretraining\n",
    "def random_int(shape=[], minval=0, maxval=1):\n",
    "    return tf.random.uniform(shape=shape, minval=minval, maxval=maxval, dtype=tf.int32)\n",
    "\n",
    "# Generats random float\n",
    "def random_float(shape=[], minval=0.0, maxval=1.0):\n",
    "    rnd = tf.random.uniform(shape=shape, minval=minval, maxval=maxval, dtype=tf.float32)\n",
    "    return rnd"
   ]
  },
  {
   "cell_type": "code",
   "execution_count": 6,
   "id": "698ac411-8799-4a72-ab09-4815999bd3bb",
   "metadata": {},
   "outputs": [],
   "source": [
    " def decode(filepath):\n",
    "        # read audio\n",
    "        #try:\n",
    "        audio = tfio.audio.AudioIOTensor(filepath, dtype = tf.float32) # lazy load the file\n",
    "        #except Exception as e:\n",
    "        #    print(f\"Error loading audio file {filepath} with TensorFlow I/O: {e}\")\n",
    "        #    print(\"Proceeding to slow load file\")\n",
    "        #    return slow_load(filepath)\n",
    "        #if audio.shape[0] == 0:\n",
    "        #    print(f\"Failed to load audio file {filepath.numpy} with TensorFlow I/O: shape[0] = 0\")\n",
    "        #    print(\"Proceeding to slow load file\")\n",
    "        #    return slow_load(filepath)\n",
    "        \n",
    "        rate = audio.rate\n",
    "        # cut out clip of specified duration at random position\n",
    "        num_samples = cfg.duration*rate\n",
    "        length = tf.cast(audio.shape[0], tf.int32)\n",
    "        if num_samples < length:\n",
    "            rdm = random_int(maxval = length - num_samples)\n",
    "            audio = audio[rdm:rdm+num_samples]\n",
    "        else:\n",
    "            audio = audio.to_tensor()\n",
    "        audio = tf.cast(audio, tf.float32)\n",
    "        # resample if necessary\n",
    "        audio = tfio.audio.resample(audio, tf.cast(rate, tf.int64), cfg.sr) if rate != cfg.sr else audio\n",
    "        # remove noise (tfio.audio.split() or tfio.audio.trim()?)# can't do this when the clip is already cut\n",
    "        # stereo to mono\n",
    "        audio = tf.reduce_mean(audio, axis=-1) if tf.shape(audio)[-1] == 2 else tf.squeeze(audio, axis = -1)\n",
    "        # pad if necessary\n",
    "        if tf.size(audio) < cfg.desired_length:\n",
    "            missing = cfg.desired_length - tf.size(audio)\n",
    "            rdm = random_int(maxval = missing)\n",
    "            audio = tf.pad(audio, [[rdm, missing-rdm]]) # pad rdm zeros left and missing-rdm zeros rigth\n",
    "        audio = tf.reshape(audio, [cfg.sr*cfg.duration])\n",
    "        return audio\n",
    "\n",
    "class DataGenerator(keras.utils.Sequence):\n",
    "    'Generates data for Keras'\n",
    "    def __init__(self, list_IDs, labels, batch_size=16, \n",
    "                 dim=cfg.input_dim,\n",
    "                 n_channels =  1,\n",
    "                 n_classes=cfg.n_classes, shuffle=True):\n",
    "        'Initialization'\n",
    "        self.dim = dim\n",
    "        self.n_channels = n_channels\n",
    "        self.batch_size = batch_size\n",
    "        self.labels = labels\n",
    "        self.list_IDs = list_IDs\n",
    "        self.n_classes = n_classes\n",
    "        self.shuffle = shuffle\n",
    "        self.on_epoch_end()\n",
    "\n",
    "    def __len__(self):\n",
    "        'Denotes the number of batches per epoch'\n",
    "        return int(np.floor(len(self.list_IDs) / self.batch_size))\n",
    "\n",
    "    def __getitem__(self, index):\n",
    "        'Generate one batch of data'\n",
    "        # Generate indexes of the batch\n",
    "        indexes = self.indexes[index*self.batch_size:(index+1)*self.batch_size]\n",
    "\n",
    "        # Find list of IDs\n",
    "        list_IDs_temp = [self.list_IDs[k] for k in indexes]\n",
    "\n",
    "        # Generate data\n",
    "        X, y = self.__data_generation(list_IDs_temp)\n",
    "\n",
    "        return X, y\n",
    "\n",
    "    def on_epoch_end(self):\n",
    "        'Updates indexes after each epoch'\n",
    "        self.indexes = np.arange(len(self.list_IDs))\n",
    "        if self.shuffle == True:\n",
    "            np.random.shuffle(self.indexes)\n",
    "\n",
    "    def __data_generation(self, list_IDs_temp):\n",
    "        'Generates data containing batch_size samples' # X : (n_samples, *dim, n_channels)\n",
    "        # Initialization\n",
    "        X = np.empty((self.batch_size, *self.dim, self.n_channels))\n",
    "        y = np.empty((self.batch_size), dtype=int)\n",
    "        # Generate data\n",
    "        for i, ID in enumerate(list_IDs_temp):\n",
    "            # Store sample\n",
    "            X[i,] = tf.reshape(load_audio(df.iloc[ID].fullfilename), [*self.dim, self.n_channels])\n",
    "            #load_audio(df.iloc[ID].fullfilename).reshape(*self.dim, self.n_channels)\n",
    "            \n",
    "            # Store class\n",
    "            y[i] = cfg.name2label[df.iloc[ID].en]\n",
    "        X = X.reshape(len(X), *self.dim, self.n_channels)\n",
    "        return X, keras.utils.to_categorical(y, num_classes=self.n_classes)"
   ]
  },
  {
   "cell_type": "markdown",
   "id": "cd5b127a-c24b-444c-97f3-604833cbdc44",
   "metadata": {},
   "source": [
    "## Model"
   ]
  },
  {
   "cell_type": "code",
   "execution_count": 7,
   "id": "84699409-6239-4c51-8493-f280049f898d",
   "metadata": {},
   "outputs": [],
   "source": [
    "from keras.models import Sequential\n",
    "from tensorflow.keras.layers import Dense, Dropout, Activation, Flatten, Conv2D, MaxPooling2D\n",
    "\n",
    "# can't get this to work\n",
    "#melspec_layer = tfe.layers.MelSpectrogram(n_fft=cfg.nfft, \n",
    "#                                          hop_length=cfg.hop_length, \n",
    "#                                          sr=cfg.sr, \n",
    "#                                          fmin=0,\n",
    "#                                          fmax=cfg.fmax,\n",
    "#                                          )\n",
    "\n",
    "norm_layer = tfe.layers.ZScoreMinMax()\n",
    "\n",
    "def build_model():\n",
    "    model = Sequential()\n",
    "    #model.add(melspec_layer)\n",
    "    model.add(norm_layer)\n",
    "    model.add(Conv2D(32, kernel_size=(3, 3), padding='valid', activation='relu', input_shape=(int(cfg.duration*cfg.sr/cfg.hop_length + 1), cfg.n_mels, 1)))\n",
    "    model.add(Conv2D(64, kernel_size=(3, 3), padding='valid', activation='relu'))\n",
    "    model.add(Conv2D(128, kernel_size=(3, 3), padding='valid', activation='relu'))\n",
    "    model.add(MaxPooling2D(pool_size=(2, 2), padding=\"valid\"))\n",
    "    model.add(Dropout(0.4))\n",
    "    model.add(Flatten())\n",
    "    model.add(Dense(128, activation='relu'))\n",
    "    model.add(Dropout(0.25))\n",
    "    model.add(Dense(64, activation='relu'))\n",
    "    model.add(Dropout(0.25))\n",
    "    model.add(Dense(32, activation='relu'))\n",
    "    model.add(Dense(10, activation='softmax'))\n",
    "\n",
    "    model.compile(loss='categorical_crossentropy', optimizer='adam', metrics=['accuracy'])\n",
    "    #model.summary()\n",
    "    return model"
   ]
  },
  {
   "cell_type": "code",
   "execution_count": 8,
   "id": "430e52ab-4e3a-4cd9-a734-71f718821534",
   "metadata": {},
   "outputs": [
    {
     "name": "stderr",
     "output_type": "stream",
     "text": [
      "2024-06-24 22:36:53.600913: I external/local_xla/xla/stream_executor/cuda/cuda_executor.cc:887] could not open file to read NUMA node: /sys/bus/pci/devices/0000:01:00.0/numa_node\n",
      "Your kernel may have been built without NUMA support.\n",
      "2024-06-24 22:36:53.601253: I external/local_xla/xla/stream_executor/cuda/cuda_executor.cc:887] could not open file to read NUMA node: /sys/bus/pci/devices/0000:01:00.0/numa_node\n",
      "Your kernel may have been built without NUMA support.\n",
      "2024-06-24 22:36:53.601488: I external/local_xla/xla/stream_executor/cuda/cuda_executor.cc:887] could not open file to read NUMA node: /sys/bus/pci/devices/0000:01:00.0/numa_node\n",
      "Your kernel may have been built without NUMA support.\n",
      "2024-06-24 22:36:53.772125: I external/local_xla/xla/stream_executor/cuda/cuda_executor.cc:887] could not open file to read NUMA node: /sys/bus/pci/devices/0000:01:00.0/numa_node\n",
      "Your kernel may have been built without NUMA support.\n",
      "2024-06-24 22:36:53.772954: I external/local_xla/xla/stream_executor/cuda/cuda_executor.cc:887] could not open file to read NUMA node: /sys/bus/pci/devices/0000:01:00.0/numa_node\n",
      "Your kernel may have been built without NUMA support.\n",
      "2024-06-24 22:36:53.772989: I tensorflow/core/common_runtime/gpu/gpu_device.cc:2022] Could not identify NUMA node of platform GPU id 0, defaulting to 0.  Your kernel may not have been built with NUMA support.\n",
      "2024-06-24 22:36:53.773381: I external/local_xla/xla/stream_executor/cuda/cuda_executor.cc:887] could not open file to read NUMA node: /sys/bus/pci/devices/0000:01:00.0/numa_node\n",
      "Your kernel may have been built without NUMA support.\n",
      "2024-06-24 22:36:53.773417: I tensorflow/core/common_runtime/gpu/gpu_device.cc:1929] Created device /job:localhost/replica:0/task:0/device:GPU:0 with 4084 MB memory:  -> device: 0, name: NVIDIA GeForce GTX 1660 SUPER, pci bus id: 0000:01:00.0, compute capability: 7.5\n"
     ]
    }
   ],
   "source": [
    "model = build_model()"
   ]
  },
  {
   "cell_type": "code",
   "execution_count": 9,
   "id": "905a4b8f-d3a9-4696-bae4-048a1c36fe13",
   "metadata": {},
   "outputs": [],
   "source": [
    "from sklearn.model_selection import train_test_split\n",
    "\n",
    "id_train, id_val, y_train, y_val = train_test_split(range(300), df[\"en\"].to_list(), test_size = 0.3, random_state = cfg.seed)\n",
    "\n",
    "training_generator = DataGenerator(id_train, y_train)\n",
    "validation_generator = DataGenerator(id_val, y_val)"
   ]
  },
  {
   "cell_type": "code",
   "execution_count": null,
   "id": "4e073c0b-ad3c-43c0-841e-86891922c5bb",
   "metadata": {},
   "outputs": [
    {
     "name": "stderr",
     "output_type": "stream",
     "text": [
      "2024-06-24 22:36:54.350528: I tensorflow_io/core/kernels/cpu_check.cc:128] Your CPU supports instructions that this TensorFlow IO binary was not compiled to use: SSE3 SSE4.1 SSE4.2 AVX AVX2 FMA\n",
      "2024-06-24 22:36:54.355080: W tensorflow_io/core/kernels/audio_video_mp3_kernels.cc:271] libmp3lame.so.0 or lame functions are not available\n",
      "2024-06-24 22:36:55.132198: I external/local_tsl/tsl/platform/default/subprocess.cc:304] Start cannot spawn child process: No such file or directory\n",
      "2024-06-24 22:37:03.464237: I external/local_xla/xla/stream_executor/cuda/cuda_dnn.cc:454] Loaded cuDNN version 8904\n",
      "2024-06-24 22:37:03.603140: I external/local_tsl/tsl/platform/default/subprocess.cc:304] Start cannot spawn child process: No such file or directory\n",
      "2024-06-24 22:37:04.886531: W external/local_tsl/tsl/framework/bfc_allocator.cc:296] Allocator (GPU_0_bfc) ran out of memory trying to allocate 4.55GiB with freed_by_count=0. The caller indicates that this is not a failure, but this may mean that there could be performance gains if more memory were available.\n"
     ]
    },
    {
     "name": "stdout",
     "output_type": "stream",
     "text": [
      "Epoch 1/15\n"
     ]
    },
    {
     "name": "stderr",
     "output_type": "stream",
     "text": [
      "2024-06-24 22:37:05.258013: W external/local_tsl/tsl/framework/bfc_allocator.cc:296] Allocator (GPU_0_bfc) ran out of memory trying to allocate 4.55GiB with freed_by_count=0. The caller indicates that this is not a failure, but this may mean that there could be performance gains if more memory were available.\n",
      "2024-06-24 22:37:06.605587: E tensorflow/core/grappler/optimizers/meta_optimizer.cc:961] layout failed: INVALID_ARGUMENT: Size of values 0 does not match size of permutation 4 @ fanin shape insequential/dropout/dropout/SelectV2-2-TransposeNHWCToNCHW-LayoutOptimizer\n",
      "2024-06-24 22:37:06.766513: F external/local_xla/xla/stream_executor/cuda/cuda_driver.cc:156] Failed setting context: CUDA_ERROR_NOT_INITIALIZED: initialization error\n",
      "2024-06-24 22:37:06.801992: F external/local_xla/xla/stream_executor/cuda/cuda_driver.cc:156] Failed setting context: CUDA_ERROR_NOT_INITIALIZED: initialization error\n",
      "2024-06-24 22:37:06.863948: F external/local_xla/xla/stream_executor/cuda/cuda_driver.cc:156] Failed setting context: CUDA_ERROR_NOT_INITIALIZED: initialization error\n",
      "2024-06-24 22:37:06.932773: F external/local_xla/xla/stream_executor/cuda/cuda_driver.cc:156] Failed setting context: CUDA_ERROR_NOT_INITIALIZED: initialization error\n",
      "2024-06-24 22:37:06.969236: F external/local_xla/xla/stream_executor/cuda/cuda_driver.cc:156] Failed setting context: CUDA_ERROR_NOT_INITIALIZED: initialization error\n",
      "2024-06-24 22:37:07.005630: F external/local_xla/xla/stream_executor/cuda/cuda_driver.cc:156] Failed setting context: CUDA_ERROR_NOT_INITIALIZED: initialization error\n",
      "2024-06-24 22:37:07.043061: F external/local_xla/xla/stream_executor/cuda/cuda_driver.cc:156] Failed setting context: CUDA_ERROR_NOT_INITIALIZED: initialization error\n",
      "2024-06-24 22:37:07.084454: F external/local_xla/xla/stream_executor/cuda/cuda_driver.cc:156] Failed setting context: CUDA_ERROR_NOT_INITIALIZED: initialization error\n",
      "2024-06-24 22:37:07.123534: F external/local_xla/xla/stream_executor/cuda/cuda_driver.cc:156] Failed setting context: CUDA_ERROR_NOT_INITIALIZED: initialization error\n",
      "2024-06-24 22:37:07.162089: F external/local_xla/xla/stream_executor/cuda/cuda_driver.cc:156] Failed setting context: CUDA_ERROR_NOT_INITIALIZED: initialization error\n",
      "2024-06-24 22:37:07.202700: F external/local_xla/xla/stream_executor/cuda/cuda_driver.cc:156] Failed setting context: CUDA_ERROR_NOT_INITIALIZED: initialization error\n",
      "2024-06-24 22:37:07.239496: F external/local_xla/xla/stream_executor/cuda/cuda_driver.cc:156] Failed setting context: CUDA_ERROR_NOT_INITIALIZED: initialization error\n"
     ]
    }
   ],
   "source": [
    "hist = model.fit_generator(generator=training_generator,\n",
    "                    validation_data=validation_generator,\n",
    "                    use_multiprocessing=True, verbose = 2, epochs = 15)"
   ]
  },
  {
   "cell_type": "code",
   "execution_count": null,
   "id": "bef2beb2-e80a-4c90-b886-e22c9ee5baa8",
   "metadata": {},
   "outputs": [],
   "source": []
  }
 ],
 "metadata": {
  "kernelspec": {
   "display_name": "Python 3 (ipykernel)",
   "language": "python",
   "name": "python3"
  },
  "language_info": {
   "codemirror_mode": {
    "name": "ipython",
    "version": 3
   },
   "file_extension": ".py",
   "mimetype": "text/x-python",
   "name": "python",
   "nbconvert_exporter": "python",
   "pygments_lexer": "ipython3",
   "version": "3.11.9"
  }
 },
 "nbformat": 4,
 "nbformat_minor": 5
}

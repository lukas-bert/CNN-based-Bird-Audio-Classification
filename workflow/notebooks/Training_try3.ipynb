{
 "cells": [
  {
   "cell_type": "markdown",
   "id": "550aaee8-1bf2-472b-a4e5-26cc4069f836",
   "metadata": {},
   "source": [
    "# Yet another attempt to train a model that doesn't take ages\n",
    "## Strategy here: first compute and save all spectrograms, then sample from spectrograms for training\n",
    "\n",
    "### Imports"
   ]
  },
  {
   "cell_type": "code",
   "execution_count": 1,
   "id": "5b02f6b9-9184-4c2d-a389-5707f209ce9a",
   "metadata": {},
   "outputs": [
    {
     "name": "stderr",
     "output_type": "stream",
     "text": [
      "2024-07-04 16:35:59.854943: E external/local_xla/xla/stream_executor/cuda/cuda_dnn.cc:9261] Unable to register cuDNN factory: Attempting to register factory for plugin cuDNN when one has already been registered\n",
      "2024-07-04 16:35:59.854999: E external/local_xla/xla/stream_executor/cuda/cuda_fft.cc:607] Unable to register cuFFT factory: Attempting to register factory for plugin cuFFT when one has already been registered\n",
      "2024-07-04 16:35:59.856159: E external/local_xla/xla/stream_executor/cuda/cuda_blas.cc:1515] Unable to register cuBLAS factory: Attempting to register factory for plugin cuBLAS when one has already been registered\n",
      "2024-07-04 16:35:59.863207: I tensorflow/core/platform/cpu_feature_guard.cc:182] This TensorFlow binary is optimized to use available CPU instructions in performance-critical operations.\n",
      "To enable the following instructions: AVX2 FMA, in other operations, rebuild TensorFlow with the appropriate compiler flags.\n",
      "2024-07-04 16:36:00.812623: W tensorflow/compiler/tf2tensorrt/utils/py_utils.cc:38] TF-TRT Warning: Could not find TensorRT\n",
      "2024-07-04 16:36:02.718452: I external/local_xla/xla/stream_executor/cuda/cuda_executor.cc:887] could not open file to read NUMA node: /sys/bus/pci/devices/0000:01:00.0/numa_node\n",
      "Your kernel may have been built without NUMA support.\n",
      "2024-07-04 16:36:02.748761: I external/local_xla/xla/stream_executor/cuda/cuda_executor.cc:887] could not open file to read NUMA node: /sys/bus/pci/devices/0000:01:00.0/numa_node\n",
      "Your kernel may have been built without NUMA support.\n",
      "2024-07-04 16:36:02.749857: I external/local_xla/xla/stream_executor/cuda/cuda_executor.cc:887] could not open file to read NUMA node: /sys/bus/pci/devices/0000:01:00.0/numa_node\n",
      "Your kernel may have been built without NUMA support.\n"
     ]
    }
   ],
   "source": [
    "import pandas as pd\n",
    "import numpy as np\n",
    "import random\n",
    "from tqdm import tqdm\n",
    "import h5py\n",
    "\n",
    "import tensorflow as tf\n",
    "# Set logging level to avoid unnecessary messages\n",
    "tf.get_logger().setLevel('ERROR')\n",
    "# Set autograph verbosity to avoid unnecessary messages\n",
    "tf.autograph.set_verbosity(0)\n",
    "\n",
    "import keras\n",
    "import tensorflow_io as tfio\n",
    "import tensorflow_probability as tfp\n",
    "import tensorflow_extra as tfe\n",
    "\n",
    "import matplotlib.pyplot as plt\n",
    "import librosa\n",
    "import librosa.display\n",
    "from IPython.display import Audio\n",
    "\n",
    "from pathlib import Path\n",
    "import sys\n",
    "import os\n",
    "import time\n",
    "import warnings\n",
    "# suppress all warnings\n",
    "warnings.filterwarnings(\"ignore\")\n",
    "\n",
    "XC_ROOTDIR = '../../data/' # directory to save data in\n",
    "XC_DIR = 'test_dataset10' # subdirectory name of dataset\n",
    "\n",
    "tf.config.set_visible_devices([], 'GPU')"
   ]
  },
  {
   "cell_type": "markdown",
   "id": "407fb84f-b8f3-49d9-93f3-174e18b6d54b",
   "metadata": {},
   "source": [
    "### Read data"
   ]
  },
  {
   "cell_type": "code",
   "execution_count": 168,
   "id": "ffb11c69-7f1b-47d2-a145-62a71f38f0d3",
   "metadata": {},
   "outputs": [],
   "source": [
    "df = pd.read_csv(\"../../data/dataset10.csv\")\n",
    "#df[\"fullfilename\"] = \"../\" + df[\"fullfilename\"]"
   ]
  },
  {
   "cell_type": "markdown",
   "id": "0322b1cb-dde1-4fc7-bc9e-dc373102d2d5",
   "metadata": {},
   "source": [
    "### Configuration"
   ]
  },
  {
   "cell_type": "code",
   "execution_count": 3,
   "id": "866f0791-e04b-439b-bf6b-eb835727ec3c",
   "metadata": {},
   "outputs": [],
   "source": [
    "class cfg:\n",
    "    # random seed\n",
    "    seed = 42\n",
    "\n",
    "    # audio clip settings\n",
    "    sr = 22050\n",
    "    duration = 15 # the duration of the clips\n",
    "    \n",
    "    n_samples = duration*sr\n",
    "    \n",
    "    hop_length = 2048 # \"stepsize\" of the fft for the melspectrograms\n",
    "    nfft = 4096 # windowsize of the fft for the melspectrograms\n",
    "    n_mels = 128 # number of mel frequency bins\n",
    "    fmax = sr/2 # maximum frequency in the melspectrograms\n",
    "    input_dim = (n_mels, int(duration*sr//hop_length + 1))\n",
    "    \n",
    "    # training settings\n",
    "    batch_size = 32\n",
    "    n_epochs = 50\n",
    "    \n",
    "    # class labels/names\n",
    "    names = list(np.unique(df.en))\n",
    "    n_classes = len(names)\n",
    "    labels = list(range(n_classes))\n",
    "    label2name = dict(zip(labels, names))\n",
    "    name2label = {v:k for k,v in label2name.items()}\n",
    "\n",
    "# set random seed in keras\n",
    "tf.keras.utils.set_random_seed(cfg.seed)"
   ]
  },
  {
   "cell_type": "markdown",
   "id": "42e0639e-e781-49a9-b7fe-16787f009c56",
   "metadata": {},
   "source": [
    "## Load all audios, compute and save spectrograms\n",
    "\n",
    "### Functions to compute, save and load spectrogram"
   ]
  },
  {
   "cell_type": "code",
   "execution_count": 4,
   "id": "354f06dc-4377-448e-8efd-a9e73beb912d",
   "metadata": {},
   "outputs": [],
   "source": [
    "def compute_spec(filepath, sr=cfg.sr, duration=cfg.duration, nfft=cfg.nfft, hop_length=cfg.hop_length, n_mels=cfg.n_mels, fmax=cfg.fmax):\n",
    "    audio, sr = librosa.load(filepath, sr = sr)\n",
    "    # randomly pad clip if shorter\n",
    "    if len(audio) < duration*sr:\n",
    "        _ = np.zeros(duration*sr)\n",
    "        rand_idx = np.random.randint(0, duration*sr-len(audio))\n",
    "        _[rand_idx:rand_idx + len(audio)] = audio\n",
    "        audio = _\n",
    "    mel_spectrogram = librosa.feature.melspectrogram(y=audio, sr=sr, n_fft=nfft, hop_length=hop_length, n_mels=n_mels, fmin = 0, fmax=fmax)\n",
    "    log_mel_spectrogram = librosa.power_to_db(mel_spectrogram)\n",
    "    return log_mel_spectrogram\n",
    "\n",
    "def save_spec_to_hdf5(spec, hdf5_path, name, compression=\"gzip\", chunks=True):\n",
    "    try:\n",
    "        with h5py.File(hdf5_path, 'a') as f:  # Open in append mode\n",
    "            f.create_dataset(name, data=spec, compression=compression, chunks=chunks)\n",
    "    except Exception as e:\n",
    "        print(f'Error saving spectrograms to {hdf5_path}: {e}')"
   ]
  },
  {
   "cell_type": "code",
   "execution_count": 5,
   "id": "edd9aa3d-28b9-4b3c-ab62-c6ebe94c038f",
   "metadata": {},
   "outputs": [],
   "source": [
    "def compute_and_save_spec(filepath, return_length = False):\n",
    "    spec = compute_spec(filepath)\n",
    "    name = Path(filepath).stem\n",
    "    hdf5_path = os.path.dirname(filepath) + \"/spectrograms.h5\"\n",
    "    save_spec_to_hdf5(spec, hdf5_path = hdf5_path, name = name)\n",
    "    if return_length:\n",
    "        return spec.shape[-1]\n",
    "\n",
    "def load_spectrogram_slice(hdf5_path, name, start_row = 0, end_row =None, start_col = 0, end_col = None):\n",
    "    with h5py.File(hdf5_path, 'r') as f:\n",
    "        spectrogram_slice = f[name][start_row:end_row, start_col:end_col]\n",
    "    return spectrogram_slice"
   ]
  },
  {
   "cell_type": "code",
   "execution_count": 6,
   "id": "503de54b-0f8a-4bc6-b4ff-bd532e0c5021",
   "metadata": {},
   "outputs": [
    {
     "data": {
      "text/plain": [
       "(128, 3226)"
      ]
     },
     "execution_count": 6,
     "metadata": {},
     "output_type": "execute_result"
    }
   ],
   "source": [
    "spec = compute_spec(df.fullfilename.iloc[0])\n",
    "spec.shape"
   ]
  },
  {
   "cell_type": "code",
   "execution_count": 7,
   "id": "ba197cc0-81ba-4a36-9096-4966a505aed9",
   "metadata": {},
   "outputs": [
    {
     "data": {
      "text/plain": [
       "<matplotlib.collections.QuadMesh at 0x7feec111ea50>"
      ]
     },
     "execution_count": 7,
     "metadata": {},
     "output_type": "execute_result"
    },
    {
     "data": {
      "image/png": "[encoded data removed]",
      "text/plain": [
       "<Figure size 640x480 with 1 Axes>"
      ]
     },
     "metadata": {},
     "output_type": "display_data"
    }
   ],
   "source": [
    "fig, ax = plt.subplots(1,1)\n",
    "librosa.display.specshow(spec[:, 0:200], sr=cfg.sr, hop_length=cfg.hop_length,\n",
    "                         x_axis='time', ax=ax)"
   ]
  },
  {
   "cell_type": "code",
   "execution_count": 8,
   "id": "2192ecd8-cf6e-4bcd-b4a7-50fe31d959c6",
   "metadata": {},
   "outputs": [
    {
     "name": "stdout",
     "output_type": "stream",
     "text": [
      "Error saving spectrograms to ../../data/dataset10/Turdus merula_Common Blackbird/spectrograms.h5: Unable to synchronously create dataset (name already exists)\n"
     ]
    }
   ],
   "source": [
    "path = df.fullfilename.iloc[0]\n",
    "compute_and_save_spec(path)"
   ]
  },
  {
   "cell_type": "code",
   "execution_count": 9,
   "id": "92859ed3-4618-478e-a7b2-6dbc180240db",
   "metadata": {},
   "outputs": [
    {
     "data": {
      "text/plain": [
       "(128, 3226)"
      ]
     },
     "execution_count": 9,
     "metadata": {},
     "output_type": "execute_result"
    }
   ],
   "source": [
    "spec = load_spectrogram_slice(os.path.dirname(path) + \"/spectrograms.h5\", Path(path).stem)\n",
    "spec.shape"
   ]
  },
  {
   "cell_type": "code",
   "execution_count": 10,
   "id": "7279ff34-77f6-49ca-8ca9-31f97fe5e8c7",
   "metadata": {},
   "outputs": [
    {
     "data": {
      "text/plain": [
       "<matplotlib.collections.QuadMesh at 0x7feec0f86bd0>"
      ]
     },
     "execution_count": 10,
     "metadata": {},
     "output_type": "execute_result"
    },
    {
     "data": {
      "image/png": "[encoded data removed]",
      "text/plain": [
       "<Figure size 640x480 with 1 Axes>"
      ]
     },
     "metadata": {},
     "output_type": "display_data"
    }
   ],
   "source": [
    "fig, ax = plt.subplots(1,1)\n",
    "librosa.display.specshow(spec[:, 0:200], sr=cfg.sr, hop_length=cfg.hop_length,\n",
    "                         x_axis='time', ax=ax)"
   ]
  },
  {
   "cell_type": "markdown",
   "id": "0b841897-1f57-4de9-8168-e3b47748743a",
   "metadata": {},
   "source": [
    "### Compute and save spectrograms for all audios in the dataset"
   ]
  },
  {
   "cell_type": "code",
   "execution_count": 11,
   "id": "a0aa3e81-c19e-4199-ab07-9acb842c1619",
   "metadata": {},
   "outputs": [
    {
     "name": "stderr",
     "output_type": "stream",
     "text": [
      "100%|██████████████████████████████████████████████████████████████████████████████| 300/300 [00:00<00:00, 42669.85it/s]\n"
     ]
    }
   ],
   "source": [
    "if not \"spectrogram\" in df.columns:\n",
    "    df[\"spectrogram\"] = None\n",
    "if not \"length_spectrogram\" in df.columns:\n",
    "    df[\"length_spectrogram\"] = None\n",
    "for i in tqdm(range(len(df))):\n",
    "    filepath = df.fullfilename.iloc[i]\n",
    "    if df.loc[i, \"spectrogram\"] is None:\n",
    "        df.loc[i, \"length_spectrogram\"] = compute_and_save_spec(filepath, return_length = True)\n",
    "        df.loc[i, \"spectrogram\"] = Path(filepath).stem\n",
    "\n",
    "\n",
    "df.to_csv(\"../../data/dataset10.csv\", index = False)"
   ]
  },
  {
   "cell_type": "code",
   "execution_count": 12,
   "id": "952775a5-d834-4059-926b-99eb1d9f773f",
   "metadata": {},
   "outputs": [
    {
     "name": "stdout",
     "output_type": "stream",
     "text": [
      "(128, 2866)\n"
     ]
    },
    {
     "data": {
      "text/plain": [
       "<matplotlib.collections.QuadMesh at 0x7feec0e76b10>"
      ]
     },
     "execution_count": 12,
     "metadata": {},
     "output_type": "execute_result"
    },
    {
     "data": {
      "image/png": "[encoded data removed]",
      "text/plain": [
       "<Figure size 640x480 with 1 Axes>"
      ]
     },
     "metadata": {},
     "output_type": "display_data"
    }
   ],
   "source": [
    "path = df.fullfilename.iloc[42]\n",
    "spec = load_spectrogram_slice(os.path.dirname(path) + \"/spectrograms.h5\", Path(path).stem)\n",
    "print(spec.shape)\n",
    "fig, ax = plt.subplots(1,1)\n",
    "librosa.display.specshow(spec[:, 0:300], sr=cfg.sr, hop_length=cfg.hop_length,\n",
    "                         x_axis='time', ax=ax)"
   ]
  },
  {
   "cell_type": "markdown",
   "id": "63ad7663-c440-4af4-ab28-2e5c156f9dfb",
   "metadata": {},
   "source": [
    "## Create data generator for training"
   ]
  },
  {
   "cell_type": "markdown",
   "id": "8c155dce-1955-42ec-915e-c2d0e9e8d459",
   "metadata": {},
   "source": [
    "### Helper functions"
   ]
  },
  {
   "cell_type": "code",
   "execution_count": 13,
   "id": "a473acf4-7dbf-4215-873d-cb4c7e6126c8",
   "metadata": {},
   "outputs": [],
   "source": [
    "# Generates random integer # from https://www.kaggle.com/code/wengsilu/birdclef24pretraining\n",
    "def random_int(shape=[], minval=0, maxval=1):\n",
    "    return tf.random.uniform(shape=shape, minval=minval, maxval=maxval, dtype=tf.int32)\n",
    "\n",
    "# Generats random float\n",
    "def random_float(shape=[], minval=0.0, maxval=1.0):\n",
    "    rnd = tf.random.uniform(shape=shape, minval=minval, maxval=maxval, dtype=tf.float32)\n",
    "    return rnd"
   ]
  },
  {
   "cell_type": "code",
   "execution_count": 14,
   "id": "ed9e5682-e9cf-49cd-ab21-ab897ce221c2",
   "metadata": {},
   "outputs": [
    {
     "data": {
      "text/plain": [
       "162"
      ]
     },
     "execution_count": 14,
     "metadata": {},
     "output_type": "execute_result"
    }
   ],
   "source": [
    "cfg.input_dim[1]"
   ]
  },
  {
   "cell_type": "code",
   "execution_count": 15,
   "id": "dba9ec24-0dca-4802-9999-1ad1fa452beb",
   "metadata": {},
   "outputs": [],
   "source": [
    "def load_random_spec_slice(df, ID):\n",
    "    name = df.spectrogram.iloc[ID]\n",
    "    hdf5_path = os.path.dirname(df.fullfilename.iloc[ID]) + \"/spectrograms.h5\"\n",
    "    spec_length = df.length_spectrogram.iloc[ID]\n",
    "    rdm = random_int(maxval= spec_length - cfg.input_dim[1])\n",
    "    return load_spectrogram_slice(hdf5_path = hdf5_path, name = name, start_col = rdm, end_col = rdm + cfg.input_dim[1])\n",
    "\n",
    "class DataGenerator(keras.utils.Sequence):\n",
    "    'Generates data for Keras'\n",
    "    def __init__(self, list_IDs, labels, dataframe,\n",
    "                 batch_size=cfg.batch_size, \n",
    "                 dim=cfg.input_dim,\n",
    "                 n_channels =  1,\n",
    "                 n_classes=cfg.n_classes, \n",
    "                 shuffle=True\n",
    "                ):\n",
    "        'Initialization'\n",
    "        self.dim = dim\n",
    "        self.n_channels = n_channels\n",
    "        self.batch_size = batch_size\n",
    "        self.labels = labels\n",
    "        self.list_IDs = list_IDs\n",
    "        self.dataframe = dataframe\n",
    "        self.n_classes = n_classes\n",
    "        self.shuffle = shuffle\n",
    "        self.on_epoch_end()\n",
    "\n",
    "    def __len__(self):\n",
    "        'Denotes the number of batches per epoch'\n",
    "        return int(np.floor(len(self.list_IDs) / self.batch_size))\n",
    "\n",
    "    def __getitem__(self, index):\n",
    "        'Generate one batch of data'\n",
    "        # Generate indexes of the batch\n",
    "        indexes = self.indexes[index*self.batch_size:(index+1)*self.batch_size]\n",
    "\n",
    "        # Find list of IDs\n",
    "        list_IDs_temp = [self.list_IDs[k] for k in indexes]\n",
    "\n",
    "        # Generate data\n",
    "        X, y = self.__data_generation(list_IDs_temp)\n",
    "\n",
    "        return X, y\n",
    "\n",
    "    def on_epoch_end(self):\n",
    "        'Updates indexes after each epoch'\n",
    "        self.indexes = np.arange(len(self.list_IDs))\n",
    "        if self.shuffle == True:\n",
    "            np.random.shuffle(self.indexes)\n",
    "\n",
    "    def __data_generation(self, list_IDs_temp):\n",
    "        'Generates data containing batch_size samples' # X : (n_samples, *dim, n_channels)\n",
    "        # Initialization\n",
    "        X = np.empty((self.batch_size, *self.dim, self.n_channels))\n",
    "        y = np.empty((self.batch_size), dtype=int)\n",
    "        # Generate data\n",
    "        for i, ID in enumerate(list_IDs_temp):\n",
    "            # Store sample\n",
    "            X[i,] = load_random_spec_slice(self.dataframe, ID).reshape(*self.dim, self.n_channels)\n",
    "            # Store class\n",
    "            y[i] = cfg.name2label[df.en.iloc[ID]]\n",
    "        X = X.reshape(len(X), *self.dim, self.n_channels)\n",
    "        return X, keras.utils.to_categorical(y, num_classes=self.n_classes)"
   ]
  },
  {
   "cell_type": "code",
   "execution_count": 16,
   "id": "83dd0791-4745-472d-95c1-7c5986499686",
   "metadata": {},
   "outputs": [
    {
     "name": "stdout",
     "output_type": "stream",
     "text": [
      "(128, 162)\n",
      "(128, 162)\n"
     ]
    },
    {
     "data": {
      "image/png": "[encoded data removed]",
      "text/plain": [
       "<Figure size 640x480 with 1 Axes>"
      ]
     },
     "metadata": {},
     "output_type": "display_data"
    }
   ],
   "source": [
    "spec = load_random_spec_slice(df, ID = 0)\n",
    "print(spec.shape)\n",
    "fig, ax = plt.subplots(1,1)\n",
    "librosa.display.specshow(spec, sr=cfg.sr, hop_length=cfg.hop_length,\n",
    "                         x_axis='time', ax=ax);\n",
    "print(cfg.input_dim)"
   ]
  },
  {
   "cell_type": "markdown",
   "id": "886d74ab-31da-4e55-81f4-7e1c222f4811",
   "metadata": {},
   "source": [
    "## Build model"
   ]
  },
  {
   "cell_type": "code",
   "execution_count": 17,
   "id": "d6fdbab9-89d3-4af4-9b4d-a03c47a8b6c8",
   "metadata": {},
   "outputs": [],
   "source": [
    "from tensorflow.keras.layers import Layer, Dense, Dropout, Activation, Flatten, Conv2D, MaxPooling2D, Input\n",
    "\n",
    "zscore_layer = tfe.layers.ZScoreMinMax()\n",
    "\n",
    "def build_model():\n",
    "    inp = Input(shape=(*cfg.input_dim, 1))\n",
    "    \n",
    "    # Normalize\n",
    "    x = zscore_layer(inp)\n",
    "    \n",
    "    # Base model\n",
    "    x = Conv2D(32, kernel_size=(3, 3), padding='valid', activation='relu')(x)\n",
    "    x = MaxPooling2D(pool_size=(2, 2), padding=\"valid\")(x)\n",
    "    x = Conv2D(64, kernel_size=(3, 3), padding='valid', activation='relu')(x)\n",
    "    x = MaxPooling2D(pool_size=(2, 2), padding=\"valid\")(x)\n",
    "    x = Dropout(0.4)(x)\n",
    "    x = Flatten()(x)\n",
    "    x = Dense(64, activation='relu')(x)\n",
    "    x = Dropout(0.25)(x)\n",
    "    x = Dense(32, activation='relu')(x)\n",
    "    output = Dense(cfg.n_classes, activation='softmax')(x)\n",
    "    \n",
    "    model = tf.keras.models.Model(inputs=inp, outputs=output, name = \"Basemodel\")\n",
    "    model.compile(loss='categorical_crossentropy', optimizer='adam', metrics=['accuracy'])\n",
    "    model.summary()\n",
    "    return model"
   ]
  },
  {
   "cell_type": "markdown",
   "id": "f0652894-0874-401b-b956-82a72d87bf82",
   "metadata": {},
   "source": [
    "### Test zscore_layer"
   ]
  },
  {
   "cell_type": "code",
   "execution_count": 18,
   "id": "65c0b405-8557-49b7-b3a5-2f84a0f93b21",
   "metadata": {},
   "outputs": [
    {
     "name": "stderr",
     "output_type": "stream",
     "text": [
      "100%|███████████████████████████████████████████████████████████████████████████████████| 50/50 [00:01<00:00, 35.13it/s]\n"
     ]
    },
    {
     "name": "stdout",
     "output_type": "stream",
     "text": [
      "Before zscore layer:  -63.894543 39.862907\n",
      "After zscore layer:  0.0 1.0\n"
     ]
    }
   ],
   "source": [
    "specs = []\n",
    "for i in tqdm(range(50)):\n",
    "    specs.append(load_random_spec_slice(df, ID = i))\n",
    "specs = np.array(specs)\n",
    "print(\"Before zscore layer: \", specs.min(), specs.max())\n",
    "\n",
    "print(\"After zscore layer: \", zscore_layer(specs).numpy().min(), zscore_layer(specs).numpy().max())\n"
   ]
  },
  {
   "cell_type": "code",
   "execution_count": 19,
   "id": "27fdb1d8-8d3e-4b98-bba2-592d05ff4bf5",
   "metadata": {},
   "outputs": [
    {
     "name": "stdout",
     "output_type": "stream",
     "text": [
      "Model: \"Basemodel\"\n",
      "_________________________________________________________________\n",
      " Layer (type)                Output Shape              Param #   \n",
      "=================================================================\n",
      " input_1 (InputLayer)        [(None, 128, 162, 1)]     0         \n",
      "                                                                 \n",
      " z_score_min_max (ZScoreMin  (None, 128, 162, 1)       0         \n",
      " Max)                                                            \n",
      "                                                                 \n",
      " conv2d (Conv2D)             (None, 126, 160, 32)      320       \n",
      "                                                                 \n",
      " max_pooling2d (MaxPooling2  (None, 63, 80, 32)        0         \n",
      " D)                                                              \n",
      "                                                                 \n",
      " conv2d_1 (Conv2D)           (None, 61, 78, 64)        18496     \n",
      "                                                                 \n",
      " max_pooling2d_1 (MaxPoolin  (None, 30, 39, 64)        0         \n",
      " g2D)                                                            \n",
      "                                                                 \n",
      " dropout (Dropout)           (None, 30, 39, 64)        0         \n",
      "                                                                 \n",
      " flatten (Flatten)           (None, 74880)             0         \n",
      "                                                                 \n",
      " dense (Dense)               (None, 64)                4792384   \n",
      "                                                                 \n",
      " dropout_1 (Dropout)         (None, 64)                0         \n",
      "                                                                 \n",
      " dense_1 (Dense)             (None, 32)                2080      \n",
      "                                                                 \n",
      " dense_2 (Dense)             (None, 10)                330       \n",
      "                                                                 \n",
      "=================================================================\n",
      "Total params: 4813610 (18.36 MB)\n",
      "Trainable params: 4813610 (18.36 MB)\n",
      "Non-trainable params: 0 (0.00 Byte)\n",
      "_________________________________________________________________\n"
     ]
    }
   ],
   "source": [
    "model = build_model()"
   ]
  },
  {
   "cell_type": "markdown",
   "id": "1239d697-a4c6-4024-9d91-5975cfad947a",
   "metadata": {},
   "source": [
    "## Train validation split"
   ]
  },
  {
   "cell_type": "code",
   "execution_count": 20,
   "id": "1c9b4b59-8890-4208-bf88-351860990c0e",
   "metadata": {},
   "outputs": [],
   "source": [
    "from sklearn.model_selection import train_test_split\n",
    "\n",
    "id_train, id_val, y_train, y_val = train_test_split(range(len(df)), df[\"en\"].to_list(), test_size = 0.3, random_state = cfg.seed)\n",
    "\n",
    "training_generator = DataGenerator(id_train, y_train, df)\n",
    "validation_generator = DataGenerator(id_val, y_val, df)"
   ]
  },
  {
   "cell_type": "code",
   "execution_count": 21,
   "id": "d33e0ef1-f2f6-427f-82c0-6929e3c038ea",
   "metadata": {},
   "outputs": [
    {
     "name": "stdout",
     "output_type": "stream",
     "text": [
      "Epoch 1/50\n"
     ]
    },
    {
     "name": "stderr",
     "output_type": "stream",
     "text": [
      "2024-07-04 16:36:23.118624: I external/local_xla/xla/service/service.cc:168] XLA service 0x7fee2c295210 initialized for platform Host (this does not guarantee that XLA will be used). Devices:\n",
      "2024-07-04 16:36:23.118675: I external/local_xla/xla/service/service.cc:176]   StreamExecutor device (0): Host, Default Version\n",
      "2024-07-04 16:36:23.162410: I tensorflow/compiler/mlir/tensorflow/utils/dump_mlir_util.cc:269] disabling MLIR crash reproducer, set env var `MLIR_CRASH_REPRODUCER_DIRECTORY` to enable.\n",
      "WARNING: All log messages before absl::InitializeLog() is called are written to STDERR\n",
      "I0000 00:00:1720103783.571750     268 device_compiler.h:186] Compiled cluster using XLA!  This line is logged at most once for the lifetime of the process.\n",
      "2024-07-04 16:36:23.572827: E external/local_xla/xla/stream_executor/stream_executor_internal.h:177] SetPriority unimplemented for this stream.\n",
      "2024-07-04 16:36:23.576187: E external/local_xla/xla/stream_executor/stream_executor_internal.h:177] SetPriority unimplemented for this stream.\n",
      "2024-07-04 16:36:26.162946: E external/local_xla/xla/stream_executor/stream_executor_internal.h:177] SetPriority unimplemented for this stream.\n"
     ]
    },
    {
     "name": "stdout",
     "output_type": "stream",
     "text": [
      "6/6 - 21s - loss: 2.3213 - accuracy: 0.1302 - val_loss: 2.2885 - val_accuracy: 0.1875 - 21s/epoch - 4s/step\n",
      "Epoch 2/50\n",
      "6/6 - 14s - loss: 2.2932 - accuracy: 0.1302 - val_loss: 2.3440 - val_accuracy: 0.0312 - 14s/epoch - 2s/step\n",
      "Epoch 3/50\n",
      "6/6 - 17s - loss: 2.2847 - accuracy: 0.1458 - val_loss: 2.3208 - val_accuracy: 0.0625 - 17s/epoch - 3s/step\n",
      "Epoch 4/50\n",
      "6/6 - 10s - loss: 2.2489 - accuracy: 0.1458 - val_loss: 2.3693 - val_accuracy: 0.0938 - 10s/epoch - 2s/step\n",
      "Epoch 5/50\n",
      "6/6 - 8s - loss: 2.2589 - accuracy: 0.1927 - val_loss: 2.3145 - val_accuracy: 0.0781 - 8s/epoch - 1s/step\n",
      "Epoch 6/50\n",
      "6/6 - 12s - loss: 2.1929 - accuracy: 0.1823 - val_loss: 2.2925 - val_accuracy: 0.1250 - 12s/epoch - 2s/step\n",
      "Epoch 7/50\n",
      "6/6 - 7s - loss: 2.1569 - accuracy: 0.1875 - val_loss: 2.2762 - val_accuracy: 0.1562 - 7s/epoch - 1s/step\n",
      "Epoch 8/50\n",
      "6/6 - 6s - loss: 2.1441 - accuracy: 0.2240 - val_loss: 2.1587 - val_accuracy: 0.1562 - 6s/epoch - 1s/step\n",
      "Epoch 9/50\n",
      "6/6 - 10s - loss: 2.1291 - accuracy: 0.2240 - val_loss: 2.1559 - val_accuracy: 0.1562 - 10s/epoch - 2s/step\n",
      "Epoch 10/50\n",
      "6/6 - 7s - loss: 2.0722 - accuracy: 0.3021 - val_loss: 2.0847 - val_accuracy: 0.2500 - 7s/epoch - 1s/step\n",
      "Epoch 11/50\n",
      "6/6 - 10s - loss: 1.9639 - accuracy: 0.3073 - val_loss: 2.1242 - val_accuracy: 0.2031 - 10s/epoch - 2s/step\n",
      "Epoch 12/50\n",
      "6/6 - 5s - loss: 1.9565 - accuracy: 0.2656 - val_loss: 1.9394 - val_accuracy: 0.2812 - 5s/epoch - 859ms/step\n",
      "Epoch 13/50\n",
      "6/6 - 10s - loss: 1.9502 - accuracy: 0.3073 - val_loss: 1.9468 - val_accuracy: 0.3594 - 10s/epoch - 2s/step\n",
      "Epoch 14/50\n",
      "6/6 - 5s - loss: 1.8561 - accuracy: 0.3646 - val_loss: 1.9460 - val_accuracy: 0.3438 - 5s/epoch - 848ms/step\n",
      "Epoch 15/50\n",
      "6/6 - 5s - loss: 1.7380 - accuracy: 0.3802 - val_loss: 1.6926 - val_accuracy: 0.3906 - 5s/epoch - 912ms/step\n",
      "Epoch 16/50\n",
      "6/6 - 5s - loss: 1.6690 - accuracy: 0.4010 - val_loss: 1.7409 - val_accuracy: 0.3594 - 5s/epoch - 904ms/step\n",
      "Epoch 17/50\n",
      "6/6 - 5s - loss: 1.5835 - accuracy: 0.4062 - val_loss: 1.7580 - val_accuracy: 0.3750 - 5s/epoch - 891ms/step\n",
      "Epoch 18/50\n",
      "6/6 - 10s - loss: 1.5486 - accuracy: 0.4583 - val_loss: 1.5126 - val_accuracy: 0.5156 - 10s/epoch - 2s/step\n",
      "Epoch 19/50\n",
      "6/6 - 6s - loss: 1.5176 - accuracy: 0.4635 - val_loss: 1.7746 - val_accuracy: 0.4219 - 6s/epoch - 956ms/step\n",
      "Epoch 20/50\n",
      "6/6 - 5s - loss: 1.4728 - accuracy: 0.4479 - val_loss: 1.6031 - val_accuracy: 0.4531 - 5s/epoch - 817ms/step\n",
      "Epoch 21/50\n",
      "6/6 - 5s - loss: 1.4222 - accuracy: 0.4531 - val_loss: 1.5579 - val_accuracy: 0.3906 - 5s/epoch - 872ms/step\n",
      "Epoch 22/50\n",
      "6/6 - 5s - loss: 1.4372 - accuracy: 0.4792 - val_loss: 1.4728 - val_accuracy: 0.5156 - 5s/epoch - 808ms/step\n",
      "Epoch 23/50\n",
      "6/6 - 11s - loss: 1.2400 - accuracy: 0.5729 - val_loss: 1.4992 - val_accuracy: 0.4688 - 11s/epoch - 2s/step\n",
      "Epoch 24/50\n",
      "6/6 - 5s - loss: 1.4201 - accuracy: 0.4844 - val_loss: 1.6951 - val_accuracy: 0.4688 - 5s/epoch - 772ms/step\n",
      "Epoch 25/50\n",
      "6/6 - 9s - loss: 1.4364 - accuracy: 0.4635 - val_loss: 1.4979 - val_accuracy: 0.4531 - 9s/epoch - 2s/step\n",
      "Epoch 26/50\n",
      "6/6 - 9s - loss: 1.3293 - accuracy: 0.5000 - val_loss: 1.5039 - val_accuracy: 0.4688 - 9s/epoch - 2s/step\n",
      "Epoch 27/50\n",
      "6/6 - 10s - loss: 1.2622 - accuracy: 0.5417 - val_loss: 1.1791 - val_accuracy: 0.6250 - 10s/epoch - 2s/step\n",
      "Epoch 28/50\n",
      "6/6 - 5s - loss: 1.2464 - accuracy: 0.5365 - val_loss: 1.4599 - val_accuracy: 0.4531 - 5s/epoch - 848ms/step\n",
      "Epoch 29/50\n",
      "6/6 - 9s - loss: 1.3149 - accuracy: 0.5573 - val_loss: 1.3336 - val_accuracy: 0.4844 - 9s/epoch - 2s/step\n",
      "Epoch 30/50\n",
      "6/6 - 9s - loss: 1.1530 - accuracy: 0.5885 - val_loss: 1.3682 - val_accuracy: 0.4688 - 9s/epoch - 2s/step\n",
      "Epoch 31/50\n",
      "6/6 - 5s - loss: 1.2526 - accuracy: 0.5104 - val_loss: 1.1360 - val_accuracy: 0.5781 - 5s/epoch - 795ms/step\n",
      "Epoch 32/50\n",
      "6/6 - 5s - loss: 1.1285 - accuracy: 0.5833 - val_loss: 1.4134 - val_accuracy: 0.5156 - 5s/epoch - 893ms/step\n",
      "Epoch 33/50\n",
      "6/6 - 6s - loss: 1.1262 - accuracy: 0.6042 - val_loss: 1.4032 - val_accuracy: 0.5312 - 6s/epoch - 991ms/step\n",
      "Epoch 34/50\n",
      "6/6 - 8s - loss: 1.1336 - accuracy: 0.5885 - val_loss: 1.4212 - val_accuracy: 0.4844 - 8s/epoch - 1s/step\n",
      "Epoch 35/50\n",
      "6/6 - 11s - loss: 1.1606 - accuracy: 0.6198 - val_loss: 1.2556 - val_accuracy: 0.5625 - 11s/epoch - 2s/step\n",
      "Epoch 36/50\n",
      "6/6 - 13s - loss: 1.1038 - accuracy: 0.6042 - val_loss: 1.2344 - val_accuracy: 0.5156 - 13s/epoch - 2s/step\n",
      "Epoch 37/50\n",
      "6/6 - 5s - loss: 1.0614 - accuracy: 0.6146 - val_loss: 1.3826 - val_accuracy: 0.5312 - 5s/epoch - 785ms/step\n",
      "Epoch 38/50\n",
      "6/6 - 5s - loss: 1.0380 - accuracy: 0.6562 - val_loss: 1.2753 - val_accuracy: 0.5312 - 5s/epoch - 817ms/step\n",
      "Epoch 39/50\n",
      "6/6 - 7s - loss: 1.1270 - accuracy: 0.5625 - val_loss: 1.2207 - val_accuracy: 0.5156 - 7s/epoch - 1s/step\n",
      "Epoch 40/50\n",
      "6/6 - 11s - loss: 1.1212 - accuracy: 0.6250 - val_loss: 1.2324 - val_accuracy: 0.5938 - 11s/epoch - 2s/step\n",
      "Epoch 41/50\n",
      "6/6 - 6s - loss: 1.0656 - accuracy: 0.6302 - val_loss: 1.0804 - val_accuracy: 0.5625 - 6s/epoch - 1s/step\n",
      "Epoch 42/50\n",
      "6/6 - 10s - loss: 0.9965 - accuracy: 0.6406 - val_loss: 1.1345 - val_accuracy: 0.5781 - 10s/epoch - 2s/step\n",
      "Epoch 43/50\n",
      "6/6 - 5s - loss: 0.9569 - accuracy: 0.6042 - val_loss: 1.4297 - val_accuracy: 0.5469 - 5s/epoch - 861ms/step\n",
      "Epoch 44/50\n",
      "6/6 - 6s - loss: 0.9320 - accuracy: 0.6771 - val_loss: 1.1812 - val_accuracy: 0.6250 - 6s/epoch - 1s/step\n",
      "Epoch 45/50\n",
      "6/6 - 6s - loss: 0.9395 - accuracy: 0.6771 - val_loss: 1.3412 - val_accuracy: 0.5469 - 6s/epoch - 990ms/step\n",
      "Epoch 46/50\n",
      "6/6 - 5s - loss: 0.8415 - accuracy: 0.6771 - val_loss: 1.0443 - val_accuracy: 0.6094 - 5s/epoch - 845ms/step\n",
      "Epoch 47/50\n",
      "6/6 - 5s - loss: 0.8877 - accuracy: 0.6771 - val_loss: 1.2145 - val_accuracy: 0.5469 - 5s/epoch - 877ms/step\n",
      "Epoch 48/50\n",
      "6/6 - 6s - loss: 0.9558 - accuracy: 0.6615 - val_loss: 1.2675 - val_accuracy: 0.6406 - 6s/epoch - 949ms/step\n",
      "Epoch 49/50\n",
      "6/6 - 6s - loss: 0.8894 - accuracy: 0.6823 - val_loss: 1.2978 - val_accuracy: 0.6094 - 6s/epoch - 967ms/step\n",
      "Epoch 50/50\n",
      "6/6 - 6s - loss: 0.7898 - accuracy: 0.7292 - val_loss: 1.1432 - val_accuracy: 0.5938 - 6s/epoch - 1s/step\n"
     ]
    }
   ],
   "source": [
    "hist = model.fit_generator(generator=training_generator,\n",
    "                    validation_data=validation_generator,\n",
    "                    use_multiprocessing=True, verbose = 2, epochs = cfg.n_epochs)"
   ]
  },
  {
   "cell_type": "code",
   "execution_count": 22,
   "id": "ebfaa673-5400-4418-b10a-d785e33da7b0",
   "metadata": {},
   "outputs": [],
   "source": [
    "def plot_history(network_history):\n",
    "    plt.figure()\n",
    "    plt.xlabel('Epochs')\n",
    "    plt.ylabel('Loss')\n",
    "    plt.plot(network_history.history['loss'])\n",
    "    plt.plot(network_history.history['val_loss'])\n",
    "    plt.legend(['Training', 'Validation'])\n",
    "\n",
    "    plt.figure()\n",
    "    plt.xlabel('Epochs')\n",
    "    plt.ylabel('Accuracy')\n",
    "    plt.plot(network_history.history['accuracy'])\n",
    "    plt.plot(network_history.history['val_accuracy'])\n",
    "    plt.legend(['Training', 'Validation'], loc='lower right')\n",
    "    plt.show()"
   ]
  },
  {
   "cell_type": "code",
   "execution_count": 23,
   "id": "552ef9fb-1510-4abe-a2c0-e519e1bab2a5",
   "metadata": {},
   "outputs": [
    {
     "data": {
      "image/png": "[encoded data removed]",
      "text/plain": [
       "<Figure size 640x480 with 1 Axes>"
      ]
     },
     "metadata": {},
     "output_type": "display_data"
    },
    {
     "data": {
      "image/png": "[encoded data removed]",
      "text/plain": [
       "<Figure size 640x480 with 1 Axes>"
      ]
     },
     "metadata": {},
     "output_type": "display_data"
    }
   ],
   "source": [
    "plot_history(hist)"
   ]
  },
  {
   "cell_type": "markdown",
   "id": "8d7a026e-873f-41a2-ac7e-ac3c06a3c5fd",
   "metadata": {},
   "source": [
    "### Train for another n_epochs"
   ]
  },
  {
   "cell_type": "code",
   "execution_count": 24,
   "id": "81df8020-a693-4508-b8c6-e05561ef5293",
   "metadata": {},
   "outputs": [
    {
     "name": "stdout",
     "output_type": "stream",
     "text": [
      "Epoch 1/50\n",
      "6/6 - 11s - loss: 0.9450 - accuracy: 0.7083 - val_loss: 1.2743 - val_accuracy: 0.6094 - 11s/epoch - 2s/step\n",
      "Epoch 2/50\n",
      "6/6 - 6s - loss: 0.9476 - accuracy: 0.6510 - val_loss: 1.2359 - val_accuracy: 0.6719 - 6s/epoch - 922ms/step\n",
      "Epoch 3/50\n",
      "6/6 - 5s - loss: 0.8882 - accuracy: 0.6719 - val_loss: 1.2274 - val_accuracy: 0.5781 - 5s/epoch - 815ms/step\n",
      "Epoch 4/50\n",
      "6/6 - 5s - loss: 0.8830 - accuracy: 0.6719 - val_loss: 1.0376 - val_accuracy: 0.6562 - 5s/epoch - 815ms/step\n",
      "Epoch 5/50\n",
      "6/6 - 6s - loss: 0.8408 - accuracy: 0.6562 - val_loss: 1.0633 - val_accuracy: 0.6406 - 6s/epoch - 989ms/step\n",
      "Epoch 6/50\n",
      "6/6 - 11s - loss: 0.9016 - accuracy: 0.6354 - val_loss: 1.1128 - val_accuracy: 0.6094 - 11s/epoch - 2s/step\n",
      "Epoch 7/50\n",
      "6/6 - 6s - loss: 0.6803 - accuracy: 0.7656 - val_loss: 1.2816 - val_accuracy: 0.5781 - 6s/epoch - 965ms/step\n",
      "Epoch 8/50\n",
      "6/6 - 5s - loss: 0.7144 - accuracy: 0.7708 - val_loss: 1.2930 - val_accuracy: 0.6250 - 5s/epoch - 892ms/step\n",
      "Epoch 9/50\n",
      "6/6 - 5s - loss: 0.7654 - accuracy: 0.7396 - val_loss: 1.2828 - val_accuracy: 0.6562 - 5s/epoch - 879ms/step\n",
      "Epoch 10/50\n",
      "6/6 - 10s - loss: 0.6504 - accuracy: 0.7760 - val_loss: 0.7736 - val_accuracy: 0.7656 - 10s/epoch - 2s/step\n",
      "Epoch 11/50\n",
      "6/6 - 6s - loss: 0.7958 - accuracy: 0.7604 - val_loss: 1.3573 - val_accuracy: 0.5625 - 6s/epoch - 980ms/step\n",
      "Epoch 12/50\n",
      "6/6 - 6s - loss: 0.8086 - accuracy: 0.7135 - val_loss: 1.3751 - val_accuracy: 0.6406 - 6s/epoch - 926ms/step\n",
      "Epoch 13/50\n",
      "6/6 - 10s - loss: 0.8133 - accuracy: 0.7240 - val_loss: 0.8862 - val_accuracy: 0.6562 - 10s/epoch - 2s/step\n",
      "Epoch 14/50\n",
      "6/6 - 5s - loss: 0.7675 - accuracy: 0.7083 - val_loss: 0.8778 - val_accuracy: 0.7188 - 5s/epoch - 862ms/step\n",
      "Epoch 15/50\n",
      "6/6 - 5s - loss: 0.6991 - accuracy: 0.7344 - val_loss: 1.0732 - val_accuracy: 0.5938 - 5s/epoch - 855ms/step\n",
      "Epoch 16/50\n",
      "6/6 - 10s - loss: 0.8124 - accuracy: 0.6771 - val_loss: 0.9558 - val_accuracy: 0.6719 - 10s/epoch - 2s/step\n",
      "Epoch 17/50\n",
      "6/6 - 5s - loss: 0.7529 - accuracy: 0.7500 - val_loss: 0.9647 - val_accuracy: 0.6406 - 5s/epoch - 838ms/step\n",
      "Epoch 18/50\n",
      "6/6 - 5s - loss: 0.8195 - accuracy: 0.7396 - val_loss: 1.0491 - val_accuracy: 0.6250 - 5s/epoch - 910ms/step\n",
      "Epoch 19/50\n",
      "6/6 - 6s - loss: 0.7854 - accuracy: 0.7240 - val_loss: 1.1668 - val_accuracy: 0.6562 - 6s/epoch - 1s/step\n",
      "Epoch 20/50\n",
      "6/6 - 6s - loss: 0.7620 - accuracy: 0.7552 - val_loss: 1.1506 - val_accuracy: 0.6719 - 6s/epoch - 930ms/step\n",
      "Epoch 21/50\n",
      "6/6 - 6s - loss: 0.8494 - accuracy: 0.7031 - val_loss: 1.1266 - val_accuracy: 0.6719 - 6s/epoch - 954ms/step\n",
      "Epoch 22/50\n",
      "6/6 - 10s - loss: 0.7475 - accuracy: 0.7344 - val_loss: 0.9253 - val_accuracy: 0.6562 - 10s/epoch - 2s/step\n",
      "Epoch 23/50\n",
      "6/6 - 6s - loss: 0.6408 - accuracy: 0.7656 - val_loss: 0.9636 - val_accuracy: 0.7344 - 6s/epoch - 979ms/step\n",
      "Epoch 24/50\n",
      "6/6 - 10s - loss: 0.7134 - accuracy: 0.7656 - val_loss: 1.0601 - val_accuracy: 0.6562 - 10s/epoch - 2s/step\n",
      "Epoch 25/50\n",
      "6/6 - 5s - loss: 0.5964 - accuracy: 0.8125 - val_loss: 0.9410 - val_accuracy: 0.6094 - 5s/epoch - 905ms/step\n",
      "Epoch 26/50\n",
      "6/6 - 6s - loss: 0.7300 - accuracy: 0.7500 - val_loss: 1.1321 - val_accuracy: 0.5938 - 6s/epoch - 978ms/step\n",
      "Epoch 27/50\n",
      "6/6 - 10s - loss: 0.7324 - accuracy: 0.7760 - val_loss: 1.0088 - val_accuracy: 0.6406 - 10s/epoch - 2s/step\n",
      "Epoch 28/50\n",
      "6/6 - 6s - loss: 0.6470 - accuracy: 0.7708 - val_loss: 0.7374 - val_accuracy: 0.7656 - 6s/epoch - 934ms/step\n",
      "Epoch 29/50\n",
      "6/6 - 6s - loss: 0.6971 - accuracy: 0.7448 - val_loss: 1.3238 - val_accuracy: 0.6250 - 6s/epoch - 985ms/step\n",
      "Epoch 30/50\n",
      "6/6 - 6s - loss: 0.5468 - accuracy: 0.8021 - val_loss: 1.0181 - val_accuracy: 0.6875 - 6s/epoch - 996ms/step\n",
      "Epoch 31/50\n",
      "6/6 - 6s - loss: 0.6134 - accuracy: 0.8281 - val_loss: 1.1453 - val_accuracy: 0.6875 - 6s/epoch - 1s/step\n",
      "Epoch 32/50\n",
      "6/6 - 5s - loss: 0.7016 - accuracy: 0.7604 - val_loss: 1.1405 - val_accuracy: 0.6250 - 5s/epoch - 881ms/step\n",
      "Epoch 33/50\n",
      "6/6 - 6s - loss: 0.7078 - accuracy: 0.7865 - val_loss: 0.9370 - val_accuracy: 0.6719 - 6s/epoch - 968ms/step\n",
      "Epoch 34/50\n",
      "6/6 - 6s - loss: 0.6003 - accuracy: 0.7708 - val_loss: 1.1233 - val_accuracy: 0.6875 - 6s/epoch - 936ms/step\n",
      "Epoch 35/50\n",
      "6/6 - 6s - loss: 0.6840 - accuracy: 0.7552 - val_loss: 1.0468 - val_accuracy: 0.7188 - 6s/epoch - 1s/step\n",
      "Epoch 36/50\n",
      "6/6 - 6s - loss: 0.4899 - accuracy: 0.8281 - val_loss: 1.3827 - val_accuracy: 0.5469 - 6s/epoch - 929ms/step\n",
      "Epoch 37/50\n",
      "6/6 - 6s - loss: 0.6865 - accuracy: 0.7708 - val_loss: 1.1051 - val_accuracy: 0.5938 - 6s/epoch - 929ms/step\n",
      "Epoch 38/50\n",
      "6/6 - 10s - loss: 0.5358 - accuracy: 0.8177 - val_loss: 0.8352 - val_accuracy: 0.6719 - 10s/epoch - 2s/step\n",
      "Epoch 39/50\n",
      "6/6 - 10s - loss: 0.7530 - accuracy: 0.7240 - val_loss: 1.0381 - val_accuracy: 0.7188 - 10s/epoch - 2s/step\n",
      "Epoch 40/50\n",
      "6/6 - 10s - loss: 0.6371 - accuracy: 0.8073 - val_loss: 1.4225 - val_accuracy: 0.5938 - 10s/epoch - 2s/step\n",
      "Epoch 41/50\n",
      "6/6 - 5s - loss: 0.6878 - accuracy: 0.7604 - val_loss: 1.0532 - val_accuracy: 0.6875 - 5s/epoch - 844ms/step\n",
      "Epoch 42/50\n",
      "6/6 - 6s - loss: 0.6686 - accuracy: 0.7552 - val_loss: 1.1328 - val_accuracy: 0.5469 - 6s/epoch - 1s/step\n",
      "Epoch 43/50\n",
      "6/6 - 5s - loss: 0.6395 - accuracy: 0.7760 - val_loss: 0.9061 - val_accuracy: 0.7188 - 5s/epoch - 871ms/step\n",
      "Epoch 44/50\n",
      "6/6 - 5s - loss: 0.5466 - accuracy: 0.7865 - val_loss: 0.8275 - val_accuracy: 0.7812 - 5s/epoch - 847ms/step\n",
      "Epoch 45/50\n",
      "6/6 - 8s - loss: 0.7018 - accuracy: 0.7292 - val_loss: 1.2211 - val_accuracy: 0.7188 - 8s/epoch - 1s/step\n",
      "Epoch 46/50\n",
      "6/6 - 6s - loss: 0.4868 - accuracy: 0.8594 - val_loss: 1.3055 - val_accuracy: 0.6562 - 6s/epoch - 926ms/step\n",
      "Epoch 47/50\n",
      "6/6 - 5s - loss: 0.5750 - accuracy: 0.8021 - val_loss: 1.2150 - val_accuracy: 0.6719 - 5s/epoch - 908ms/step\n",
      "Epoch 48/50\n",
      "6/6 - 5s - loss: 0.6437 - accuracy: 0.7969 - val_loss: 0.9431 - val_accuracy: 0.7031 - 5s/epoch - 881ms/step\n",
      "Epoch 49/50\n",
      "6/6 - 5s - loss: 0.4937 - accuracy: 0.8333 - val_loss: 1.0001 - val_accuracy: 0.7031 - 5s/epoch - 826ms/step\n",
      "Epoch 50/50\n",
      "6/6 - 5s - loss: 0.5743 - accuracy: 0.8229 - val_loss: 1.0951 - val_accuracy: 0.6562 - 5s/epoch - 802ms/step\n"
     ]
    }
   ],
   "source": [
    "#hist2 = model.fit(training_generator, \n",
    "#                  validation_data=validation_generator,\n",
    "#                  use_multiprocessing=True, verbose = 2, epochs = cfg.n_epochs)"
   ]
  },
  {
   "cell_type": "code",
   "execution_count": 25,
   "id": "c960a753-9234-4fb4-b24c-1368a69e1560",
   "metadata": {},
   "outputs": [
    {
     "data": {
      "image/png": "[encoded data removed]",
      "text/plain": [
       "<Figure size 640x480 with 1 Axes>"
      ]
     },
     "metadata": {},
     "output_type": "display_data"
    },
    {
     "data": {
      "image/png": "[encoded data removed]",
      "text/plain": [
       "<Figure size 640x480 with 1 Axes>"
      ]
     },
     "metadata": {},
     "output_type": "display_data"
    }
   ],
   "source": [
    "#plot_history(hist2)"
   ]
  },
  {
   "cell_type": "markdown",
   "id": "daabf52b-d5b8-4e78-a158-442e302006e1",
   "metadata": {},
   "source": [
    "## Predict method\n",
    "\n",
    "    -load spectrogram\n",
    "    -divide into slices\n",
    "    -pad last slice if long enough\n",
    "    -predict slices\n",
    "    -average prediction or smth."
   ]
  },
  {
   "cell_type": "code",
   "execution_count": 121,
   "id": "3c5baeb9-518d-4e4d-b586-3d2d9e1527f9",
   "metadata": {},
   "outputs": [
    {
     "name": "stdout",
     "output_type": "stream",
     "text": [
      "1/1 [==============================] - 0s 23ms/step\n"
     ]
    },
    {
     "data": {
      "text/plain": [
       "array([[1.2637120e-03, 7.5691300e-05, 8.0116908e-05, 1.5480775e-06,\n",
       "        9.7357935e-01, 8.5799629e-04, 3.6878897e-05, 1.8649423e-06,\n",
       "        2.4109177e-05, 2.4078814e-02]], dtype=float32)"
      ]
     },
     "execution_count": 121,
     "metadata": {},
     "output_type": "execute_result"
    }
   ],
   "source": [
    "spec = load_random_spec_slice(df, 269)\n",
    "\n",
    "model.predict(spec.reshape(1, *spec.shape, 1))"
   ]
  },
  {
   "cell_type": "code",
   "execution_count": 118,
   "id": "9081773a-acb4-496c-8526-c4630fe1d696",
   "metadata": {},
   "outputs": [],
   "source": [
    "def pad_spectrogram(spec, shape = cfg.input_dim, random = False):\n",
    "    _ = np.zeros(shape)\n",
    "    if random:\n",
    "        rdm = random_int(maxval=shape[1]-spec.shape[1])\n",
    "        _[:,rdm: rdm + spec.shape[1]] = spec \n",
    "    else:\n",
    "        _[:,:spec.shape[1]] = spec\n",
    "    return _"
   ]
  },
  {
   "cell_type": "code",
   "execution_count": 125,
   "id": "75acc13d-b578-4b24-bd40-00975acf4636",
   "metadata": {},
   "outputs": [],
   "source": [
    "ID = 0\n",
    "name = df.spectrogram.iloc[ID]\n",
    "hdf5_path = os.path.dirname(df.fullfilename.iloc[ID]) + \"/spectrograms.h5\"\n",
    "spec_length = df.length_spectrogram.iloc[ID]\n",
    "spec = load_spectrogram_slice(hdf5_path, name, start_row = 0, end_row =None, start_col = 0, end_col = None)\n",
    "slices = []\n",
    "for i in range(spec_length//cfg.input_dim[1]):\n",
    "    slices.append(spec[:,i*cfg.input_dim[1]:(i+1)*cfg.input_dim[1]])\n",
    "if spec_length%cfg.input_dim[1]/cfg.input_dim[1] > 5/cfg.duration: # consider last slice, only if it is longer than the shortest clips in the dataset \n",
    "    slices.append(pad_spectrogram(spec[:, (i+1)*cfg.input_dim[1]:None], random = True))\n",
    "preds = model.predict(np.expand_dims(np.array(slices), axis = -1))"
   ]
  },
  {
   "cell_type": "code",
   "execution_count": 139,
   "id": "09ccb289-2805-4a3d-9412-244dea70ea33",
   "metadata": {},
   "outputs": [
    {
     "data": {
      "image/png": "[encoded data removed]",
      "text/plain": [
       "<Figure size 640x480 with 1 Axes>"
      ]
     },
     "metadata": {},
     "output_type": "display_data"
    }
   ],
   "source": [
    "pad_spectrogram(slices[19]).shape\n",
    "\n",
    "fig, ax = plt.subplots(1,1)\n",
    "librosa.display.specshow(slices[19], sr=cfg.sr, hop_length=cfg.hop_length,\n",
    "                         x_axis='time', ax=ax);"
   ]
  },
  {
   "cell_type": "code",
   "execution_count": 142,
   "id": "26524e19-06de-4ca5-a870-f032ea01832b",
   "metadata": {},
   "outputs": [],
   "source": [
    "def predict_file(df, ID, model):\n",
    "    name = df.spectrogram.iloc[ID]\n",
    "    hdf5_path = os.path.dirname(df.fullfilename.iloc[ID]) + \"/spectrograms.h5\"\n",
    "    spec_length = df.length_spectrogram.iloc[ID]\n",
    "    spec = load_spectrogram_slice(hdf5_path, name)\n",
    "    slices = []\n",
    "    \n",
    "    for i in range(spec_length//cfg.input_dim[1]):\n",
    "        slices.append(spec[:,i*cfg.input_dim[1]:(i+1)*cfg.input_dim[1]])\n",
    "    if spec_length%cfg.input_dim[1]/cfg.input_dim[1] > 5/cfg.duration:\n",
    "        # consider last slice, only if it is longer than the shortest clips in the dataset \n",
    "        slices.append(pad_spectrogram(spec[:, (i+1)*cfg.input_dim[1]:None], random = True))\n",
    "    \n",
    "    preds = model.predict(np.expand_dims(np.array(slices), axis = -1))\n",
    "    \n",
    "    return np.mean(preds, axis = 0) # return mean prediction"
   ]
  },
  {
   "cell_type": "code",
   "execution_count": 147,
   "id": "444ae3c7-dbec-4717-a97d-4c45c70103a7",
   "metadata": {},
   "outputs": [
    {
     "name": "stderr",
     "output_type": "stream",
     "text": [
      "  0%|                                                                                           | 0/300 [00:00<?, ?it/s]"
     ]
    },
    {
     "name": "stdout",
     "output_type": "stream",
     "text": [
      "1/1 [==============================] - 0s 58ms/step\n"
     ]
    },
    {
     "name": "stderr",
     "output_type": "stream",
     "text": [
      "  0%|▎                                                                                  | 1/300 [00:00<00:48,  6.22it/s]"
     ]
    },
    {
     "name": "stdout",
     "output_type": "stream",
     "text": [
      "1/1 [==============================] - 0s 54ms/step\n"
     ]
    },
    {
     "name": "stderr",
     "output_type": "stream",
     "text": [
      "  1%|▌                                                                                  | 2/300 [00:00<00:41,  7.10it/s]"
     ]
    },
    {
     "name": "stdout",
     "output_type": "stream",
     "text": [
      "1/1 [==============================] - 0s 48ms/step\n"
     ]
    },
    {
     "name": "stderr",
     "output_type": "stream",
     "text": [
      "  1%|▊                                                                                  | 3/300 [00:00<00:39,  7.58it/s]"
     ]
    },
    {
     "name": "stdout",
     "output_type": "stream",
     "text": [
      "1/1 [==============================] - 0s 45ms/step\n"
     ]
    },
    {
     "name": "stderr",
     "output_type": "stream",
     "text": [
      "  1%|█                                                                                  | 4/300 [00:00<00:36,  8.05it/s]"
     ]
    },
    {
     "name": "stdout",
     "output_type": "stream",
     "text": [
      "1/1 [==============================] - 0s 48ms/step\n"
     ]
    },
    {
     "name": "stderr",
     "output_type": "stream",
     "text": [
      "  2%|█▍                                                                                 | 5/300 [00:00<00:35,  8.26it/s]"
     ]
    },
    {
     "name": "stdout",
     "output_type": "stream",
     "text": [
      "1/1 [==============================] - 0s 45ms/step\n"
     ]
    },
    {
     "name": "stderr",
     "output_type": "stream",
     "text": [
      "  2%|█▋                                                                                 | 6/300 [00:00<00:35,  8.39it/s]"
     ]
    },
    {
     "name": "stdout",
     "output_type": "stream",
     "text": [
      "1/1 [==============================] - 0s 48ms/step\n"
     ]
    },
    {
     "name": "stderr",
     "output_type": "stream",
     "text": [
      "  2%|█▉                                                                                 | 7/300 [00:00<00:35,  8.35it/s]"
     ]
    },
    {
     "name": "stdout",
     "output_type": "stream",
     "text": [
      "1/1 [==============================] - 0s 47ms/step\n"
     ]
    },
    {
     "name": "stderr",
     "output_type": "stream",
     "text": [
      "  3%|██▏                                                                                | 8/300 [00:00<00:34,  8.53it/s]"
     ]
    },
    {
     "name": "stdout",
     "output_type": "stream",
     "text": [
      "1/1 [==============================] - 0s 49ms/step\n"
     ]
    },
    {
     "name": "stderr",
     "output_type": "stream",
     "text": [
      "  3%|██▍                                                                                | 9/300 [00:01<00:33,  8.59it/s]"
     ]
    },
    {
     "name": "stdout",
     "output_type": "stream",
     "text": [
      "1/1 [==============================] - 0s 49ms/step\n"
     ]
    },
    {
     "name": "stderr",
     "output_type": "stream",
     "text": [
      "  3%|██▋                                                                               | 10/300 [00:01<00:32,  8.85it/s]"
     ]
    },
    {
     "name": "stdout",
     "output_type": "stream",
     "text": [
      "1/1 [==============================] - 0s 46ms/step\n"
     ]
    },
    {
     "name": "stderr",
     "output_type": "stream",
     "text": [
      "  4%|███                                                                               | 11/300 [00:01<00:32,  8.94it/s]"
     ]
    },
    {
     "name": "stdout",
     "output_type": "stream",
     "text": [
      "1/1 [==============================] - 0s 47ms/step\n"
     ]
    },
    {
     "name": "stderr",
     "output_type": "stream",
     "text": [
      "  4%|███▎                                                                              | 12/300 [00:01<00:32,  8.85it/s]"
     ]
    },
    {
     "name": "stdout",
     "output_type": "stream",
     "text": [
      "1/1 [==============================] - 0s 51ms/step\n"
     ]
    },
    {
     "name": "stderr",
     "output_type": "stream",
     "text": [
      "  4%|███▌                                                                              | 13/300 [00:01<00:33,  8.68it/s]"
     ]
    },
    {
     "name": "stdout",
     "output_type": "stream",
     "text": [
      "1/1 [==============================] - 0s 48ms/step\n"
     ]
    },
    {
     "name": "stderr",
     "output_type": "stream",
     "text": [
      "  5%|███▊                                                                              | 14/300 [00:01<00:32,  8.72it/s]"
     ]
    },
    {
     "name": "stdout",
     "output_type": "stream",
     "text": [
      "1/1 [==============================] - 0s 43ms/step\n"
     ]
    },
    {
     "name": "stderr",
     "output_type": "stream",
     "text": [
      "  5%|████                                                                              | 15/300 [00:01<00:31,  8.95it/s]"
     ]
    },
    {
     "name": "stdout",
     "output_type": "stream",
     "text": [
      "1/1 [==============================] - 0s 44ms/step\n"
     ]
    },
    {
     "name": "stderr",
     "output_type": "stream",
     "text": [
      "  5%|████▎                                                                             | 16/300 [00:01<00:31,  9.07it/s]"
     ]
    },
    {
     "name": "stdout",
     "output_type": "stream",
     "text": [
      "1/1 [==============================] - 0s 45ms/step\n"
     ]
    },
    {
     "name": "stderr",
     "output_type": "stream",
     "text": [
      "  6%|████▋                                                                             | 17/300 [00:01<00:31,  8.94it/s]"
     ]
    },
    {
     "name": "stdout",
     "output_type": "stream",
     "text": [
      "1/1 [==============================] - 0s 46ms/step\n"
     ]
    },
    {
     "name": "stderr",
     "output_type": "stream",
     "text": [
      "  6%|████▉                                                                             | 18/300 [00:02<00:31,  8.83it/s]"
     ]
    },
    {
     "name": "stdout",
     "output_type": "stream",
     "text": [
      "1/1 [==============================] - 0s 45ms/step\n"
     ]
    },
    {
     "name": "stderr",
     "output_type": "stream",
     "text": [
      "  6%|█████▏                                                                            | 19/300 [00:02<00:31,  8.85it/s]"
     ]
    },
    {
     "name": "stdout",
     "output_type": "stream",
     "text": [
      "1/1 [==============================] - 0s 44ms/step\n"
     ]
    },
    {
     "name": "stderr",
     "output_type": "stream",
     "text": [
      "  7%|█████▍                                                                            | 20/300 [00:02<00:31,  8.76it/s]"
     ]
    },
    {
     "name": "stdout",
     "output_type": "stream",
     "text": [
      "1/1 [==============================] - 0s 47ms/step\n"
     ]
    },
    {
     "name": "stderr",
     "output_type": "stream",
     "text": [
      "  7%|█████▋                                                                            | 21/300 [00:02<00:31,  8.77it/s]"
     ]
    },
    {
     "name": "stdout",
     "output_type": "stream",
     "text": [
      "1/1 [==============================] - 0s 45ms/step\n"
     ]
    },
    {
     "name": "stderr",
     "output_type": "stream",
     "text": [
      "  7%|██████                                                                            | 22/300 [00:02<00:31,  8.82it/s]"
     ]
    },
    {
     "name": "stdout",
     "output_type": "stream",
     "text": [
      "1/1 [==============================] - 0s 43ms/step\n"
     ]
    },
    {
     "name": "stderr",
     "output_type": "stream",
     "text": [
      "  8%|██████▎                                                                           | 23/300 [00:02<00:31,  8.92it/s]"
     ]
    },
    {
     "name": "stdout",
     "output_type": "stream",
     "text": [
      "1/1 [==============================] - 0s 45ms/step\n"
     ]
    },
    {
     "name": "stderr",
     "output_type": "stream",
     "text": [
      "  8%|██████▌                                                                           | 24/300 [00:02<00:31,  8.81it/s]"
     ]
    },
    {
     "name": "stdout",
     "output_type": "stream",
     "text": [
      "1/1 [==============================] - 0s 43ms/step\n"
     ]
    },
    {
     "name": "stderr",
     "output_type": "stream",
     "text": [
      "  8%|██████▊                                                                           | 25/300 [00:02<00:31,  8.73it/s]"
     ]
    },
    {
     "name": "stdout",
     "output_type": "stream",
     "text": [
      "1/1 [==============================] - 0s 58ms/step\n"
     ]
    },
    {
     "name": "stderr",
     "output_type": "stream",
     "text": [
      "  9%|███████                                                                           | 26/300 [00:03<00:32,  8.51it/s]"
     ]
    },
    {
     "name": "stdout",
     "output_type": "stream",
     "text": [
      "1/1 [==============================] - 0s 48ms/step\n"
     ]
    },
    {
     "name": "stderr",
     "output_type": "stream",
     "text": [
      "  9%|███████▍                                                                          | 27/300 [00:03<00:32,  8.47it/s]"
     ]
    },
    {
     "name": "stdout",
     "output_type": "stream",
     "text": [
      "1/1 [==============================] - 0s 42ms/step\n"
     ]
    },
    {
     "name": "stderr",
     "output_type": "stream",
     "text": [
      "  9%|███████▋                                                                          | 28/300 [00:03<00:31,  8.74it/s]"
     ]
    },
    {
     "name": "stdout",
     "output_type": "stream",
     "text": [
      "1/1 [==============================] - 0s 42ms/step\n"
     ]
    },
    {
     "name": "stderr",
     "output_type": "stream",
     "text": [
      " 10%|███████▉                                                                          | 29/300 [00:03<00:30,  8.78it/s]"
     ]
    },
    {
     "name": "stdout",
     "output_type": "stream",
     "text": [
      "1/1 [==============================] - 0s 42ms/step\n"
     ]
    },
    {
     "name": "stderr",
     "output_type": "stream",
     "text": [
      " 10%|████████▏                                                                         | 30/300 [00:03<00:30,  8.90it/s]"
     ]
    },
    {
     "name": "stdout",
     "output_type": "stream",
     "text": [
      "1/1 [==============================] - 0s 49ms/step\n"
     ]
    },
    {
     "name": "stderr",
     "output_type": "stream",
     "text": [
      " 10%|████████▍                                                                         | 31/300 [00:03<00:30,  8.91it/s]"
     ]
    },
    {
     "name": "stdout",
     "output_type": "stream",
     "text": [
      "1/1 [==============================] - 0s 46ms/step\n"
     ]
    },
    {
     "name": "stderr",
     "output_type": "stream",
     "text": [
      " 11%|████████▋                                                                         | 32/300 [00:03<00:30,  8.66it/s]"
     ]
    },
    {
     "name": "stdout",
     "output_type": "stream",
     "text": [
      "1/1 [==============================] - 0s 44ms/step\n"
     ]
    },
    {
     "name": "stderr",
     "output_type": "stream",
     "text": [
      " 11%|█████████                                                                         | 33/300 [00:03<00:30,  8.70it/s]"
     ]
    },
    {
     "name": "stdout",
     "output_type": "stream",
     "text": [
      "1/1 [==============================] - 0s 46ms/step\n"
     ]
    },
    {
     "name": "stderr",
     "output_type": "stream",
     "text": [
      " 11%|█████████▎                                                                        | 34/300 [00:03<00:30,  8.77it/s]"
     ]
    },
    {
     "name": "stdout",
     "output_type": "stream",
     "text": [
      "1/1 [==============================] - 0s 43ms/step\n"
     ]
    },
    {
     "name": "stderr",
     "output_type": "stream",
     "text": [
      " 12%|█████████▌                                                                        | 35/300 [00:04<00:29,  8.90it/s]"
     ]
    },
    {
     "name": "stdout",
     "output_type": "stream",
     "text": [
      "1/1 [==============================] - 0s 44ms/step\n"
     ]
    },
    {
     "name": "stderr",
     "output_type": "stream",
     "text": [
      " 12%|█████████▊                                                                        | 36/300 [00:04<00:29,  8.85it/s]"
     ]
    },
    {
     "name": "stdout",
     "output_type": "stream",
     "text": [
      "1/1 [==============================] - 0s 46ms/step\n"
     ]
    },
    {
     "name": "stderr",
     "output_type": "stream",
     "text": [
      " 12%|██████████                                                                        | 37/300 [00:04<00:31,  8.26it/s]"
     ]
    },
    {
     "name": "stdout",
     "output_type": "stream",
     "text": [
      "1/1 [==============================] - 0s 45ms/step\n"
     ]
    },
    {
     "name": "stderr",
     "output_type": "stream",
     "text": [
      " 13%|██████████▍                                                                       | 38/300 [00:04<00:30,  8.46it/s]"
     ]
    },
    {
     "name": "stdout",
     "output_type": "stream",
     "text": [
      "1/1 [==============================] - 0s 44ms/step\n"
     ]
    },
    {
     "name": "stderr",
     "output_type": "stream",
     "text": [
      " 13%|██████████▋                                                                       | 39/300 [00:04<00:30,  8.66it/s]"
     ]
    },
    {
     "name": "stdout",
     "output_type": "stream",
     "text": [
      "1/1 [==============================] - 0s 47ms/step\n"
     ]
    },
    {
     "name": "stderr",
     "output_type": "stream",
     "text": [
      " 13%|██████████▉                                                                       | 40/300 [00:04<00:29,  8.68it/s]"
     ]
    },
    {
     "name": "stdout",
     "output_type": "stream",
     "text": [
      "1/1 [==============================] - 0s 42ms/step\n"
     ]
    },
    {
     "name": "stderr",
     "output_type": "stream",
     "text": [
      " 14%|███████████▏                                                                      | 41/300 [00:04<00:29,  8.90it/s]"
     ]
    },
    {
     "name": "stdout",
     "output_type": "stream",
     "text": [
      "1/1 [==============================] - 0s 52ms/step\n"
     ]
    },
    {
     "name": "stderr",
     "output_type": "stream",
     "text": [
      " 14%|███████████▍                                                                      | 42/300 [00:04<00:31,  8.17it/s]"
     ]
    },
    {
     "name": "stdout",
     "output_type": "stream",
     "text": [
      "1/1 [==============================] - 0s 47ms/step\n"
     ]
    },
    {
     "name": "stderr",
     "output_type": "stream",
     "text": [
      " 14%|███████████▊                                                                      | 43/300 [00:05<00:30,  8.32it/s]"
     ]
    },
    {
     "name": "stdout",
     "output_type": "stream",
     "text": [
      "1/1 [==============================] - 0s 51ms/step\n"
     ]
    },
    {
     "name": "stderr",
     "output_type": "stream",
     "text": [
      " 15%|████████████                                                                      | 44/300 [00:05<00:29,  8.54it/s]"
     ]
    },
    {
     "name": "stdout",
     "output_type": "stream",
     "text": [
      "1/1 [==============================] - 0s 43ms/step\n"
     ]
    },
    {
     "name": "stderr",
     "output_type": "stream",
     "text": [
      " 15%|████████████▎                                                                     | 45/300 [00:05<00:29,  8.63it/s]"
     ]
    },
    {
     "name": "stdout",
     "output_type": "stream",
     "text": [
      "1/1 [==============================] - 0s 44ms/step\n"
     ]
    },
    {
     "name": "stderr",
     "output_type": "stream",
     "text": [
      " 15%|████████████▌                                                                     | 46/300 [00:05<00:29,  8.62it/s]"
     ]
    },
    {
     "name": "stdout",
     "output_type": "stream",
     "text": [
      "1/1 [==============================] - 0s 45ms/step\n"
     ]
    },
    {
     "name": "stderr",
     "output_type": "stream",
     "text": [
      " 16%|████████████▊                                                                     | 47/300 [00:05<00:29,  8.66it/s]"
     ]
    },
    {
     "name": "stdout",
     "output_type": "stream",
     "text": [
      "1/1 [==============================] - 0s 44ms/step\n"
     ]
    },
    {
     "name": "stderr",
     "output_type": "stream",
     "text": [
      " 16%|█████████████                                                                     | 48/300 [00:05<00:29,  8.69it/s]"
     ]
    },
    {
     "name": "stdout",
     "output_type": "stream",
     "text": [
      "1/1 [==============================] - 0s 43ms/step\n"
     ]
    },
    {
     "name": "stderr",
     "output_type": "stream",
     "text": [
      " 16%|█████████████▍                                                                    | 49/300 [00:05<00:28,  8.82it/s]"
     ]
    },
    {
     "name": "stdout",
     "output_type": "stream",
     "text": [
      "1/1 [==============================] - 0s 44ms/step\n"
     ]
    },
    {
     "name": "stderr",
     "output_type": "stream",
     "text": [
      " 17%|█████████████▋                                                                    | 50/300 [00:05<00:27,  8.94it/s]"
     ]
    },
    {
     "name": "stdout",
     "output_type": "stream",
     "text": [
      "1/1 [==============================] - 0s 42ms/step\n"
     ]
    },
    {
     "name": "stderr",
     "output_type": "stream",
     "text": [
      " 17%|█████████████▉                                                                    | 51/300 [00:05<00:27,  9.15it/s]"
     ]
    },
    {
     "name": "stdout",
     "output_type": "stream",
     "text": [
      "1/1 [==============================] - 0s 43ms/step\n"
     ]
    },
    {
     "name": "stderr",
     "output_type": "stream",
     "text": [
      " 17%|██████████████▏                                                                   | 52/300 [00:05<00:26,  9.30it/s]"
     ]
    },
    {
     "name": "stdout",
     "output_type": "stream",
     "text": [
      "1/1 [==============================] - 0s 44ms/step\n"
     ]
    },
    {
     "name": "stderr",
     "output_type": "stream",
     "text": [
      " 18%|██████████████▍                                                                   | 53/300 [00:06<00:26,  9.32it/s]"
     ]
    },
    {
     "name": "stdout",
     "output_type": "stream",
     "text": [
      "1/1 [==============================] - 0s 45ms/step\n"
     ]
    },
    {
     "name": "stderr",
     "output_type": "stream",
     "text": [
      " 18%|██████████████▊                                                                   | 54/300 [00:06<00:26,  9.15it/s]"
     ]
    },
    {
     "name": "stdout",
     "output_type": "stream",
     "text": [
      "1/1 [==============================] - 0s 45ms/step\n"
     ]
    },
    {
     "name": "stderr",
     "output_type": "stream",
     "text": [
      " 18%|███████████████                                                                   | 55/300 [00:06<00:26,  9.08it/s]"
     ]
    },
    {
     "name": "stdout",
     "output_type": "stream",
     "text": [
      "1/1 [==============================] - 0s 38ms/step\n"
     ]
    },
    {
     "name": "stderr",
     "output_type": "stream",
     "text": [
      " 19%|███████████████▎                                                                  | 56/300 [00:06<00:26,  9.23it/s]"
     ]
    },
    {
     "name": "stdout",
     "output_type": "stream",
     "text": [
      "1/1 [==============================] - 0s 40ms/step\n"
     ]
    },
    {
     "name": "stderr",
     "output_type": "stream",
     "text": [
      " 19%|███████████████▌                                                                  | 57/300 [00:06<00:25,  9.39it/s]"
     ]
    },
    {
     "name": "stdout",
     "output_type": "stream",
     "text": [
      "1/1 [==============================] - 0s 40ms/step\n"
     ]
    },
    {
     "name": "stderr",
     "output_type": "stream",
     "text": [
      " 19%|███████████████▊                                                                  | 58/300 [00:06<00:25,  9.44it/s]"
     ]
    },
    {
     "name": "stdout",
     "output_type": "stream",
     "text": [
      "1/1 [==============================] - 0s 44ms/step\n"
     ]
    },
    {
     "name": "stderr",
     "output_type": "stream",
     "text": [
      " 20%|████████████████▏                                                                 | 59/300 [00:06<00:26,  9.22it/s]"
     ]
    },
    {
     "name": "stdout",
     "output_type": "stream",
     "text": [
      "1/1 [==============================] - 0s 46ms/step\n"
     ]
    },
    {
     "name": "stderr",
     "output_type": "stream",
     "text": [
      " 20%|████████████████▍                                                                 | 60/300 [00:06<00:26,  9.03it/s]"
     ]
    },
    {
     "name": "stdout",
     "output_type": "stream",
     "text": [
      "1/1 [==============================] - 0s 47ms/step\n"
     ]
    },
    {
     "name": "stderr",
     "output_type": "stream",
     "text": [
      " 20%|████████████████▋                                                                 | 61/300 [00:06<00:26,  8.92it/s]"
     ]
    },
    {
     "name": "stdout",
     "output_type": "stream",
     "text": [
      "1/1 [==============================] - 0s 43ms/step\n"
     ]
    },
    {
     "name": "stderr",
     "output_type": "stream",
     "text": [
      " 21%|████████████████▉                                                                 | 62/300 [00:07<00:26,  8.89it/s]"
     ]
    },
    {
     "name": "stdout",
     "output_type": "stream",
     "text": [
      "1/1 [==============================] - 0s 49ms/step\n"
     ]
    },
    {
     "name": "stderr",
     "output_type": "stream",
     "text": [
      " 21%|█████████████████▏                                                                | 63/300 [00:07<00:27,  8.73it/s]"
     ]
    },
    {
     "name": "stdout",
     "output_type": "stream",
     "text": [
      "1/1 [==============================] - 0s 43ms/step\n"
     ]
    },
    {
     "name": "stderr",
     "output_type": "stream",
     "text": [
      " 21%|█████████████████▍                                                                | 64/300 [00:07<00:26,  8.90it/s]"
     ]
    },
    {
     "name": "stdout",
     "output_type": "stream",
     "text": [
      "1/1 [==============================] - 0s 49ms/step\n"
     ]
    },
    {
     "name": "stderr",
     "output_type": "stream",
     "text": [
      " 22%|█████████████████▊                                                                | 65/300 [00:07<00:26,  8.79it/s]"
     ]
    },
    {
     "name": "stdout",
     "output_type": "stream",
     "text": [
      "1/1 [==============================] - 0s 43ms/step\n"
     ]
    },
    {
     "name": "stderr",
     "output_type": "stream",
     "text": [
      " 22%|██████████████████                                                                | 66/300 [00:07<00:26,  8.87it/s]"
     ]
    },
    {
     "name": "stdout",
     "output_type": "stream",
     "text": [
      "1/1 [==============================] - 0s 46ms/step\n"
     ]
    },
    {
     "name": "stderr",
     "output_type": "stream",
     "text": [
      " 22%|██████████████████▎                                                               | 67/300 [00:07<00:26,  8.66it/s]"
     ]
    },
    {
     "name": "stdout",
     "output_type": "stream",
     "text": [
      "1/1 [==============================] - 0s 41ms/step\n"
     ]
    },
    {
     "name": "stderr",
     "output_type": "stream",
     "text": [
      " 23%|██████████████████▌                                                               | 68/300 [00:07<00:25,  8.97it/s]"
     ]
    },
    {
     "name": "stdout",
     "output_type": "stream",
     "text": [
      "1/1 [==============================] - 0s 44ms/step\n"
     ]
    },
    {
     "name": "stderr",
     "output_type": "stream",
     "text": [
      " 23%|██████████████████▊                                                               | 69/300 [00:07<00:25,  8.99it/s]"
     ]
    },
    {
     "name": "stdout",
     "output_type": "stream",
     "text": [
      "1/1 [==============================] - 0s 42ms/step\n"
     ]
    },
    {
     "name": "stderr",
     "output_type": "stream",
     "text": [
      " 23%|███████████████████▏                                                              | 70/300 [00:07<00:25,  8.99it/s]"
     ]
    },
    {
     "name": "stdout",
     "output_type": "stream",
     "text": [
      "1/1 [==============================] - 0s 44ms/step\n"
     ]
    },
    {
     "name": "stderr",
     "output_type": "stream",
     "text": [
      " 24%|███████████████████▍                                                              | 71/300 [00:08<00:25,  9.01it/s]"
     ]
    },
    {
     "name": "stdout",
     "output_type": "stream",
     "text": [
      "1/1 [==============================] - 0s 40ms/step\n"
     ]
    },
    {
     "name": "stderr",
     "output_type": "stream",
     "text": [
      " 24%|███████████████████▋                                                              | 72/300 [00:08<00:25,  9.09it/s]"
     ]
    },
    {
     "name": "stdout",
     "output_type": "stream",
     "text": [
      "1/1 [==============================] - 0s 46ms/step\n"
     ]
    },
    {
     "name": "stderr",
     "output_type": "stream",
     "text": [
      " 24%|███████████████████▉                                                              | 73/300 [00:08<00:25,  8.92it/s]"
     ]
    },
    {
     "name": "stdout",
     "output_type": "stream",
     "text": [
      "1/1 [==============================] - 0s 42ms/step\n"
     ]
    },
    {
     "name": "stderr",
     "output_type": "stream",
     "text": [
      " 25%|████████████████████▏                                                             | 74/300 [00:08<00:25,  8.91it/s]"
     ]
    },
    {
     "name": "stdout",
     "output_type": "stream",
     "text": [
      "1/1 [==============================] - 0s 41ms/step\n"
     ]
    },
    {
     "name": "stderr",
     "output_type": "stream",
     "text": [
      " 25%|████████████████████▌                                                             | 75/300 [00:08<00:25,  8.99it/s]"
     ]
    },
    {
     "name": "stdout",
     "output_type": "stream",
     "text": [
      "1/1 [==============================] - 0s 40ms/step\n"
     ]
    },
    {
     "name": "stderr",
     "output_type": "stream",
     "text": [
      " 25%|████████████████████▊                                                             | 76/300 [00:08<00:24,  9.11it/s]"
     ]
    },
    {
     "name": "stdout",
     "output_type": "stream",
     "text": [
      "1/1 [==============================] - 0s 44ms/step\n"
     ]
    },
    {
     "name": "stderr",
     "output_type": "stream",
     "text": [
      " 26%|█████████████████████                                                             | 77/300 [00:08<00:26,  8.34it/s]"
     ]
    },
    {
     "name": "stdout",
     "output_type": "stream",
     "text": [
      "1/1 [==============================] - 0s 40ms/step\n"
     ]
    },
    {
     "name": "stderr",
     "output_type": "stream",
     "text": [
      " 26%|█████████████████████▎                                                            | 78/300 [00:08<00:25,  8.68it/s]"
     ]
    },
    {
     "name": "stdout",
     "output_type": "stream",
     "text": [
      "1/1 [==============================] - 0s 40ms/step\n"
     ]
    },
    {
     "name": "stderr",
     "output_type": "stream",
     "text": [
      " 26%|█████████████████████▌                                                            | 79/300 [00:09<00:24,  8.90it/s]"
     ]
    },
    {
     "name": "stdout",
     "output_type": "stream",
     "text": [
      "1/1 [==============================] - 0s 36ms/step\n"
     ]
    },
    {
     "name": "stderr",
     "output_type": "stream",
     "text": [
      " 27%|█████████████████████▊                                                            | 80/300 [00:09<00:24,  9.13it/s]"
     ]
    },
    {
     "name": "stdout",
     "output_type": "stream",
     "text": [
      "1/1 [==============================] - 0s 36ms/step\n"
     ]
    },
    {
     "name": "stderr",
     "output_type": "stream",
     "text": [
      " 27%|██████████████████████▏                                                           | 81/300 [00:09<00:23,  9.28it/s]"
     ]
    },
    {
     "name": "stdout",
     "output_type": "stream",
     "text": [
      "1/1 [==============================] - 0s 37ms/step\n"
     ]
    },
    {
     "name": "stderr",
     "output_type": "stream",
     "text": [
      " 27%|██████████████████████▍                                                           | 82/300 [00:09<00:25,  8.55it/s]"
     ]
    },
    {
     "name": "stdout",
     "output_type": "stream",
     "text": [
      "1/1 [==============================] - 0s 37ms/step\n",
      "1/1 [==============================] - 0s 35ms/step\n"
     ]
    },
    {
     "name": "stderr",
     "output_type": "stream",
     "text": [
      " 28%|██████████████████████▉                                                           | 84/300 [00:09<00:23,  9.11it/s]"
     ]
    },
    {
     "name": "stdout",
     "output_type": "stream",
     "text": [
      "1/1 [==============================] - 0s 36ms/step\n"
     ]
    },
    {
     "name": "stderr",
     "output_type": "stream",
     "text": [
      " 28%|███████████████████████▏                                                          | 85/300 [00:09<00:23,  9.23it/s]"
     ]
    },
    {
     "name": "stdout",
     "output_type": "stream",
     "text": [
      "1/1 [==============================] - 0s 37ms/step\n"
     ]
    },
    {
     "name": "stderr",
     "output_type": "stream",
     "text": [
      " 29%|███████████████████████▌                                                          | 86/300 [00:09<00:22,  9.41it/s]"
     ]
    },
    {
     "name": "stdout",
     "output_type": "stream",
     "text": [
      "1/1 [==============================] - 0s 35ms/step\n"
     ]
    },
    {
     "name": "stderr",
     "output_type": "stream",
     "text": [
      " 29%|███████████████████████▊                                                          | 87/300 [00:09<00:22,  9.54it/s]"
     ]
    },
    {
     "name": "stdout",
     "output_type": "stream",
     "text": [
      "1/1 [==============================] - 0s 36ms/step\n"
     ]
    },
    {
     "name": "stderr",
     "output_type": "stream",
     "text": [
      " 29%|████████████████████████                                                          | 88/300 [00:09<00:22,  9.60it/s]"
     ]
    },
    {
     "name": "stdout",
     "output_type": "stream",
     "text": [
      "1/1 [==============================] - 0s 36ms/step\n"
     ]
    },
    {
     "name": "stderr",
     "output_type": "stream",
     "text": [
      " 30%|████████████████████████▎                                                         | 89/300 [00:10<00:21,  9.62it/s]"
     ]
    },
    {
     "name": "stdout",
     "output_type": "stream",
     "text": [
      "1/1 [==============================] - 0s 36ms/step\n"
     ]
    },
    {
     "name": "stderr",
     "output_type": "stream",
     "text": [
      " 30%|████████████████████████▌                                                         | 90/300 [00:10<00:21,  9.70it/s]"
     ]
    },
    {
     "name": "stdout",
     "output_type": "stream",
     "text": [
      "1/1 [==============================] - 0s 56ms/step\n"
     ]
    },
    {
     "name": "stderr",
     "output_type": "stream",
     "text": [
      " 30%|████████████████████████▊                                                         | 91/300 [00:10<00:22,  9.14it/s]"
     ]
    },
    {
     "name": "stdout",
     "output_type": "stream",
     "text": [
      "1/1 [==============================] - 0s 47ms/step\n"
     ]
    },
    {
     "name": "stderr",
     "output_type": "stream",
     "text": [
      " 31%|█████████████████████████▏                                                        | 92/300 [00:10<00:23,  8.85it/s]"
     ]
    },
    {
     "name": "stdout",
     "output_type": "stream",
     "text": [
      "1/1 [==============================] - 0s 51ms/step\n"
     ]
    },
    {
     "name": "stderr",
     "output_type": "stream",
     "text": [
      " 31%|█████████████████████████▍                                                        | 93/300 [00:10<00:24,  8.62it/s]"
     ]
    },
    {
     "name": "stdout",
     "output_type": "stream",
     "text": [
      "1/1 [==============================] - 0s 45ms/step\n"
     ]
    },
    {
     "name": "stderr",
     "output_type": "stream",
     "text": [
      " 31%|█████████████████████████▋                                                        | 94/300 [00:10<00:23,  8.63it/s]"
     ]
    },
    {
     "name": "stdout",
     "output_type": "stream",
     "text": [
      "1/1 [==============================] - 0s 46ms/step\n"
     ]
    },
    {
     "name": "stderr",
     "output_type": "stream",
     "text": [
      " 32%|█████████████████████████▉                                                        | 95/300 [00:10<00:23,  8.90it/s]"
     ]
    },
    {
     "name": "stdout",
     "output_type": "stream",
     "text": [
      "1/1 [==============================] - 0s 50ms/step\n"
     ]
    },
    {
     "name": "stderr",
     "output_type": "stream",
     "text": [
      " 32%|██████████████████████████▏                                                       | 96/300 [00:10<00:23,  8.75it/s]"
     ]
    },
    {
     "name": "stdout",
     "output_type": "stream",
     "text": [
      "1/1 [==============================] - 0s 47ms/step\n"
     ]
    },
    {
     "name": "stderr",
     "output_type": "stream",
     "text": [
      " 32%|██████████████████████████▌                                                       | 97/300 [00:10<00:23,  8.69it/s]"
     ]
    },
    {
     "name": "stdout",
     "output_type": "stream",
     "text": [
      "1/1 [==============================] - 0s 44ms/step\n"
     ]
    },
    {
     "name": "stderr",
     "output_type": "stream",
     "text": [
      " 33%|██████████████████████████▊                                                       | 98/300 [00:11<00:29,  6.83it/s]"
     ]
    },
    {
     "name": "stdout",
     "output_type": "stream",
     "text": [
      "1/1 [==============================] - 0s 48ms/step\n"
     ]
    },
    {
     "name": "stderr",
     "output_type": "stream",
     "text": [
      " 33%|███████████████████████████                                                       | 99/300 [00:11<00:27,  7.40it/s]"
     ]
    },
    {
     "name": "stdout",
     "output_type": "stream",
     "text": [
      "1/1 [==============================] - 0s 43ms/step\n"
     ]
    },
    {
     "name": "stderr",
     "output_type": "stream",
     "text": [
      " 33%|███████████████████████████                                                      | 100/300 [00:11<00:25,  7.89it/s]"
     ]
    },
    {
     "name": "stdout",
     "output_type": "stream",
     "text": [
      "1/1 [==============================] - 0s 43ms/step\n"
     ]
    },
    {
     "name": "stderr",
     "output_type": "stream",
     "text": [
      " 34%|███████████████████████████▎                                                     | 101/300 [00:11<00:23,  8.37it/s]"
     ]
    },
    {
     "name": "stdout",
     "output_type": "stream",
     "text": [
      "1/1 [==============================] - 0s 45ms/step\n"
     ]
    },
    {
     "name": "stderr",
     "output_type": "stream",
     "text": [
      " 34%|███████████████████████████▌                                                     | 102/300 [00:11<00:22,  8.70it/s]"
     ]
    },
    {
     "name": "stdout",
     "output_type": "stream",
     "text": [
      "1/1 [==============================] - 0s 43ms/step\n"
     ]
    },
    {
     "name": "stderr",
     "output_type": "stream",
     "text": [
      " 34%|███████████████████████████▊                                                     | 103/300 [00:11<00:22,  8.88it/s]"
     ]
    },
    {
     "name": "stdout",
     "output_type": "stream",
     "text": [
      "1/1 [==============================] - 0s 45ms/step\n"
     ]
    },
    {
     "name": "stderr",
     "output_type": "stream",
     "text": [
      " 35%|████████████████████████████                                                     | 104/300 [00:11<00:22,  8.77it/s]"
     ]
    },
    {
     "name": "stdout",
     "output_type": "stream",
     "text": [
      "1/1 [==============================] - 0s 43ms/step\n"
     ]
    },
    {
     "name": "stderr",
     "output_type": "stream",
     "text": [
      " 35%|████████████████████████████▎                                                    | 105/300 [00:11<00:22,  8.73it/s]"
     ]
    },
    {
     "name": "stdout",
     "output_type": "stream",
     "text": [
      "1/1 [==============================] - 0s 45ms/step\n"
     ]
    },
    {
     "name": "stderr",
     "output_type": "stream",
     "text": [
      " 35%|████████████████████████████▌                                                    | 106/300 [00:12<00:22,  8.71it/s]"
     ]
    },
    {
     "name": "stdout",
     "output_type": "stream",
     "text": [
      "1/1 [==============================] - 0s 44ms/step\n"
     ]
    },
    {
     "name": "stderr",
     "output_type": "stream",
     "text": [
      " 36%|████████████████████████████▉                                                    | 107/300 [00:12<00:21,  8.82it/s]"
     ]
    },
    {
     "name": "stdout",
     "output_type": "stream",
     "text": [
      "1/1 [==============================] - 0s 41ms/step\n"
     ]
    },
    {
     "name": "stderr",
     "output_type": "stream",
     "text": [
      " 36%|█████████████████████████████▏                                                   | 108/300 [00:12<00:21,  9.01it/s]"
     ]
    },
    {
     "name": "stdout",
     "output_type": "stream",
     "text": [
      "1/1 [==============================] - 0s 43ms/step\n"
     ]
    },
    {
     "name": "stderr",
     "output_type": "stream",
     "text": [
      " 36%|█████████████████████████████▍                                                   | 109/300 [00:12<00:21,  9.08it/s]"
     ]
    },
    {
     "name": "stdout",
     "output_type": "stream",
     "text": [
      "1/1 [==============================] - 0s 42ms/step\n",
      "1/1 [==============================] - 0s 47ms/step\n"
     ]
    },
    {
     "name": "stderr",
     "output_type": "stream",
     "text": [
      " 37%|█████████████████████████████▉                                                   | 111/300 [00:12<00:20,  9.40it/s]"
     ]
    },
    {
     "name": "stdout",
     "output_type": "stream",
     "text": [
      "1/1 [==============================] - 0s 40ms/step\n"
     ]
    },
    {
     "name": "stderr",
     "output_type": "stream",
     "text": [
      " 37%|██████████████████████████████▏                                                  | 112/300 [00:12<00:20,  9.34it/s]"
     ]
    },
    {
     "name": "stdout",
     "output_type": "stream",
     "text": [
      "1/1 [==============================] - 0s 43ms/step\n"
     ]
    },
    {
     "name": "stderr",
     "output_type": "stream",
     "text": [
      " 38%|██████████████████████████████▌                                                  | 113/300 [00:12<00:20,  9.17it/s]"
     ]
    },
    {
     "name": "stdout",
     "output_type": "stream",
     "text": [
      "1/1 [==============================] - 0s 43ms/step\n"
     ]
    },
    {
     "name": "stderr",
     "output_type": "stream",
     "text": [
      " 38%|██████████████████████████████▊                                                  | 114/300 [00:12<00:20,  9.16it/s]"
     ]
    },
    {
     "name": "stdout",
     "output_type": "stream",
     "text": [
      "1/1 [==============================] - 0s 42ms/step\n"
     ]
    },
    {
     "name": "stderr",
     "output_type": "stream",
     "text": [
      " 38%|███████████████████████████████                                                  | 115/300 [00:13<00:20,  9.14it/s]"
     ]
    },
    {
     "name": "stdout",
     "output_type": "stream",
     "text": [
      "1/1 [==============================] - 0s 45ms/step\n"
     ]
    },
    {
     "name": "stderr",
     "output_type": "stream",
     "text": [
      " 39%|███████████████████████████████▎                                                 | 116/300 [00:13<00:20,  9.08it/s]"
     ]
    },
    {
     "name": "stdout",
     "output_type": "stream",
     "text": [
      "1/1 [==============================] - 0s 48ms/step\n"
     ]
    },
    {
     "name": "stderr",
     "output_type": "stream",
     "text": [
      " 39%|███████████████████████████████▌                                                 | 117/300 [00:13<00:20,  8.97it/s]"
     ]
    },
    {
     "name": "stdout",
     "output_type": "stream",
     "text": [
      "1/1 [==============================] - 0s 44ms/step\n"
     ]
    },
    {
     "name": "stderr",
     "output_type": "stream",
     "text": [
      " 39%|███████████████████████████████▊                                                 | 118/300 [00:13<00:20,  8.96it/s]"
     ]
    },
    {
     "name": "stdout",
     "output_type": "stream",
     "text": [
      "1/1 [==============================] - 0s 42ms/step\n"
     ]
    },
    {
     "name": "stderr",
     "output_type": "stream",
     "text": [
      " 40%|████████████████████████████████▏                                                | 119/300 [00:13<00:20,  8.92it/s]"
     ]
    },
    {
     "name": "stdout",
     "output_type": "stream",
     "text": [
      "1/1 [==============================] - 0s 46ms/step\n"
     ]
    },
    {
     "name": "stderr",
     "output_type": "stream",
     "text": [
      " 40%|████████████████████████████████▍                                                | 120/300 [00:13<00:20,  8.94it/s]"
     ]
    },
    {
     "name": "stdout",
     "output_type": "stream",
     "text": [
      "1/1 [==============================] - 0s 47ms/step\n"
     ]
    },
    {
     "name": "stderr",
     "output_type": "stream",
     "text": [
      " 40%|████████████████████████████████▋                                                | 121/300 [00:13<00:20,  8.89it/s]"
     ]
    },
    {
     "name": "stdout",
     "output_type": "stream",
     "text": [
      "1/1 [==============================] - 0s 48ms/step\n"
     ]
    },
    {
     "name": "stderr",
     "output_type": "stream",
     "text": [
      " 41%|████████████████████████████████▉                                                | 122/300 [00:13<00:20,  8.85it/s]"
     ]
    },
    {
     "name": "stdout",
     "output_type": "stream",
     "text": [
      "1/1 [==============================] - 0s 44ms/step\n"
     ]
    },
    {
     "name": "stderr",
     "output_type": "stream",
     "text": [
      " 41%|█████████████████████████████████▏                                               | 123/300 [00:13<00:19,  8.95it/s]"
     ]
    },
    {
     "name": "stdout",
     "output_type": "stream",
     "text": [
      "1/1 [==============================] - 0s 42ms/step\n"
     ]
    },
    {
     "name": "stderr",
     "output_type": "stream",
     "text": [
      " 41%|█████████████████████████████████▍                                               | 124/300 [00:14<00:19,  8.84it/s]"
     ]
    },
    {
     "name": "stdout",
     "output_type": "stream",
     "text": [
      "1/1 [==============================] - 0s 46ms/step\n"
     ]
    },
    {
     "name": "stderr",
     "output_type": "stream",
     "text": [
      " 42%|█████████████████████████████████▊                                               | 125/300 [00:14<00:19,  8.86it/s]"
     ]
    },
    {
     "name": "stdout",
     "output_type": "stream",
     "text": [
      "1/1 [==============================] - 0s 44ms/step\n"
     ]
    },
    {
     "name": "stderr",
     "output_type": "stream",
     "text": [
      " 42%|██████████████████████████████████                                               | 126/300 [00:14<00:19,  8.80it/s]"
     ]
    },
    {
     "name": "stdout",
     "output_type": "stream",
     "text": [
      "1/1 [==============================] - 0s 43ms/step\n"
     ]
    },
    {
     "name": "stderr",
     "output_type": "stream",
     "text": [
      " 42%|██████████████████████████████████▎                                              | 127/300 [00:14<00:19,  8.78it/s]"
     ]
    },
    {
     "name": "stdout",
     "output_type": "stream",
     "text": [
      "1/1 [==============================] - 0s 43ms/step\n"
     ]
    },
    {
     "name": "stderr",
     "output_type": "stream",
     "text": [
      " 43%|██████████████████████████████████▌                                              | 128/300 [00:14<00:19,  8.82it/s]"
     ]
    },
    {
     "name": "stdout",
     "output_type": "stream",
     "text": [
      "1/1 [==============================] - 0s 47ms/step\n"
     ]
    },
    {
     "name": "stderr",
     "output_type": "stream",
     "text": [
      " 43%|██████████████████████████████████▊                                              | 129/300 [00:14<00:19,  8.84it/s]"
     ]
    },
    {
     "name": "stdout",
     "output_type": "stream",
     "text": [
      "1/1 [==============================] - 0s 45ms/step\n"
     ]
    },
    {
     "name": "stderr",
     "output_type": "stream",
     "text": [
      " 43%|███████████████████████████████████                                              | 130/300 [00:14<00:20,  8.20it/s]"
     ]
    },
    {
     "name": "stdout",
     "output_type": "stream",
     "text": [
      "1/1 [==============================] - 0s 44ms/step\n"
     ]
    },
    {
     "name": "stderr",
     "output_type": "stream",
     "text": [
      " 44%|███████████████████████████████████▎                                             | 131/300 [00:14<00:20,  8.43it/s]"
     ]
    },
    {
     "name": "stdout",
     "output_type": "stream",
     "text": [
      "1/1 [==============================] - 0s 45ms/step\n"
     ]
    },
    {
     "name": "stderr",
     "output_type": "stream",
     "text": [
      " 44%|███████████████████████████████████▋                                             | 132/300 [00:15<00:20,  8.36it/s]"
     ]
    },
    {
     "name": "stdout",
     "output_type": "stream",
     "text": [
      "1/1 [==============================] - 0s 41ms/step\n"
     ]
    },
    {
     "name": "stderr",
     "output_type": "stream",
     "text": [
      " 44%|███████████████████████████████████▉                                             | 133/300 [00:15<00:19,  8.55it/s]"
     ]
    },
    {
     "name": "stdout",
     "output_type": "stream",
     "text": [
      "1/1 [==============================] - 0s 40ms/step\n"
     ]
    },
    {
     "name": "stderr",
     "output_type": "stream",
     "text": [
      " 45%|████████████████████████████████████▏                                            | 134/300 [00:15<00:18,  8.89it/s]"
     ]
    },
    {
     "name": "stdout",
     "output_type": "stream",
     "text": [
      "1/1 [==============================] - 0s 39ms/step\n",
      "1/1 [==============================] - 0s 41ms/step\n"
     ]
    },
    {
     "name": "stderr",
     "output_type": "stream",
     "text": [
      " 45%|████████████████████████████████████▋                                            | 136/300 [00:15<00:17,  9.36it/s]"
     ]
    },
    {
     "name": "stdout",
     "output_type": "stream",
     "text": [
      "1/1 [==============================] - 0s 41ms/step\n"
     ]
    },
    {
     "name": "stderr",
     "output_type": "stream",
     "text": [
      " 46%|████████████████████████████████████▉                                            | 137/300 [00:15<00:17,  9.46it/s]"
     ]
    },
    {
     "name": "stdout",
     "output_type": "stream",
     "text": [
      "1/1 [==============================] - 0s 39ms/step\n"
     ]
    },
    {
     "name": "stderr",
     "output_type": "stream",
     "text": [
      " 46%|█████████████████████████████████████▎                                           | 138/300 [00:15<00:17,  9.39it/s]"
     ]
    },
    {
     "name": "stdout",
     "output_type": "stream",
     "text": [
      "1/1 [==============================] - 0s 40ms/step\n"
     ]
    },
    {
     "name": "stderr",
     "output_type": "stream",
     "text": [
      " 46%|█████████████████████████████████████▌                                           | 139/300 [00:15<00:17,  9.27it/s]"
     ]
    },
    {
     "name": "stdout",
     "output_type": "stream",
     "text": [
      "1/1 [==============================] - 0s 40ms/step\n"
     ]
    },
    {
     "name": "stderr",
     "output_type": "stream",
     "text": [
      " 47%|█████████████████████████████████████▊                                           | 140/300 [00:15<00:17,  9.32it/s]"
     ]
    },
    {
     "name": "stdout",
     "output_type": "stream",
     "text": [
      "1/1 [==============================] - 0s 41ms/step\n"
     ]
    },
    {
     "name": "stderr",
     "output_type": "stream",
     "text": [
      " 47%|██████████████████████████████████████                                           | 141/300 [00:16<00:18,  8.48it/s]"
     ]
    },
    {
     "name": "stdout",
     "output_type": "stream",
     "text": [
      "1/1 [==============================] - 0s 38ms/step\n"
     ]
    },
    {
     "name": "stderr",
     "output_type": "stream",
     "text": [
      " 47%|██████████████████████████████████████▎                                          | 142/300 [00:16<00:18,  8.64it/s]"
     ]
    },
    {
     "name": "stdout",
     "output_type": "stream",
     "text": [
      "1/1 [==============================] - 0s 40ms/step\n"
     ]
    },
    {
     "name": "stderr",
     "output_type": "stream",
     "text": [
      " 48%|██████████████████████████████████████▌                                          | 143/300 [00:16<00:17,  8.73it/s]"
     ]
    },
    {
     "name": "stdout",
     "output_type": "stream",
     "text": [
      "1/1 [==============================] - 0s 41ms/step\n"
     ]
    },
    {
     "name": "stderr",
     "output_type": "stream",
     "text": [
      " 48%|██████████████████████████████████████▉                                          | 144/300 [00:16<00:17,  8.71it/s]"
     ]
    },
    {
     "name": "stdout",
     "output_type": "stream",
     "text": [
      "1/1 [==============================] - 0s 38ms/step\n"
     ]
    },
    {
     "name": "stderr",
     "output_type": "stream",
     "text": [
      " 48%|███████████████████████████████████████▏                                         | 145/300 [00:16<00:18,  8.33it/s]"
     ]
    },
    {
     "name": "stdout",
     "output_type": "stream",
     "text": [
      "1/1 [==============================] - 0s 38ms/step\n"
     ]
    },
    {
     "name": "stderr",
     "output_type": "stream",
     "text": [
      " 49%|███████████████████████████████████████▍                                         | 146/300 [00:16<00:17,  8.73it/s]"
     ]
    },
    {
     "name": "stdout",
     "output_type": "stream",
     "text": [
      "1/1 [==============================] - 0s 36ms/step\n",
      "1/1 [==============================] - 0s 50ms/step\n"
     ]
    },
    {
     "name": "stderr",
     "output_type": "stream",
     "text": [
      " 49%|███████████████████████████████████████▉                                         | 148/300 [00:16<00:16,  9.28it/s]"
     ]
    },
    {
     "name": "stdout",
     "output_type": "stream",
     "text": [
      "1/1 [==============================] - 0s 34ms/step\n"
     ]
    },
    {
     "name": "stderr",
     "output_type": "stream",
     "text": [
      " 50%|████████████████████████████████████████▏                                        | 149/300 [00:16<00:17,  8.87it/s]"
     ]
    },
    {
     "name": "stdout",
     "output_type": "stream",
     "text": [
      "1/1 [==============================] - 0s 54ms/step\n"
     ]
    },
    {
     "name": "stderr",
     "output_type": "stream",
     "text": [
      " 50%|████████████████████████████████████████▌                                        | 150/300 [00:17<00:16,  8.87it/s]"
     ]
    },
    {
     "name": "stdout",
     "output_type": "stream",
     "text": [
      "1/1 [==============================] - 0s 119ms/step\n"
     ]
    },
    {
     "name": "stderr",
     "output_type": "stream",
     "text": [
      " 50%|████████████████████████████████████████▊                                        | 151/300 [00:17<00:22,  6.55it/s]"
     ]
    },
    {
     "name": "stdout",
     "output_type": "stream",
     "text": [
      "1/1 [==============================] - 0s 91ms/step\n"
     ]
    },
    {
     "name": "stderr",
     "output_type": "stream",
     "text": [
      " 51%|█████████████████████████████████████████                                        | 152/300 [00:17<00:25,  5.83it/s]"
     ]
    },
    {
     "name": "stdout",
     "output_type": "stream",
     "text": [
      "1/1 [==============================] - 0s 66ms/step\n"
     ]
    },
    {
     "name": "stderr",
     "output_type": "stream",
     "text": [
      " 51%|█████████████████████████████████████████▎                                       | 153/300 [00:17<00:24,  5.92it/s]"
     ]
    },
    {
     "name": "stdout",
     "output_type": "stream",
     "text": [
      "1/1 [==============================] - 0s 60ms/step\n"
     ]
    },
    {
     "name": "stderr",
     "output_type": "stream",
     "text": [
      " 51%|█████████████████████████████████████████▌                                       | 154/300 [00:17<00:24,  6.04it/s]"
     ]
    },
    {
     "name": "stdout",
     "output_type": "stream",
     "text": [
      "1/1 [==============================] - 0s 50ms/step\n"
     ]
    },
    {
     "name": "stderr",
     "output_type": "stream",
     "text": [
      " 52%|█████████████████████████████████████████▊                                       | 155/300 [00:17<00:22,  6.33it/s]"
     ]
    },
    {
     "name": "stdout",
     "output_type": "stream",
     "text": [
      "1/1 [==============================] - 0s 71ms/step\n"
     ]
    },
    {
     "name": "stderr",
     "output_type": "stream",
     "text": [
      " 52%|██████████████████████████████████████████                                       | 156/300 [00:18<00:24,  5.96it/s]"
     ]
    },
    {
     "name": "stdout",
     "output_type": "stream",
     "text": [
      "1/1 [==============================] - 0s 73ms/step\n"
     ]
    },
    {
     "name": "stderr",
     "output_type": "stream",
     "text": [
      " 52%|██████████████████████████████████████████▍                                      | 157/300 [00:18<00:24,  5.90it/s]"
     ]
    },
    {
     "name": "stdout",
     "output_type": "stream",
     "text": [
      "1/1 [==============================] - 0s 54ms/step\n"
     ]
    },
    {
     "name": "stderr",
     "output_type": "stream",
     "text": [
      " 53%|██████████████████████████████████████████▋                                      | 158/300 [00:18<00:23,  6.00it/s]"
     ]
    },
    {
     "name": "stdout",
     "output_type": "stream",
     "text": [
      "1/1 [==============================] - 0s 46ms/step\n"
     ]
    },
    {
     "name": "stderr",
     "output_type": "stream",
     "text": [
      " 53%|██████████████████████████████████████████▉                                      | 159/300 [00:18<00:22,  6.37it/s]"
     ]
    },
    {
     "name": "stdout",
     "output_type": "stream",
     "text": [
      "1/1 [==============================] - 0s 45ms/step\n"
     ]
    },
    {
     "name": "stderr",
     "output_type": "stream",
     "text": [
      " 53%|███████████████████████████████████████████▏                                     | 160/300 [00:18<00:24,  5.66it/s]"
     ]
    },
    {
     "name": "stdout",
     "output_type": "stream",
     "text": [
      "1/1 [==============================] - 0s 45ms/step\n"
     ]
    },
    {
     "name": "stderr",
     "output_type": "stream",
     "text": [
      " 54%|███████████████████████████████████████████▍                                     | 161/300 [00:18<00:22,  6.06it/s]"
     ]
    },
    {
     "name": "stdout",
     "output_type": "stream",
     "text": [
      "1/1 [==============================] - 0s 46ms/step\n"
     ]
    },
    {
     "name": "stderr",
     "output_type": "stream",
     "text": [
      " 54%|███████████████████████████████████████████▋                                     | 162/300 [00:19<00:20,  6.64it/s]"
     ]
    },
    {
     "name": "stdout",
     "output_type": "stream",
     "text": [
      "1/1 [==============================] - 0s 74ms/step\n"
     ]
    },
    {
     "name": "stderr",
     "output_type": "stream",
     "text": [
      " 54%|████████████████████████████████████████████                                     | 163/300 [00:19<00:20,  6.77it/s]"
     ]
    },
    {
     "name": "stdout",
     "output_type": "stream",
     "text": [
      "1/1 [==============================] - 0s 70ms/step\n"
     ]
    },
    {
     "name": "stderr",
     "output_type": "stream",
     "text": [
      " 55%|████████████████████████████████████████████▎                                    | 164/300 [00:19<00:21,  6.27it/s]"
     ]
    },
    {
     "name": "stdout",
     "output_type": "stream",
     "text": [
      "1/1 [==============================] - 0s 71ms/step\n"
     ]
    },
    {
     "name": "stderr",
     "output_type": "stream",
     "text": [
      " 55%|████████████████████████████████████████████▌                                    | 165/300 [00:19<00:22,  6.05it/s]"
     ]
    },
    {
     "name": "stdout",
     "output_type": "stream",
     "text": [
      "1/1 [==============================] - 0s 44ms/step\n"
     ]
    },
    {
     "name": "stderr",
     "output_type": "stream",
     "text": [
      " 55%|████████████████████████████████████████████▊                                    | 166/300 [00:19<00:21,  6.27it/s]"
     ]
    },
    {
     "name": "stdout",
     "output_type": "stream",
     "text": [
      "1/1 [==============================] - 0s 39ms/step\n"
     ]
    },
    {
     "name": "stderr",
     "output_type": "stream",
     "text": [
      " 56%|█████████████████████████████████████████████                                    | 167/300 [00:19<00:19,  6.99it/s]"
     ]
    },
    {
     "name": "stdout",
     "output_type": "stream",
     "text": [
      "1/1 [==============================] - 0s 40ms/step\n"
     ]
    },
    {
     "name": "stderr",
     "output_type": "stream",
     "text": [
      " 56%|█████████████████████████████████████████████▎                                   | 168/300 [00:19<00:17,  7.65it/s]"
     ]
    },
    {
     "name": "stdout",
     "output_type": "stream",
     "text": [
      "1/1 [==============================] - 0s 43ms/step\n"
     ]
    },
    {
     "name": "stderr",
     "output_type": "stream",
     "text": [
      " 56%|█████████████████████████████████████████████▋                                   | 169/300 [00:20<00:16,  8.02it/s]"
     ]
    },
    {
     "name": "stdout",
     "output_type": "stream",
     "text": [
      "1/1 [==============================] - 0s 39ms/step\n"
     ]
    },
    {
     "name": "stderr",
     "output_type": "stream",
     "text": [
      " 57%|█████████████████████████████████████████████▉                                   | 170/300 [00:20<00:15,  8.44it/s]"
     ]
    },
    {
     "name": "stdout",
     "output_type": "stream",
     "text": [
      "1/1 [==============================] - 0s 40ms/step\n"
     ]
    },
    {
     "name": "stderr",
     "output_type": "stream",
     "text": [
      " 57%|██████████████████████████████████████████████▏                                  | 171/300 [00:20<00:15,  8.54it/s]"
     ]
    },
    {
     "name": "stdout",
     "output_type": "stream",
     "text": [
      "1/1 [==============================] - 0s 37ms/step\n"
     ]
    },
    {
     "name": "stderr",
     "output_type": "stream",
     "text": [
      " 57%|██████████████████████████████████████████████▍                                  | 172/300 [00:20<00:14,  8.79it/s]"
     ]
    },
    {
     "name": "stdout",
     "output_type": "stream",
     "text": [
      "1/1 [==============================] - 0s 35ms/step\n"
     ]
    },
    {
     "name": "stderr",
     "output_type": "stream",
     "text": [
      " 58%|██████████████████████████████████████████████▋                                  | 173/300 [00:20<00:14,  9.04it/s]"
     ]
    },
    {
     "name": "stdout",
     "output_type": "stream",
     "text": [
      "1/1 [==============================] - 0s 40ms/step\n"
     ]
    },
    {
     "name": "stderr",
     "output_type": "stream",
     "text": [
      " 58%|██████████████████████████████████████████████▉                                  | 174/300 [00:20<00:13,  9.14it/s]"
     ]
    },
    {
     "name": "stdout",
     "output_type": "stream",
     "text": [
      "1/1 [==============================] - 0s 38ms/step\n"
     ]
    },
    {
     "name": "stderr",
     "output_type": "stream",
     "text": [
      " 58%|███████████████████████████████████████████████▎                                 | 175/300 [00:20<00:13,  9.27it/s]"
     ]
    },
    {
     "name": "stdout",
     "output_type": "stream",
     "text": [
      "1/1 [==============================] - 0s 39ms/step\n"
     ]
    },
    {
     "name": "stderr",
     "output_type": "stream",
     "text": [
      " 59%|███████████████████████████████████████████████▌                                 | 176/300 [00:20<00:13,  9.23it/s]"
     ]
    },
    {
     "name": "stdout",
     "output_type": "stream",
     "text": [
      "1/1 [==============================] - 0s 36ms/step\n",
      "1/1 [==============================] - 0s 40ms/step\n"
     ]
    },
    {
     "name": "stderr",
     "output_type": "stream",
     "text": [
      " 59%|████████████████████████████████████████████████                                 | 178/300 [00:21<00:12,  9.65it/s]"
     ]
    },
    {
     "name": "stdout",
     "output_type": "stream",
     "text": [
      "1/1 [==============================] - 0s 36ms/step\n"
     ]
    },
    {
     "name": "stderr",
     "output_type": "stream",
     "text": [
      " 60%|████████████████████████████████████████████████▎                                | 179/300 [00:21<00:12,  9.66it/s]"
     ]
    },
    {
     "name": "stdout",
     "output_type": "stream",
     "text": [
      "1/1 [==============================] - 0s 36ms/step\n"
     ]
    },
    {
     "name": "stderr",
     "output_type": "stream",
     "text": [
      " 60%|████████████████████████████████████████████████▌                                | 180/300 [00:21<00:12,  9.70it/s]"
     ]
    },
    {
     "name": "stdout",
     "output_type": "stream",
     "text": [
      "1/1 [==============================] - 0s 50ms/step\n"
     ]
    },
    {
     "name": "stderr",
     "output_type": "stream",
     "text": [
      " 60%|████████████████████████████████████████████████▊                                | 181/300 [00:21<00:12,  9.39it/s]"
     ]
    },
    {
     "name": "stdout",
     "output_type": "stream",
     "text": [
      "1/1 [==============================] - 0s 50ms/step\n"
     ]
    },
    {
     "name": "stderr",
     "output_type": "stream",
     "text": [
      " 61%|█████████████████████████████████████████████████▏                               | 182/300 [00:21<00:12,  9.11it/s]"
     ]
    },
    {
     "name": "stdout",
     "output_type": "stream",
     "text": [
      "1/1 [==============================] - 0s 44ms/step\n"
     ]
    },
    {
     "name": "stderr",
     "output_type": "stream",
     "text": [
      " 61%|█████████████████████████████████████████████████▍                               | 183/300 [00:21<00:12,  9.27it/s]"
     ]
    },
    {
     "name": "stdout",
     "output_type": "stream",
     "text": [
      "1/1 [==============================] - 0s 52ms/step\n"
     ]
    },
    {
     "name": "stderr",
     "output_type": "stream",
     "text": [
      " 61%|█████████████████████████████████████████████████▋                               | 184/300 [00:21<00:12,  8.96it/s]"
     ]
    },
    {
     "name": "stdout",
     "output_type": "stream",
     "text": [
      "1/1 [==============================] - 0s 48ms/step\n"
     ]
    },
    {
     "name": "stderr",
     "output_type": "stream",
     "text": [
      " 62%|█████████████████████████████████████████████████▉                               | 185/300 [00:21<00:13,  8.71it/s]"
     ]
    },
    {
     "name": "stdout",
     "output_type": "stream",
     "text": [
      "1/1 [==============================] - 0s 44ms/step\n"
     ]
    },
    {
     "name": "stderr",
     "output_type": "stream",
     "text": [
      " 62%|██████████████████████████████████████████████████▏                              | 186/300 [00:21<00:12,  8.90it/s]"
     ]
    },
    {
     "name": "stdout",
     "output_type": "stream",
     "text": [
      "1/1 [==============================] - 0s 47ms/step\n"
     ]
    },
    {
     "name": "stderr",
     "output_type": "stream",
     "text": [
      " 62%|██████████████████████████████████████████████████▍                              | 187/300 [00:22<00:12,  8.89it/s]"
     ]
    },
    {
     "name": "stdout",
     "output_type": "stream",
     "text": [
      "1/1 [==============================] - 0s 48ms/step\n"
     ]
    },
    {
     "name": "stderr",
     "output_type": "stream",
     "text": [
      " 63%|██████████████████████████████████████████████████▊                              | 188/300 [00:22<00:12,  8.62it/s]"
     ]
    },
    {
     "name": "stdout",
     "output_type": "stream",
     "text": [
      "1/1 [==============================] - 0s 47ms/step\n"
     ]
    },
    {
     "name": "stderr",
     "output_type": "stream",
     "text": [
      " 63%|███████████████████████████████████████████████████                              | 189/300 [00:22<00:12,  8.68it/s]"
     ]
    },
    {
     "name": "stdout",
     "output_type": "stream",
     "text": [
      "1/1 [==============================] - 0s 47ms/step\n"
     ]
    },
    {
     "name": "stderr",
     "output_type": "stream",
     "text": [
      " 63%|███████████████████████████████████████████████████▎                             | 190/300 [00:22<00:12,  8.60it/s]"
     ]
    },
    {
     "name": "stdout",
     "output_type": "stream",
     "text": [
      "1/1 [==============================] - 0s 50ms/step\n"
     ]
    },
    {
     "name": "stderr",
     "output_type": "stream",
     "text": [
      " 64%|███████████████████████████████████████████████████▌                             | 191/300 [00:22<00:13,  8.24it/s]"
     ]
    },
    {
     "name": "stdout",
     "output_type": "stream",
     "text": [
      "1/1 [==============================] - 0s 45ms/step\n"
     ]
    },
    {
     "name": "stderr",
     "output_type": "stream",
     "text": [
      " 64%|███████████████████████████████████████████████████▊                             | 192/300 [00:22<00:12,  8.46it/s]"
     ]
    },
    {
     "name": "stdout",
     "output_type": "stream",
     "text": [
      "1/1 [==============================] - 0s 48ms/step\n"
     ]
    },
    {
     "name": "stderr",
     "output_type": "stream",
     "text": [
      " 64%|████████████████████████████████████████████████████                             | 193/300 [00:22<00:12,  8.55it/s]"
     ]
    },
    {
     "name": "stdout",
     "output_type": "stream",
     "text": [
      "1/1 [==============================] - 0s 45ms/step\n"
     ]
    },
    {
     "name": "stderr",
     "output_type": "stream",
     "text": [
      " 65%|████████████████████████████████████████████████████▍                            | 194/300 [00:22<00:12,  8.77it/s]"
     ]
    },
    {
     "name": "stdout",
     "output_type": "stream",
     "text": [
      "1/1 [==============================] - 0s 43ms/step\n"
     ]
    },
    {
     "name": "stderr",
     "output_type": "stream",
     "text": [
      " 65%|████████████████████████████████████████████████████▋                            | 195/300 [00:22<00:11,  8.86it/s]"
     ]
    },
    {
     "name": "stdout",
     "output_type": "stream",
     "text": [
      "1/1 [==============================] - 0s 43ms/step\n"
     ]
    },
    {
     "name": "stderr",
     "output_type": "stream",
     "text": [
      " 65%|████████████████████████████████████████████████████▉                            | 196/300 [00:23<00:11,  9.09it/s]"
     ]
    },
    {
     "name": "stdout",
     "output_type": "stream",
     "text": [
      "1/1 [==============================] - 0s 44ms/step\n"
     ]
    },
    {
     "name": "stderr",
     "output_type": "stream",
     "text": [
      " 66%|█████████████████████████████████████████████████████▏                           | 197/300 [00:23<00:11,  8.89it/s]"
     ]
    },
    {
     "name": "stdout",
     "output_type": "stream",
     "text": [
      "1/1 [==============================] - 0s 46ms/step\n"
     ]
    },
    {
     "name": "stderr",
     "output_type": "stream",
     "text": [
      " 66%|█████████████████████████████████████████████████████▍                           | 198/300 [00:23<00:11,  8.77it/s]"
     ]
    },
    {
     "name": "stdout",
     "output_type": "stream",
     "text": [
      "1/1 [==============================] - 0s 44ms/step\n"
     ]
    },
    {
     "name": "stderr",
     "output_type": "stream",
     "text": [
      " 66%|█████████████████████████████████████████████████████▋                           | 199/300 [00:23<00:11,  8.70it/s]"
     ]
    },
    {
     "name": "stdout",
     "output_type": "stream",
     "text": [
      "1/1 [==============================] - 0s 45ms/step\n"
     ]
    },
    {
     "name": "stderr",
     "output_type": "stream",
     "text": [
      " 67%|██████████████████████████████████████████████████████                           | 200/300 [00:23<00:11,  8.58it/s]"
     ]
    },
    {
     "name": "stdout",
     "output_type": "stream",
     "text": [
      "1/1 [==============================] - 0s 46ms/step\n"
     ]
    },
    {
     "name": "stderr",
     "output_type": "stream",
     "text": [
      " 67%|██████████████████████████████████████████████████████▎                          | 201/300 [00:23<00:11,  8.61it/s]"
     ]
    },
    {
     "name": "stdout",
     "output_type": "stream",
     "text": [
      "1/1 [==============================] - 0s 47ms/step\n"
     ]
    },
    {
     "name": "stderr",
     "output_type": "stream",
     "text": [
      " 67%|██████████████████████████████████████████████████████▌                          | 202/300 [00:23<00:11,  8.70it/s]"
     ]
    },
    {
     "name": "stdout",
     "output_type": "stream",
     "text": [
      "1/1 [==============================] - 0s 44ms/step\n"
     ]
    },
    {
     "name": "stderr",
     "output_type": "stream",
     "text": [
      " 68%|██████████████████████████████████████████████████████▊                          | 203/300 [00:23<00:10,  8.97it/s]"
     ]
    },
    {
     "name": "stdout",
     "output_type": "stream",
     "text": [
      "1/1 [==============================] - 0s 41ms/step\n"
     ]
    },
    {
     "name": "stderr",
     "output_type": "stream",
     "text": [
      " 68%|███████████████████████████████████████████████████████                          | 204/300 [00:23<00:10,  9.16it/s]"
     ]
    },
    {
     "name": "stdout",
     "output_type": "stream",
     "text": [
      "1/1 [==============================] - 0s 43ms/step\n"
     ]
    },
    {
     "name": "stderr",
     "output_type": "stream",
     "text": [
      " 68%|███████████████████████████████████████████████████████▎                         | 205/300 [00:24<00:10,  9.22it/s]"
     ]
    },
    {
     "name": "stdout",
     "output_type": "stream",
     "text": [
      "1/1 [==============================] - 0s 42ms/step\n"
     ]
    },
    {
     "name": "stderr",
     "output_type": "stream",
     "text": [
      " 69%|███████████████████████████████████████████████████████▌                         | 206/300 [00:24<00:10,  9.14it/s]"
     ]
    },
    {
     "name": "stdout",
     "output_type": "stream",
     "text": [
      "1/1 [==============================] - 0s 43ms/step\n"
     ]
    },
    {
     "name": "stderr",
     "output_type": "stream",
     "text": [
      " 69%|███████████████████████████████████████████████████████▉                         | 207/300 [00:24<00:10,  9.03it/s]"
     ]
    },
    {
     "name": "stdout",
     "output_type": "stream",
     "text": [
      "1/1 [==============================] - 0s 45ms/step\n"
     ]
    },
    {
     "name": "stderr",
     "output_type": "stream",
     "text": [
      " 69%|████████████████████████████████████████████████████████▏                        | 208/300 [00:24<00:10,  8.82it/s]"
     ]
    },
    {
     "name": "stdout",
     "output_type": "stream",
     "text": [
      "1/1 [==============================] - 0s 41ms/step\n"
     ]
    },
    {
     "name": "stderr",
     "output_type": "stream",
     "text": [
      " 70%|████████████████████████████████████████████████████████▍                        | 209/300 [00:24<00:10,  8.94it/s]"
     ]
    },
    {
     "name": "stdout",
     "output_type": "stream",
     "text": [
      "1/1 [==============================] - 0s 44ms/step\n"
     ]
    },
    {
     "name": "stderr",
     "output_type": "stream",
     "text": [
      " 70%|████████████████████████████████████████████████████████▋                        | 210/300 [00:24<00:10,  8.96it/s]"
     ]
    },
    {
     "name": "stdout",
     "output_type": "stream",
     "text": [
      "1/1 [==============================] - 0s 49ms/step\n"
     ]
    },
    {
     "name": "stderr",
     "output_type": "stream",
     "text": [
      " 70%|████████████████████████████████████████████████████████▉                        | 211/300 [00:24<00:10,  8.89it/s]"
     ]
    },
    {
     "name": "stdout",
     "output_type": "stream",
     "text": [
      "1/1 [==============================] - 0s 49ms/step\n"
     ]
    },
    {
     "name": "stderr",
     "output_type": "stream",
     "text": [
      " 71%|█████████████████████████████████████████████████████████▏                       | 212/300 [00:24<00:09,  8.89it/s]"
     ]
    },
    {
     "name": "stdout",
     "output_type": "stream",
     "text": [
      "1/1 [==============================] - 0s 43ms/step\n"
     ]
    },
    {
     "name": "stderr",
     "output_type": "stream",
     "text": [
      " 71%|█████████████████████████████████████████████████████████▌                       | 213/300 [00:24<00:09,  9.07it/s]"
     ]
    },
    {
     "name": "stdout",
     "output_type": "stream",
     "text": [
      "1/1 [==============================] - 0s 44ms/step\n"
     ]
    },
    {
     "name": "stderr",
     "output_type": "stream",
     "text": [
      " 71%|█████████████████████████████████████████████████████████▊                       | 214/300 [00:25<00:09,  9.22it/s]"
     ]
    },
    {
     "name": "stdout",
     "output_type": "stream",
     "text": [
      "1/1 [==============================] - 0s 44ms/step\n"
     ]
    },
    {
     "name": "stderr",
     "output_type": "stream",
     "text": [
      " 72%|██████████████████████████████████████████████████████████                       | 215/300 [00:25<00:09,  9.07it/s]"
     ]
    },
    {
     "name": "stdout",
     "output_type": "stream",
     "text": [
      "1/1 [==============================] - 0s 40ms/step\n"
     ]
    },
    {
     "name": "stderr",
     "output_type": "stream",
     "text": [
      " 72%|██████████████████████████████████████████████████████████▎                      | 216/300 [00:25<00:11,  7.01it/s]"
     ]
    },
    {
     "name": "stdout",
     "output_type": "stream",
     "text": [
      "1/1 [==============================] - 0s 40ms/step\n",
      "1/1 [==============================] - 0s 42ms/step\n"
     ]
    },
    {
     "name": "stderr",
     "output_type": "stream",
     "text": [
      " 73%|██████████████████████████████████████████████████████████▊                      | 218/300 [00:25<00:10,  8.16it/s]"
     ]
    },
    {
     "name": "stdout",
     "output_type": "stream",
     "text": [
      "1/1 [==============================] - 0s 44ms/step\n"
     ]
    },
    {
     "name": "stderr",
     "output_type": "stream",
     "text": [
      " 73%|███████████████████████████████████████████████████████████▏                     | 219/300 [00:25<00:09,  8.30it/s]"
     ]
    },
    {
     "name": "stdout",
     "output_type": "stream",
     "text": [
      "1/1 [==============================] - 0s 54ms/step\n"
     ]
    },
    {
     "name": "stderr",
     "output_type": "stream",
     "text": [
      " 73%|███████████████████████████████████████████████████████████▍                     | 220/300 [00:25<00:09,  8.24it/s]"
     ]
    },
    {
     "name": "stdout",
     "output_type": "stream",
     "text": [
      "1/1 [==============================] - 0s 44ms/step\n"
     ]
    },
    {
     "name": "stderr",
     "output_type": "stream",
     "text": [
      " 74%|███████████████████████████████████████████████████████████▋                     | 221/300 [00:25<00:09,  8.34it/s]"
     ]
    },
    {
     "name": "stdout",
     "output_type": "stream",
     "text": [
      "1/1 [==============================] - 0s 40ms/step\n"
     ]
    },
    {
     "name": "stderr",
     "output_type": "stream",
     "text": [
      " 74%|███████████████████████████████████████████████████████████▉                     | 222/300 [00:26<00:08,  8.73it/s]"
     ]
    },
    {
     "name": "stdout",
     "output_type": "stream",
     "text": [
      "1/1 [==============================] - 0s 39ms/step\n"
     ]
    },
    {
     "name": "stderr",
     "output_type": "stream",
     "text": [
      " 74%|████████████████████████████████████████████████████████████▏                    | 223/300 [00:26<00:08,  8.92it/s]"
     ]
    },
    {
     "name": "stdout",
     "output_type": "stream",
     "text": [
      "1/1 [==============================] - 0s 37ms/step\n"
     ]
    },
    {
     "name": "stderr",
     "output_type": "stream",
     "text": [
      " 75%|████████████████████████████████████████████████████████████▍                    | 224/300 [00:26<00:08,  9.09it/s]"
     ]
    },
    {
     "name": "stdout",
     "output_type": "stream",
     "text": [
      "1/1 [==============================] - 0s 38ms/step\n"
     ]
    },
    {
     "name": "stderr",
     "output_type": "stream",
     "text": [
      " 75%|████████████████████████████████████████████████████████████▊                    | 225/300 [00:26<00:08,  9.31it/s]"
     ]
    },
    {
     "name": "stdout",
     "output_type": "stream",
     "text": [
      "1/1 [==============================] - 0s 42ms/step\n"
     ]
    },
    {
     "name": "stderr",
     "output_type": "stream",
     "text": [
      " 75%|█████████████████████████████████████████████████████████████                    | 226/300 [00:26<00:07,  9.33it/s]"
     ]
    },
    {
     "name": "stdout",
     "output_type": "stream",
     "text": [
      "1/1 [==============================] - 0s 35ms/step\n",
      "1/1 [==============================] - 0s 35ms/step\n"
     ]
    },
    {
     "name": "stderr",
     "output_type": "stream",
     "text": [
      " 76%|█████████████████████████████████████████████████████████████▌                   | 228/300 [00:26<00:07,  9.04it/s]"
     ]
    },
    {
     "name": "stdout",
     "output_type": "stream",
     "text": [
      "1/1 [==============================] - 0s 38ms/step\n"
     ]
    },
    {
     "name": "stderr",
     "output_type": "stream",
     "text": [
      " 76%|█████████████████████████████████████████████████████████████▊                   | 229/300 [00:26<00:07,  9.15it/s]"
     ]
    },
    {
     "name": "stdout",
     "output_type": "stream",
     "text": [
      "1/1 [==============================] - 0s 35ms/step\n"
     ]
    },
    {
     "name": "stderr",
     "output_type": "stream",
     "text": [
      " 77%|██████████████████████████████████████████████████████████████                   | 230/300 [00:26<00:07,  9.15it/s]"
     ]
    },
    {
     "name": "stdout",
     "output_type": "stream",
     "text": [
      "1/1 [==============================] - 0s 39ms/step\n"
     ]
    },
    {
     "name": "stderr",
     "output_type": "stream",
     "text": [
      " 77%|██████████████████████████████████████████████████████████████▎                  | 231/300 [00:27<00:07,  9.08it/s]"
     ]
    },
    {
     "name": "stdout",
     "output_type": "stream",
     "text": [
      "1/1 [==============================] - 0s 35ms/step\n"
     ]
    },
    {
     "name": "stderr",
     "output_type": "stream",
     "text": [
      " 77%|██████████████████████████████████████████████████████████████▋                  | 232/300 [00:27<00:08,  8.40it/s]"
     ]
    },
    {
     "name": "stdout",
     "output_type": "stream",
     "text": [
      "1/1 [==============================] - 0s 39ms/step\n"
     ]
    },
    {
     "name": "stderr",
     "output_type": "stream",
     "text": [
      " 78%|██████████████████████████████████████████████████████████████▉                  | 233/300 [00:27<00:07,  8.79it/s]"
     ]
    },
    {
     "name": "stdout",
     "output_type": "stream",
     "text": [
      "1/1 [==============================] - 0s 34ms/step\n"
     ]
    },
    {
     "name": "stderr",
     "output_type": "stream",
     "text": [
      " 78%|███████████████████████████████████████████████████████████████▏                 | 234/300 [00:27<00:07,  9.01it/s]"
     ]
    },
    {
     "name": "stdout",
     "output_type": "stream",
     "text": [
      "1/1 [==============================] - 0s 36ms/step\n"
     ]
    },
    {
     "name": "stderr",
     "output_type": "stream",
     "text": [
      " 78%|███████████████████████████████████████████████████████████████▍                 | 235/300 [00:27<00:07,  9.26it/s]"
     ]
    },
    {
     "name": "stdout",
     "output_type": "stream",
     "text": [
      "1/1 [==============================] - 0s 33ms/step\n",
      "1/1 [==============================] - 0s 35ms/step\n"
     ]
    },
    {
     "name": "stderr",
     "output_type": "stream",
     "text": [
      " 79%|███████████████████████████████████████████████████████████████▉                 | 237/300 [00:27<00:06,  9.91it/s]"
     ]
    },
    {
     "name": "stdout",
     "output_type": "stream",
     "text": [
      "1/1 [==============================] - 0s 58ms/step\n"
     ]
    },
    {
     "name": "stderr",
     "output_type": "stream",
     "text": [
      " 79%|████████████████████████████████████████████████████████████████▎                | 238/300 [00:27<00:06,  9.56it/s]"
     ]
    },
    {
     "name": "stdout",
     "output_type": "stream",
     "text": [
      "1/1 [==============================] - 0s 74ms/step\n"
     ]
    },
    {
     "name": "stderr",
     "output_type": "stream",
     "text": [
      " 80%|████████████████████████████████████████████████████████████████▌                | 239/300 [00:27<00:07,  7.89it/s]"
     ]
    },
    {
     "name": "stdout",
     "output_type": "stream",
     "text": [
      "1/1 [==============================] - 0s 46ms/step\n"
     ]
    },
    {
     "name": "stderr",
     "output_type": "stream",
     "text": [
      " 80%|████████████████████████████████████████████████████████████████▊                | 240/300 [00:28<00:07,  7.66it/s]"
     ]
    },
    {
     "name": "stdout",
     "output_type": "stream",
     "text": [
      "1/1 [==============================] - 0s 51ms/step\n"
     ]
    },
    {
     "name": "stderr",
     "output_type": "stream",
     "text": [
      " 80%|█████████████████████████████████████████████████████████████████                | 241/300 [00:28<00:07,  7.94it/s]"
     ]
    },
    {
     "name": "stdout",
     "output_type": "stream",
     "text": [
      "1/1 [==============================] - 0s 49ms/step\n"
     ]
    },
    {
     "name": "stderr",
     "output_type": "stream",
     "text": [
      " 81%|█████████████████████████████████████████████████████████████████▎               | 242/300 [00:28<00:07,  8.22it/s]"
     ]
    },
    {
     "name": "stdout",
     "output_type": "stream",
     "text": [
      "1/1 [==============================] - 0s 51ms/step\n"
     ]
    },
    {
     "name": "stderr",
     "output_type": "stream",
     "text": [
      " 81%|█████████████████████████████████████████████████████████████████▌               | 243/300 [00:28<00:06,  8.24it/s]"
     ]
    },
    {
     "name": "stdout",
     "output_type": "stream",
     "text": [
      "1/1 [==============================] - 0s 49ms/step\n"
     ]
    },
    {
     "name": "stderr",
     "output_type": "stream",
     "text": [
      " 81%|█████████████████████████████████████████████████████████████████▉               | 244/300 [00:28<00:06,  8.21it/s]"
     ]
    },
    {
     "name": "stdout",
     "output_type": "stream",
     "text": [
      "1/1 [==============================] - 0s 73ms/step\n"
     ]
    },
    {
     "name": "stderr",
     "output_type": "stream",
     "text": [
      " 82%|██████████████████████████████████████████████████████████████████▏              | 245/300 [00:28<00:06,  7.89it/s]"
     ]
    },
    {
     "name": "stdout",
     "output_type": "stream",
     "text": [
      "1/1 [==============================] - 0s 77ms/step\n"
     ]
    },
    {
     "name": "stderr",
     "output_type": "stream",
     "text": [
      " 82%|██████████████████████████████████████████████████████████████████▍              | 246/300 [00:28<00:08,  6.38it/s]"
     ]
    },
    {
     "name": "stdout",
     "output_type": "stream",
     "text": [
      "1/1 [==============================] - 0s 54ms/step\n"
     ]
    },
    {
     "name": "stderr",
     "output_type": "stream",
     "text": [
      " 82%|██████████████████████████████████████████████████████████████████▋              | 247/300 [00:29<00:08,  6.42it/s]"
     ]
    },
    {
     "name": "stdout",
     "output_type": "stream",
     "text": [
      "1/1 [==============================] - 0s 53ms/step\n"
     ]
    },
    {
     "name": "stderr",
     "output_type": "stream",
     "text": [
      " 83%|██████████████████████████████████████████████████████████████████▉              | 248/300 [00:29<00:07,  6.74it/s]"
     ]
    },
    {
     "name": "stdout",
     "output_type": "stream",
     "text": [
      "1/1 [==============================] - 0s 48ms/step\n"
     ]
    },
    {
     "name": "stderr",
     "output_type": "stream",
     "text": [
      " 83%|███████████████████████████████████████████████████████████████████▏             | 249/300 [00:29<00:07,  7.11it/s]"
     ]
    },
    {
     "name": "stdout",
     "output_type": "stream",
     "text": [
      "1/1 [==============================] - 0s 61ms/step\n"
     ]
    },
    {
     "name": "stderr",
     "output_type": "stream",
     "text": [
      " 83%|███████████████████████████████████████████████████████████████████▌             | 250/300 [00:29<00:07,  6.95it/s]"
     ]
    },
    {
     "name": "stdout",
     "output_type": "stream",
     "text": [
      "1/1 [==============================] - 0s 43ms/step\n"
     ]
    },
    {
     "name": "stderr",
     "output_type": "stream",
     "text": [
      " 84%|███████████████████████████████████████████████████████████████████▊             | 251/300 [00:29<00:06,  7.50it/s]"
     ]
    },
    {
     "name": "stdout",
     "output_type": "stream",
     "text": [
      "1/1 [==============================] - 0s 46ms/step\n"
     ]
    },
    {
     "name": "stderr",
     "output_type": "stream",
     "text": [
      " 84%|████████████████████████████████████████████████████████████████████             | 252/300 [00:29<00:06,  7.99it/s]"
     ]
    },
    {
     "name": "stdout",
     "output_type": "stream",
     "text": [
      "1/1 [==============================] - 0s 49ms/step\n"
     ]
    },
    {
     "name": "stderr",
     "output_type": "stream",
     "text": [
      " 84%|████████████████████████████████████████████████████████████████████▎            | 253/300 [00:29<00:05,  8.17it/s]"
     ]
    },
    {
     "name": "stdout",
     "output_type": "stream",
     "text": [
      "1/1 [==============================] - 0s 44ms/step\n"
     ]
    },
    {
     "name": "stderr",
     "output_type": "stream",
     "text": [
      " 85%|████████████████████████████████████████████████████████████████████▌            | 254/300 [00:29<00:05,  8.16it/s]"
     ]
    },
    {
     "name": "stdout",
     "output_type": "stream",
     "text": [
      "1/1 [==============================] - 0s 45ms/step\n"
     ]
    },
    {
     "name": "stderr",
     "output_type": "stream",
     "text": [
      " 85%|████████████████████████████████████████████████████████████████████▊            | 255/300 [00:30<00:05,  8.45it/s]"
     ]
    },
    {
     "name": "stdout",
     "output_type": "stream",
     "text": [
      "1/1 [==============================] - 0s 45ms/step\n"
     ]
    },
    {
     "name": "stderr",
     "output_type": "stream",
     "text": [
      " 85%|█████████████████████████████████████████████████████████████████████            | 256/300 [00:30<00:05,  8.51it/s]"
     ]
    },
    {
     "name": "stdout",
     "output_type": "stream",
     "text": [
      "1/1 [==============================] - 0s 50ms/step\n"
     ]
    },
    {
     "name": "stderr",
     "output_type": "stream",
     "text": [
      " 86%|█████████████████████████████████████████████████████████████████████▍           | 257/300 [00:30<00:05,  8.52it/s]"
     ]
    },
    {
     "name": "stdout",
     "output_type": "stream",
     "text": [
      "1/1 [==============================] - 0s 51ms/step\n"
     ]
    },
    {
     "name": "stderr",
     "output_type": "stream",
     "text": [
      " 86%|█████████████████████████████████████████████████████████████████████▋           | 258/300 [00:30<00:05,  8.39it/s]"
     ]
    },
    {
     "name": "stdout",
     "output_type": "stream",
     "text": [
      "1/1 [==============================] - 0s 44ms/step\n"
     ]
    },
    {
     "name": "stderr",
     "output_type": "stream",
     "text": [
      " 86%|█████████████████████████████████████████████████████████████████████▉           | 259/300 [00:30<00:04,  8.40it/s]"
     ]
    },
    {
     "name": "stdout",
     "output_type": "stream",
     "text": [
      "1/1 [==============================] - 0s 48ms/step\n"
     ]
    },
    {
     "name": "stderr",
     "output_type": "stream",
     "text": [
      " 87%|██████████████████████████████████████████████████████████████████████▏          | 260/300 [00:30<00:04,  8.45it/s]"
     ]
    },
    {
     "name": "stdout",
     "output_type": "stream",
     "text": [
      "1/1 [==============================] - 0s 45ms/step\n"
     ]
    },
    {
     "name": "stderr",
     "output_type": "stream",
     "text": [
      " 87%|██████████████████████████████████████████████████████████████████████▍          | 261/300 [00:30<00:04,  8.57it/s]"
     ]
    },
    {
     "name": "stdout",
     "output_type": "stream",
     "text": [
      "1/1 [==============================] - 0s 44ms/step\n"
     ]
    },
    {
     "name": "stderr",
     "output_type": "stream",
     "text": [
      " 87%|██████████████████████████████████████████████████████████████████████▋          | 262/300 [00:30<00:04,  8.85it/s]"
     ]
    },
    {
     "name": "stdout",
     "output_type": "stream",
     "text": [
      "1/1 [==============================] - 0s 45ms/step\n"
     ]
    },
    {
     "name": "stderr",
     "output_type": "stream",
     "text": [
      " 88%|███████████████████████████████████████████████████████████████████████          | 263/300 [00:30<00:04,  8.97it/s]"
     ]
    },
    {
     "name": "stdout",
     "output_type": "stream",
     "text": [
      "1/1 [==============================] - 0s 44ms/step\n"
     ]
    },
    {
     "name": "stderr",
     "output_type": "stream",
     "text": [
      " 88%|███████████████████████████████████████████████████████████████████████▎         | 264/300 [00:31<00:03,  9.02it/s]"
     ]
    },
    {
     "name": "stdout",
     "output_type": "stream",
     "text": [
      "1/1 [==============================] - 0s 45ms/step\n"
     ]
    },
    {
     "name": "stderr",
     "output_type": "stream",
     "text": [
      " 88%|███████████████████████████████████████████████████████████████████████▌         | 265/300 [00:31<00:03,  9.13it/s]"
     ]
    },
    {
     "name": "stdout",
     "output_type": "stream",
     "text": [
      "1/1 [==============================] - 0s 42ms/step\n"
     ]
    },
    {
     "name": "stderr",
     "output_type": "stream",
     "text": [
      " 89%|███████████████████████████████████████████████████████████████████████▊         | 266/300 [00:31<00:03,  9.08it/s]"
     ]
    },
    {
     "name": "stdout",
     "output_type": "stream",
     "text": [
      "1/1 [==============================] - 0s 45ms/step\n"
     ]
    },
    {
     "name": "stderr",
     "output_type": "stream",
     "text": [
      " 89%|████████████████████████████████████████████████████████████████████████         | 267/300 [00:31<00:03,  9.06it/s]"
     ]
    },
    {
     "name": "stdout",
     "output_type": "stream",
     "text": [
      "1/1 [==============================] - 0s 51ms/step\n"
     ]
    },
    {
     "name": "stderr",
     "output_type": "stream",
     "text": [
      " 89%|████████████████████████████████████████████████████████████████████████▎        | 268/300 [00:31<00:03,  8.30it/s]"
     ]
    },
    {
     "name": "stdout",
     "output_type": "stream",
     "text": [
      "1/1 [==============================] - 0s 51ms/step\n"
     ]
    },
    {
     "name": "stderr",
     "output_type": "stream",
     "text": [
      " 90%|████████████████████████████████████████████████████████████████████████▋        | 269/300 [00:31<00:03,  8.34it/s]"
     ]
    },
    {
     "name": "stdout",
     "output_type": "stream",
     "text": [
      "1/1 [==============================] - 0s 45ms/step\n"
     ]
    },
    {
     "name": "stderr",
     "output_type": "stream",
     "text": [
      " 90%|████████████████████████████████████████████████████████████████████████▉        | 270/300 [00:31<00:03,  8.38it/s]"
     ]
    },
    {
     "name": "stdout",
     "output_type": "stream",
     "text": [
      "1/1 [==============================] - 0s 44ms/step\n"
     ]
    },
    {
     "name": "stderr",
     "output_type": "stream",
     "text": [
      " 90%|█████████████████████████████████████████████████████████████████████████▏       | 271/300 [00:31<00:03,  8.59it/s]"
     ]
    },
    {
     "name": "stdout",
     "output_type": "stream",
     "text": [
      "1/1 [==============================] - 0s 45ms/step\n"
     ]
    },
    {
     "name": "stderr",
     "output_type": "stream",
     "text": [
      " 91%|█████████████████████████████████████████████████████████████████████████▍       | 272/300 [00:32<00:03,  8.79it/s]"
     ]
    },
    {
     "name": "stdout",
     "output_type": "stream",
     "text": [
      "1/1 [==============================] - 0s 41ms/step\n"
     ]
    },
    {
     "name": "stderr",
     "output_type": "stream",
     "text": [
      " 91%|█████████████████████████████████████████████████████████████████████████▋       | 273/300 [00:32<00:03,  8.73it/s]"
     ]
    },
    {
     "name": "stdout",
     "output_type": "stream",
     "text": [
      "1/1 [==============================] - 0s 43ms/step\n"
     ]
    },
    {
     "name": "stderr",
     "output_type": "stream",
     "text": [
      " 91%|█████████████████████████████████████████████████████████████████████████▉       | 274/300 [00:32<00:02,  8.74it/s]"
     ]
    },
    {
     "name": "stdout",
     "output_type": "stream",
     "text": [
      "1/1 [==============================] - 0s 46ms/step\n"
     ]
    },
    {
     "name": "stderr",
     "output_type": "stream",
     "text": [
      " 92%|██████████████████████████████████████████████████████████████████████████▎      | 275/300 [00:32<00:03,  8.18it/s]"
     ]
    },
    {
     "name": "stdout",
     "output_type": "stream",
     "text": [
      "1/1 [==============================] - 0s 41ms/step\n"
     ]
    },
    {
     "name": "stderr",
     "output_type": "stream",
     "text": [
      " 92%|██████████████████████████████████████████████████████████████████████████▌      | 276/300 [00:32<00:03,  6.50it/s]"
     ]
    },
    {
     "name": "stdout",
     "output_type": "stream",
     "text": [
      "1/1 [==============================] - 0s 44ms/step\n"
     ]
    },
    {
     "name": "stderr",
     "output_type": "stream",
     "text": [
      " 92%|██████████████████████████████████████████████████████████████████████████▊      | 277/300 [00:32<00:03,  6.88it/s]"
     ]
    },
    {
     "name": "stdout",
     "output_type": "stream",
     "text": [
      "1/1 [==============================] - 0s 40ms/step\n"
     ]
    },
    {
     "name": "stderr",
     "output_type": "stream",
     "text": [
      " 93%|███████████████████████████████████████████████████████████████████████████      | 278/300 [00:32<00:02,  7.48it/s]"
     ]
    },
    {
     "name": "stdout",
     "output_type": "stream",
     "text": [
      "1/1 [==============================] - 0s 34ms/step\n",
      "1/1 [==============================] - 0s 36ms/step\n"
     ]
    },
    {
     "name": "stderr",
     "output_type": "stream",
     "text": [
      " 93%|███████████████████████████████████████████████████████████████████████████▌     | 280/300 [00:33<00:02,  8.68it/s]"
     ]
    },
    {
     "name": "stdout",
     "output_type": "stream",
     "text": [
      "1/1 [==============================] - 0s 36ms/step\n"
     ]
    },
    {
     "name": "stderr",
     "output_type": "stream",
     "text": [
      " 94%|███████████████████████████████████████████████████████████████████████████▊     | 281/300 [00:33<00:02,  8.86it/s]"
     ]
    },
    {
     "name": "stdout",
     "output_type": "stream",
     "text": [
      "1/1 [==============================] - 0s 37ms/step\n"
     ]
    },
    {
     "name": "stderr",
     "output_type": "stream",
     "text": [
      " 94%|████████████████████████████████████████████████████████████████████████████▏    | 282/300 [00:33<00:01,  9.09it/s]"
     ]
    },
    {
     "name": "stdout",
     "output_type": "stream",
     "text": [
      "1/1 [==============================] - 0s 35ms/step\n"
     ]
    },
    {
     "name": "stderr",
     "output_type": "stream",
     "text": [
      " 94%|████████████████████████████████████████████████████████████████████████████▍    | 283/300 [00:33<00:01,  9.30it/s]"
     ]
    },
    {
     "name": "stdout",
     "output_type": "stream",
     "text": [
      "1/1 [==============================] - 0s 42ms/step\n"
     ]
    },
    {
     "name": "stderr",
     "output_type": "stream",
     "text": [
      " 95%|████████████████████████████████████████████████████████████████████████████▋    | 284/300 [00:33<00:01,  9.36it/s]"
     ]
    },
    {
     "name": "stdout",
     "output_type": "stream",
     "text": [
      "1/1 [==============================] - 0s 36ms/step\n",
      "1/1 [==============================] - 0s 33ms/step\n"
     ]
    },
    {
     "name": "stderr",
     "output_type": "stream",
     "text": [
      " 95%|█████████████████████████████████████████████████████████████████████████████▏   | 286/300 [00:33<00:01,  9.79it/s]"
     ]
    },
    {
     "name": "stdout",
     "output_type": "stream",
     "text": [
      "1/1 [==============================] - 0s 35ms/step\n",
      "1/1 [==============================] - 0s 36ms/step\n"
     ]
    },
    {
     "name": "stderr",
     "output_type": "stream",
     "text": [
      " 96%|█████████████████████████████████████████████████████████████████████████████▊   | 288/300 [00:33<00:01,  9.88it/s]"
     ]
    },
    {
     "name": "stdout",
     "output_type": "stream",
     "text": [
      "1/1 [==============================] - 0s 32ms/step\n",
      "1/1 [==============================] - 0s 34ms/step\n"
     ]
    },
    {
     "name": "stderr",
     "output_type": "stream",
     "text": [
      " 97%|██████████████████████████████████████████████████████████████████████████████▎  | 290/300 [00:34<00:00, 10.13it/s]"
     ]
    },
    {
     "name": "stdout",
     "output_type": "stream",
     "text": [
      "1/1 [==============================] - 0s 35ms/step\n",
      "1/1 [==============================] - 0s 32ms/step\n"
     ]
    },
    {
     "name": "stderr",
     "output_type": "stream",
     "text": [
      " 97%|██████████████████████████████████████████████████████████████████████████████▊  | 292/300 [00:34<00:00, 10.16it/s]"
     ]
    },
    {
     "name": "stdout",
     "output_type": "stream",
     "text": [
      "1/1 [==============================] - 0s 37ms/step\n",
      "1/1 [==============================] - 0s 37ms/step\n"
     ]
    },
    {
     "name": "stderr",
     "output_type": "stream",
     "text": [
      " 98%|███████████████████████████████████████████████████████████████████████████████▍ | 294/300 [00:34<00:00, 10.07it/s]"
     ]
    },
    {
     "name": "stdout",
     "output_type": "stream",
     "text": [
      "1/1 [==============================] - 0s 30ms/step\n",
      "1/1 [==============================] - 0s 33ms/step\n"
     ]
    },
    {
     "name": "stderr",
     "output_type": "stream",
     "text": [
      " 99%|███████████████████████████████████████████████████████████████████████████████▉ | 296/300 [00:34<00:00, 10.39it/s]"
     ]
    },
    {
     "name": "stdout",
     "output_type": "stream",
     "text": [
      "1/1 [==============================] - 0s 31ms/step\n",
      "1/1 [==============================] - 0s 28ms/step\n"
     ]
    },
    {
     "name": "stderr",
     "output_type": "stream",
     "text": [
      " 99%|████████████████████████████████████████████████████████████████████████████████▍| 298/300 [00:34<00:00, 10.74it/s]"
     ]
    },
    {
     "name": "stdout",
     "output_type": "stream",
     "text": [
      "1/1 [==============================] - 0s 28ms/step\n",
      "1/1 [==============================] - 0s 31ms/step\n"
     ]
    },
    {
     "name": "stderr",
     "output_type": "stream",
     "text": [
      "100%|█████████████████████████████████████████████████████████████████████████████████| 300/300 [00:34<00:00,  8.58it/s]\n"
     ]
    }
   ],
   "source": [
    "preds = []\n",
    "for i in tqdm(df.index):\n",
    "    preds.append(predict_file(df, ID = i, model = model))"
   ]
  },
  {
   "cell_type": "code",
   "execution_count": 158,
   "id": "ccd96ace-bf1f-43fc-8a40-ab38f7675d63",
   "metadata": {},
   "outputs": [],
   "source": [
    "preds = np.array(preds)\n",
    "classes = np.argmax(preds, axis = 1)"
   ]
  },
  {
   "cell_type": "code",
   "execution_count": 162,
   "id": "03123ed8-925c-461b-b480-431183039f9b",
   "metadata": {},
   "outputs": [],
   "source": [
    "classes_true = []\n",
    "for en in df.en:\n",
    "    classes_true.append(cfg.name2label[en])\n",
    "classes_true = np.array(classes_true)"
   ]
  },
  {
   "cell_type": "code",
   "execution_count": 164,
   "id": "bc90682d-475c-46db-82df-1d1f372bb33b",
   "metadata": {},
   "outputs": [
    {
     "data": {
      "text/plain": [
       "0.8366666666666667"
      ]
     },
     "execution_count": 164,
     "metadata": {},
     "output_type": "execute_result"
    }
   ],
   "source": [
    "len(classes[classes == classes_true])/len(classes)"
   ]
  },
  {
   "cell_type": "markdown",
   "id": "40753371-4ff4-48f8-9ede-867b7eb21e7d",
   "metadata": {},
   "source": [
    "## Include time frequency mask layer\n",
    "### (not working yet, idk why)"
   ]
  },
  {
   "cell_type": "code",
   "execution_count": 26,
   "id": "44a95810-49f6-494e-ab9a-3b01bad32765",
   "metadata": {},
   "outputs": [],
   "source": [
    "tfm_layer = tfe.layers.TimeFreqMask(freq_mask_prob=0.5,\n",
    "                                  num_freq_masks=2,\n",
    "                                  freq_mask_param=15,\n",
    "                                  time_mask_prob=0.5,\n",
    "                                  num_time_masks=3,\n",
    "                                  time_mask_param=15,\n",
    "                                  time_last=True,\n",
    "                        )"
   ]
  },
  {
   "cell_type": "code",
   "execution_count": 63,
   "id": "39fbc57f-bcb8-4d45-9867-b00a3ce56006",
   "metadata": {},
   "outputs": [
    {
     "name": "stdout",
     "output_type": "stream",
     "text": [
      "(128, 162)\n"
     ]
    },
    {
     "data": {
      "image/png": "[encoded data removed]",
      "text/plain": [
       "<Figure size 640x480 with 2 Axes>"
      ]
     },
     "metadata": {},
     "output_type": "display_data"
    }
   ],
   "source": [
    "spec = load_random_spec_slice(df, ID = 0)\n",
    "print(spec.shape)\n",
    "fig, ax = plt.subplots(1,2)\n",
    "librosa.display.specshow(spec, sr=cfg.sr, hop_length=cfg.hop_length,\n",
    "                         x_axis='time', ax=ax[0]);\n",
    "librosa.display.specshow(tfm_layer(spec.reshape(1, *cfg.input_dim, 1), training = True).numpy().reshape(*cfg.input_dim), \n",
    "                         sr=cfg.sr, hop_length=cfg.hop_length,\n",
    "                         x_axis='time', ax=ax[1]);"
   ]
  },
  {
   "cell_type": "code",
   "execution_count": 62,
   "id": "721c2f13-1bfa-4afc-8011-fe0a65b70f85",
   "metadata": {},
   "outputs": [],
   "source": [
    "def build_model2():\n",
    "    inp = Input(shape=(*cfg.input_dim, 1))\n",
    "    \n",
    "    # Normalize\n",
    "    x = zscore_layer(inp)\n",
    "    # Time Frequency masking\n",
    "    x = tfm_layer(x)\n",
    "    # Base model\n",
    "    x = Conv2D(32, kernel_size=(3, 3), padding='valid', activation='relu')(x)\n",
    "    x = MaxPooling2D(pool_size=(2, 2), padding=\"valid\")(x)\n",
    "    x = Conv2D(64, kernel_size=(3, 3), padding='valid', activation='relu')(x)\n",
    "    x = MaxPooling2D(pool_size=(2, 2), padding=\"valid\")(x)\n",
    "    x = Dropout(0.4)(x)\n",
    "    x = Flatten()(x)\n",
    "    x = Dense(64, activation='relu')(x)\n",
    "    x = Dropout(0.25)(x)\n",
    "    x = Dense(32, activation='relu')(x)\n",
    "    output = Dense(cfg.n_classes, activation='softmax')(x)\n",
    "    \n",
    "    model = tf.keras.models.Model(inputs=inp, outputs=output, name = \"Model2\")\n",
    "    model.compile(loss='categorical_crossentropy', optimizer='adam', metrics=['accuracy'])\n",
    "    model.summary()\n",
    "    return model"
   ]
  },
  {
   "cell_type": "code",
   "execution_count": 36,
   "id": "b217ae9b-94e0-485f-b640-a116e7e881bb",
   "metadata": {},
   "outputs": [
    {
     "name": "stdout",
     "output_type": "stream",
     "text": [
      "Shape after normalization: (None, 128, 162, 1)\n",
      "Model: \"Model2\"\n",
      "_________________________________________________________________\n",
      " Layer (type)                Output Shape              Param #   \n",
      "=================================================================\n",
      " input_4 (InputLayer)        [(None, 128, 162, 1)]     0         \n",
      "                                                                 \n",
      " z_score_min_max (ZScoreMin  (None, 128, 162, 1)       0         \n",
      " Max)                                                            \n",
      "                                                                 \n",
      " time_freq_mask (TimeFreqMa  (None, 128, 162, 1)       0         \n",
      " sk)                                                             \n",
      "                                                                 \n",
      " conv2d_6 (Conv2D)           (None, 126, 160, 32)      320       \n",
      "                                                                 \n",
      " max_pooling2d_6 (MaxPoolin  (None, 63, 80, 32)        0         \n",
      " g2D)                                                            \n",
      "                                                                 \n",
      " conv2d_7 (Conv2D)           (None, 61, 78, 64)        18496     \n",
      "                                                                 \n",
      " max_pooling2d_7 (MaxPoolin  (None, 30, 39, 64)        0         \n",
      " g2D)                                                            \n",
      "                                                                 \n",
      " dropout_6 (Dropout)         (None, 30, 39, 64)        0         \n",
      "                                                                 \n",
      " flatten_3 (Flatten)         (None, 74880)             0         \n",
      "                                                                 \n",
      " dense_9 (Dense)             (None, 64)                4792384   \n",
      "                                                                 \n",
      " dropout_7 (Dropout)         (None, 64)                0         \n",
      "                                                                 \n",
      " dense_10 (Dense)            (None, 32)                2080      \n",
      "                                                                 \n",
      " dense_11 (Dense)            (None, 10)                330       \n",
      "                                                                 \n",
      "=================================================================\n",
      "Total params: 4813610 (18.36 MB)\n",
      "Trainable params: 4813610 (18.36 MB)\n",
      "Non-trainable params: 0 (0.00 Byte)\n",
      "_________________________________________________________________\n"
     ]
    }
   ],
   "source": [
    "model2 = build_model2()"
   ]
  },
  {
   "cell_type": "code",
   "execution_count": 37,
   "id": "d43fb15b-9b43-4f89-97c5-3864490fd7a8",
   "metadata": {},
   "outputs": [
    {
     "name": "stdout",
     "output_type": "stream",
     "text": [
      "Epoch 1/50\n"
     ]
    },
    {
     "ename": "ValueError",
     "evalue": "in user code:\n\n    File \"/home/cfr/.local/conda/envs/ML_Birds/lib/python3.11/site-packages/keras/src/engine/training.py\", line 1401, in train_function  *\n        return step_function(self, iterator)\n    File \"/home/cfr/.local/conda/envs/ML_Birds/lib/python3.11/site-packages/keras/src/engine/training.py\", line 1384, in step_function  **\n        outputs = model.distribute_strategy.run(run_step, args=(data,))\n    File \"/home/cfr/.local/conda/envs/ML_Birds/lib/python3.11/site-packages/keras/src/engine/training.py\", line 1373, in run_step  **\n        outputs = model.train_step(data)\n    File \"/home/cfr/.local/conda/envs/ML_Birds/lib/python3.11/site-packages/keras/src/engine/training.py\", line 1150, in train_step\n        y_pred = self(x, training=True)\n    File \"/home/cfr/.local/conda/envs/ML_Birds/lib/python3.11/site-packages/keras/src/utils/traceback_utils.py\", line 70, in error_handler\n        raise e.with_traceback(filtered_tb) from None\n    File \"/tmp/__autograph_generated_filev1_a71vl.py\", line 69, in tf__call\n        ag__.if_stmt(ag__.not_(ag__.ld(training)), if_body, else_body, get_state_2, set_state_2, ('do_return', 'retval_'), 2)\n    File \"/tmp/__autograph_generated_filev1_a71vl.py\", line 45, in else_body\n        ag__.for_stmt(ag__.converted_call(ag__.ld(tf).range, (ag__.ld(self).num_time_masks,), None, fscope), None, loop_body, get_state, set_state, ('x',), {'iterate_names': '_'})\n    File \"/tmp/__autograph_generated_filev1_a71vl.py\", line 43, in loop_body\n        x = ag__.converted_call(ag__.ld(self).mask_along_axis_iid, (ag__.ld(x), ag__.ld(self).time_mask_param, 0, 2 + ag__.converted_call(ag__.ld(int), (ag__.ld(self).time_last,), None, fscope), ag__.ld(self).time_mask_prob), None, fscope)\n    File \"/tmp/__autograph_generated_file349l6l4z.py\", line 83, in tf__mask_along_axis_iid\n        ag__.if_stmt(ag__.converted_call(ag__.ld(tf).random.uniform, ([],), None, fscope) > ag__.ld(p), if_body_2, else_body_2, get_state_2, set_state_2, ('do_return', 'retval_', 'specs'), 2)\n    File \"/tmp/__autograph_generated_file349l6l4z.py\", line 60, in else_body_2\n        min_value = ag__.converted_call(ag__.ld(tf).random.uniform, (), dict(shape=ag__.ld(shape)[:2], dtype=ag__.ld(dtype)), fscope) * (ag__.ld(specs).shape[ag__.ld(axis)] - ag__.ld(value))\n\n    ValueError: Exception encountered when calling layer 'time_freq_mask' (type TimeFreqMask).\n    \n    in user code:\n    \n        File \"/home/cfr/.local/conda/envs/ML_Birds/lib/python3.11/site-packages/tensorflow_extra/layers.py\", line 402, in call  *\n            x = self.mask_along_axis_iid(\n        File \"/home/cfr/.local/conda/envs/ML_Birds/lib/python3.11/site-packages/tensorflow_extra/layers.py\", line 442, in mask_along_axis_iid  *\n            min_value = tf.random.uniform(shape=shape[:2], dtype=dtype) * (\n    \n        ValueError: None values not supported.\n    \n    \n    Call arguments received by layer 'time_freq_mask' (type TimeFreqMask):\n      • inputs=tf.Tensor(shape=(None, None, None, None), dtype=float32)\n      • training=True\n",
     "output_type": "error",
     "traceback": [
      "\u001b[0;31m---------------------------------------------------------------------------\u001b[0m",
      "\u001b[0;31mValueError\u001b[0m                                Traceback (most recent call last)",
      "Cell \u001b[0;32mIn[37], line 1\u001b[0m\n\u001b[0;32m----> 1\u001b[0m hist3 \u001b[38;5;241m=\u001b[39m \u001b[43mmodel2\u001b[49m\u001b[38;5;241;43m.\u001b[39;49m\u001b[43mfit\u001b[49m\u001b[43m(\u001b[49m\u001b[43mtraining_generator\u001b[49m\u001b[43m,\u001b[49m\n\u001b[1;32m      2\u001b[0m \u001b[43m                    \u001b[49m\u001b[43mvalidation_data\u001b[49m\u001b[38;5;241;43m=\u001b[39;49m\u001b[43mvalidation_generator\u001b[49m\u001b[43m,\u001b[49m\n\u001b[1;32m      3\u001b[0m \u001b[43m                    \u001b[49m\u001b[43muse_multiprocessing\u001b[49m\u001b[38;5;241;43m=\u001b[39;49m\u001b[38;5;28;43;01mTrue\u001b[39;49;00m\u001b[43m,\u001b[49m\u001b[43m \u001b[49m\u001b[43mverbose\u001b[49m\u001b[43m \u001b[49m\u001b[38;5;241;43m=\u001b[39;49m\u001b[43m \u001b[49m\u001b[38;5;241;43m2\u001b[39;49m\u001b[43m,\u001b[49m\u001b[43m \u001b[49m\u001b[43mepochs\u001b[49m\u001b[43m \u001b[49m\u001b[38;5;241;43m=\u001b[39;49m\u001b[43m \u001b[49m\u001b[43mcfg\u001b[49m\u001b[38;5;241;43m.\u001b[39;49m\u001b[43mn_epochs\u001b[49m\u001b[43m)\u001b[49m\n",
      "File \u001b[0;32m~/.local/conda/envs/ML_Birds/lib/python3.11/site-packages/keras/src/utils/traceback_utils.py:70\u001b[0m, in \u001b[0;36mfilter_traceback.<locals>.error_handler\u001b[0;34m(*args, **kwargs)\u001b[0m\n\u001b[1;32m     67\u001b[0m     filtered_tb \u001b[38;5;241m=\u001b[39m _process_traceback_frames(e\u001b[38;5;241m.\u001b[39m__traceback__)\n\u001b[1;32m     68\u001b[0m     \u001b[38;5;66;03m# To get the full stack trace, call:\u001b[39;00m\n\u001b[1;32m     69\u001b[0m     \u001b[38;5;66;03m# `tf.debugging.disable_traceback_filtering()`\u001b[39;00m\n\u001b[0;32m---> 70\u001b[0m     \u001b[38;5;28;01mraise\u001b[39;00m e\u001b[38;5;241m.\u001b[39mwith_traceback(filtered_tb) \u001b[38;5;28;01mfrom\u001b[39;00m \u001b[38;5;28;01mNone\u001b[39;00m\n\u001b[1;32m     71\u001b[0m \u001b[38;5;28;01mfinally\u001b[39;00m:\n\u001b[1;32m     72\u001b[0m     \u001b[38;5;28;01mdel\u001b[39;00m filtered_tb\n",
      "File \u001b[0;32m/tmp/__autograph_generated_filep84fln6k.py:15\u001b[0m, in \u001b[0;36mouter_factory.<locals>.inner_factory.<locals>.tf__train_function\u001b[0;34m(iterator)\u001b[0m\n\u001b[1;32m     13\u001b[0m \u001b[38;5;28;01mtry\u001b[39;00m:\n\u001b[1;32m     14\u001b[0m     do_return \u001b[38;5;241m=\u001b[39m \u001b[38;5;28;01mTrue\u001b[39;00m\n\u001b[0;32m---> 15\u001b[0m     retval_ \u001b[38;5;241m=\u001b[39m ag__\u001b[38;5;241m.\u001b[39mconverted_call(ag__\u001b[38;5;241m.\u001b[39mld(step_function), (ag__\u001b[38;5;241m.\u001b[39mld(\u001b[38;5;28mself\u001b[39m), ag__\u001b[38;5;241m.\u001b[39mld(iterator)), \u001b[38;5;28;01mNone\u001b[39;00m, fscope)\n\u001b[1;32m     16\u001b[0m \u001b[38;5;28;01mexcept\u001b[39;00m:\n\u001b[1;32m     17\u001b[0m     do_return \u001b[38;5;241m=\u001b[39m \u001b[38;5;28;01mFalse\u001b[39;00m\n",
      "File \u001b[0;32m/tmp/__autograph_generated_filev1_a71vl.py:69\u001b[0m, in \u001b[0;36mouter_factory.<locals>.inner_factory.<locals>.tf__call\u001b[0;34m(self, inputs, training)\u001b[0m\n\u001b[1;32m     67\u001b[0m ndims \u001b[38;5;241m=\u001b[39m ag__\u001b[38;5;241m.\u001b[39mUndefined(\u001b[38;5;124m'\u001b[39m\u001b[38;5;124mndims\u001b[39m\u001b[38;5;124m'\u001b[39m)\n\u001b[1;32m     68\u001b[0m shape \u001b[38;5;241m=\u001b[39m ag__\u001b[38;5;241m.\u001b[39mUndefined(\u001b[38;5;124m'\u001b[39m\u001b[38;5;124mshape\u001b[39m\u001b[38;5;124m'\u001b[39m)\n\u001b[0;32m---> 69\u001b[0m \u001b[43mag__\u001b[49m\u001b[38;5;241;43m.\u001b[39;49m\u001b[43mif_stmt\u001b[49m\u001b[43m(\u001b[49m\u001b[43mag__\u001b[49m\u001b[38;5;241;43m.\u001b[39;49m\u001b[43mnot_\u001b[49m\u001b[43m(\u001b[49m\u001b[43mag__\u001b[49m\u001b[38;5;241;43m.\u001b[39;49m\u001b[43mld\u001b[49m\u001b[43m(\u001b[49m\u001b[43mtraining\u001b[49m\u001b[43m)\u001b[49m\u001b[43m)\u001b[49m\u001b[43m,\u001b[49m\u001b[43m \u001b[49m\u001b[43mif_body\u001b[49m\u001b[43m,\u001b[49m\u001b[43m \u001b[49m\u001b[43melse_body\u001b[49m\u001b[43m,\u001b[49m\u001b[43m \u001b[49m\u001b[43mget_state_2\u001b[49m\u001b[43m,\u001b[49m\u001b[43m \u001b[49m\u001b[43mset_state_2\u001b[49m\u001b[43m,\u001b[49m\u001b[43m \u001b[49m\u001b[43m(\u001b[49m\u001b[38;5;124;43m'\u001b[39;49m\u001b[38;5;124;43mdo_return\u001b[39;49m\u001b[38;5;124;43m'\u001b[39;49m\u001b[43m,\u001b[49m\u001b[43m \u001b[49m\u001b[38;5;124;43m'\u001b[39;49m\u001b[38;5;124;43mretval_\u001b[39;49m\u001b[38;5;124;43m'\u001b[39;49m\u001b[43m)\u001b[49m\u001b[43m,\u001b[49m\u001b[43m \u001b[49m\u001b[38;5;241;43m2\u001b[39;49m\u001b[43m)\u001b[49m\n\u001b[1;32m     70\u001b[0m \u001b[38;5;28;01mreturn\u001b[39;00m fscope\u001b[38;5;241m.\u001b[39mret(retval_, do_return)\n",
      "File \u001b[0;32m/tmp/__autograph_generated_filev1_a71vl.py:45\u001b[0m, in \u001b[0;36mouter_factory.<locals>.inner_factory.<locals>.tf__call.<locals>.else_body\u001b[0;34m()\u001b[0m\n\u001b[1;32m     43\u001b[0m     x \u001b[38;5;241m=\u001b[39m ag__\u001b[38;5;241m.\u001b[39mconverted_call(ag__\u001b[38;5;241m.\u001b[39mld(\u001b[38;5;28mself\u001b[39m)\u001b[38;5;241m.\u001b[39mmask_along_axis_iid, (ag__\u001b[38;5;241m.\u001b[39mld(x), ag__\u001b[38;5;241m.\u001b[39mld(\u001b[38;5;28mself\u001b[39m)\u001b[38;5;241m.\u001b[39mtime_mask_param, \u001b[38;5;241m0\u001b[39m, \u001b[38;5;241m2\u001b[39m \u001b[38;5;241m+\u001b[39m ag__\u001b[38;5;241m.\u001b[39mconverted_call(ag__\u001b[38;5;241m.\u001b[39mld(\u001b[38;5;28mint\u001b[39m), (ag__\u001b[38;5;241m.\u001b[39mld(\u001b[38;5;28mself\u001b[39m)\u001b[38;5;241m.\u001b[39mtime_last,), \u001b[38;5;28;01mNone\u001b[39;00m, fscope), ag__\u001b[38;5;241m.\u001b[39mld(\u001b[38;5;28mself\u001b[39m)\u001b[38;5;241m.\u001b[39mtime_mask_prob), \u001b[38;5;28;01mNone\u001b[39;00m, fscope)\n\u001b[1;32m     44\u001b[0m _ \u001b[38;5;241m=\u001b[39m ag__\u001b[38;5;241m.\u001b[39mUndefined(\u001b[38;5;124m'\u001b[39m\u001b[38;5;124m_\u001b[39m\u001b[38;5;124m'\u001b[39m)\n\u001b[0;32m---> 45\u001b[0m \u001b[43mag__\u001b[49m\u001b[38;5;241;43m.\u001b[39;49m\u001b[43mfor_stmt\u001b[49m\u001b[43m(\u001b[49m\u001b[43mag__\u001b[49m\u001b[38;5;241;43m.\u001b[39;49m\u001b[43mconverted_call\u001b[49m\u001b[43m(\u001b[49m\u001b[43mag__\u001b[49m\u001b[38;5;241;43m.\u001b[39;49m\u001b[43mld\u001b[49m\u001b[43m(\u001b[49m\u001b[43mtf\u001b[49m\u001b[43m)\u001b[49m\u001b[38;5;241;43m.\u001b[39;49m\u001b[43mrange\u001b[49m\u001b[43m,\u001b[49m\u001b[43m \u001b[49m\u001b[43m(\u001b[49m\u001b[43mag__\u001b[49m\u001b[38;5;241;43m.\u001b[39;49m\u001b[43mld\u001b[49m\u001b[43m(\u001b[49m\u001b[38;5;28;43mself\u001b[39;49m\u001b[43m)\u001b[49m\u001b[38;5;241;43m.\u001b[39;49m\u001b[43mnum_time_masks\u001b[49m\u001b[43m,\u001b[49m\u001b[43m)\u001b[49m\u001b[43m,\u001b[49m\u001b[43m \u001b[49m\u001b[38;5;28;43;01mNone\u001b[39;49;00m\u001b[43m,\u001b[49m\u001b[43m \u001b[49m\u001b[43mfscope\u001b[49m\u001b[43m)\u001b[49m\u001b[43m,\u001b[49m\u001b[43m \u001b[49m\u001b[38;5;28;43;01mNone\u001b[39;49;00m\u001b[43m,\u001b[49m\u001b[43m \u001b[49m\u001b[43mloop_body\u001b[49m\u001b[43m,\u001b[49m\u001b[43m \u001b[49m\u001b[43mget_state\u001b[49m\u001b[43m,\u001b[49m\u001b[43m \u001b[49m\u001b[43mset_state\u001b[49m\u001b[43m,\u001b[49m\u001b[43m \u001b[49m\u001b[43m(\u001b[49m\u001b[38;5;124;43m'\u001b[39;49m\u001b[38;5;124;43mx\u001b[39;49m\u001b[38;5;124;43m'\u001b[39;49m\u001b[43m,\u001b[49m\u001b[43m)\u001b[49m\u001b[43m,\u001b[49m\u001b[43m \u001b[49m\u001b[43m{\u001b[49m\u001b[38;5;124;43m'\u001b[39;49m\u001b[38;5;124;43miterate_names\u001b[39;49m\u001b[38;5;124;43m'\u001b[39;49m\u001b[43m:\u001b[49m\u001b[43m \u001b[49m\u001b[38;5;124;43m'\u001b[39;49m\u001b[38;5;124;43m_\u001b[39;49m\u001b[38;5;124;43m'\u001b[39;49m\u001b[43m}\u001b[49m\u001b[43m)\u001b[49m\n\u001b[1;32m     47\u001b[0m \u001b[38;5;28;01mdef\u001b[39;00m \u001b[38;5;21mget_state_1\u001b[39m():\n\u001b[1;32m     48\u001b[0m     \u001b[38;5;28;01mreturn\u001b[39;00m (x,)\n",
      "File \u001b[0;32m/tmp/__autograph_generated_filev1_a71vl.py:43\u001b[0m, in \u001b[0;36mouter_factory.<locals>.inner_factory.<locals>.tf__call.<locals>.else_body.<locals>.loop_body\u001b[0;34m(itr)\u001b[0m\n\u001b[1;32m     41\u001b[0m \u001b[38;5;28;01mnonlocal\u001b[39;00m x\n\u001b[1;32m     42\u001b[0m _ \u001b[38;5;241m=\u001b[39m itr\n\u001b[0;32m---> 43\u001b[0m x \u001b[38;5;241m=\u001b[39m \u001b[43mag__\u001b[49m\u001b[38;5;241;43m.\u001b[39;49m\u001b[43mconverted_call\u001b[49m\u001b[43m(\u001b[49m\u001b[43mag__\u001b[49m\u001b[38;5;241;43m.\u001b[39;49m\u001b[43mld\u001b[49m\u001b[43m(\u001b[49m\u001b[38;5;28;43mself\u001b[39;49m\u001b[43m)\u001b[49m\u001b[38;5;241;43m.\u001b[39;49m\u001b[43mmask_along_axis_iid\u001b[49m\u001b[43m,\u001b[49m\u001b[43m \u001b[49m\u001b[43m(\u001b[49m\u001b[43mag__\u001b[49m\u001b[38;5;241;43m.\u001b[39;49m\u001b[43mld\u001b[49m\u001b[43m(\u001b[49m\u001b[43mx\u001b[49m\u001b[43m)\u001b[49m\u001b[43m,\u001b[49m\u001b[43m \u001b[49m\u001b[43mag__\u001b[49m\u001b[38;5;241;43m.\u001b[39;49m\u001b[43mld\u001b[49m\u001b[43m(\u001b[49m\u001b[38;5;28;43mself\u001b[39;49m\u001b[43m)\u001b[49m\u001b[38;5;241;43m.\u001b[39;49m\u001b[43mtime_mask_param\u001b[49m\u001b[43m,\u001b[49m\u001b[43m \u001b[49m\u001b[38;5;241;43m0\u001b[39;49m\u001b[43m,\u001b[49m\u001b[43m \u001b[49m\u001b[38;5;241;43m2\u001b[39;49m\u001b[43m \u001b[49m\u001b[38;5;241;43m+\u001b[39;49m\u001b[43m \u001b[49m\u001b[43mag__\u001b[49m\u001b[38;5;241;43m.\u001b[39;49m\u001b[43mconverted_call\u001b[49m\u001b[43m(\u001b[49m\u001b[43mag__\u001b[49m\u001b[38;5;241;43m.\u001b[39;49m\u001b[43mld\u001b[49m\u001b[43m(\u001b[49m\u001b[38;5;28;43mint\u001b[39;49m\u001b[43m)\u001b[49m\u001b[43m,\u001b[49m\u001b[43m \u001b[49m\u001b[43m(\u001b[49m\u001b[43mag__\u001b[49m\u001b[38;5;241;43m.\u001b[39;49m\u001b[43mld\u001b[49m\u001b[43m(\u001b[49m\u001b[38;5;28;43mself\u001b[39;49m\u001b[43m)\u001b[49m\u001b[38;5;241;43m.\u001b[39;49m\u001b[43mtime_last\u001b[49m\u001b[43m,\u001b[49m\u001b[43m)\u001b[49m\u001b[43m,\u001b[49m\u001b[43m \u001b[49m\u001b[38;5;28;43;01mNone\u001b[39;49;00m\u001b[43m,\u001b[49m\u001b[43m \u001b[49m\u001b[43mfscope\u001b[49m\u001b[43m)\u001b[49m\u001b[43m,\u001b[49m\u001b[43m \u001b[49m\u001b[43mag__\u001b[49m\u001b[38;5;241;43m.\u001b[39;49m\u001b[43mld\u001b[49m\u001b[43m(\u001b[49m\u001b[38;5;28;43mself\u001b[39;49m\u001b[43m)\u001b[49m\u001b[38;5;241;43m.\u001b[39;49m\u001b[43mtime_mask_prob\u001b[49m\u001b[43m)\u001b[49m\u001b[43m,\u001b[49m\u001b[43m \u001b[49m\u001b[38;5;28;43;01mNone\u001b[39;49;00m\u001b[43m,\u001b[49m\u001b[43m \u001b[49m\u001b[43mfscope\u001b[49m\u001b[43m)\u001b[49m\n",
      "File \u001b[0;32m/tmp/__autograph_generated_file349l6l4z.py:83\u001b[0m, in \u001b[0;36mouter_factory.<locals>.inner_factory.<locals>.tf__mask_along_axis_iid\u001b[0;34m(self, specs, mask_param, mask_value, axis, p)\u001b[0m\n\u001b[1;32m     81\u001b[0m cond \u001b[38;5;241m=\u001b[39m ag__\u001b[38;5;241m.\u001b[39mUndefined(\u001b[38;5;124m'\u001b[39m\u001b[38;5;124mcond\u001b[39m\u001b[38;5;124m'\u001b[39m)\n\u001b[1;32m     82\u001b[0m mask_end \u001b[38;5;241m=\u001b[39m ag__\u001b[38;5;241m.\u001b[39mUndefined(\u001b[38;5;124m'\u001b[39m\u001b[38;5;124mmask_end\u001b[39m\u001b[38;5;124m'\u001b[39m)\n\u001b[0;32m---> 83\u001b[0m \u001b[43mag__\u001b[49m\u001b[38;5;241;43m.\u001b[39;49m\u001b[43mif_stmt\u001b[49m\u001b[43m(\u001b[49m\u001b[43mag__\u001b[49m\u001b[38;5;241;43m.\u001b[39;49m\u001b[43mconverted_call\u001b[49m\u001b[43m(\u001b[49m\u001b[43mag__\u001b[49m\u001b[38;5;241;43m.\u001b[39;49m\u001b[43mld\u001b[49m\u001b[43m(\u001b[49m\u001b[43mtf\u001b[49m\u001b[43m)\u001b[49m\u001b[38;5;241;43m.\u001b[39;49m\u001b[43mrandom\u001b[49m\u001b[38;5;241;43m.\u001b[39;49m\u001b[43muniform\u001b[49m\u001b[43m,\u001b[49m\u001b[43m \u001b[49m\u001b[43m(\u001b[49m\u001b[43m[\u001b[49m\u001b[43m]\u001b[49m\u001b[43m,\u001b[49m\u001b[43m)\u001b[49m\u001b[43m,\u001b[49m\u001b[43m \u001b[49m\u001b[38;5;28;43;01mNone\u001b[39;49;00m\u001b[43m,\u001b[49m\u001b[43m \u001b[49m\u001b[43mfscope\u001b[49m\u001b[43m)\u001b[49m\u001b[43m \u001b[49m\u001b[38;5;241;43m>\u001b[39;49m\u001b[43m \u001b[49m\u001b[43mag__\u001b[49m\u001b[38;5;241;43m.\u001b[39;49m\u001b[43mld\u001b[49m\u001b[43m(\u001b[49m\u001b[43mp\u001b[49m\u001b[43m)\u001b[49m\u001b[43m,\u001b[49m\u001b[43m \u001b[49m\u001b[43mif_body_2\u001b[49m\u001b[43m,\u001b[49m\u001b[43m \u001b[49m\u001b[43melse_body_2\u001b[49m\u001b[43m,\u001b[49m\u001b[43m \u001b[49m\u001b[43mget_state_2\u001b[49m\u001b[43m,\u001b[49m\u001b[43m \u001b[49m\u001b[43mset_state_2\u001b[49m\u001b[43m,\u001b[49m\u001b[43m \u001b[49m\u001b[43m(\u001b[49m\u001b[38;5;124;43m'\u001b[39;49m\u001b[38;5;124;43mdo_return\u001b[39;49m\u001b[38;5;124;43m'\u001b[39;49m\u001b[43m,\u001b[49m\u001b[43m \u001b[49m\u001b[38;5;124;43m'\u001b[39;49m\u001b[38;5;124;43mretval_\u001b[39;49m\u001b[38;5;124;43m'\u001b[39;49m\u001b[43m,\u001b[49m\u001b[43m \u001b[49m\u001b[38;5;124;43m'\u001b[39;49m\u001b[38;5;124;43mspecs\u001b[39;49m\u001b[38;5;124;43m'\u001b[39;49m\u001b[43m)\u001b[49m\u001b[43m,\u001b[49m\u001b[43m \u001b[49m\u001b[38;5;241;43m2\u001b[39;49m\u001b[43m)\u001b[49m\n\u001b[1;32m     84\u001b[0m \u001b[38;5;28;01mreturn\u001b[39;00m fscope\u001b[38;5;241m.\u001b[39mret(retval_, do_return)\n",
      "File \u001b[0;32m/tmp/__autograph_generated_file349l6l4z.py:60\u001b[0m, in \u001b[0;36mouter_factory.<locals>.inner_factory.<locals>.tf__mask_along_axis_iid.<locals>.else_body_2\u001b[0;34m()\u001b[0m\n\u001b[1;32m     58\u001b[0m shape \u001b[38;5;241m=\u001b[39m ag__\u001b[38;5;241m.\u001b[39mconverted_call(ag__\u001b[38;5;241m.\u001b[39mld(tf)\u001b[38;5;241m.\u001b[39mshape, (ag__\u001b[38;5;241m.\u001b[39mld(specs),), \u001b[38;5;28;01mNone\u001b[39;00m, fscope)\n\u001b[1;32m     59\u001b[0m value \u001b[38;5;241m=\u001b[39m ag__\u001b[38;5;241m.\u001b[39mconverted_call(ag__\u001b[38;5;241m.\u001b[39mld(tf)\u001b[38;5;241m.\u001b[39mrandom\u001b[38;5;241m.\u001b[39muniform, (), \u001b[38;5;28mdict\u001b[39m(shape\u001b[38;5;241m=\u001b[39mag__\u001b[38;5;241m.\u001b[39mld(shape)[:\u001b[38;5;241m2\u001b[39m], dtype\u001b[38;5;241m=\u001b[39mag__\u001b[38;5;241m.\u001b[39mld(dtype)), fscope) \u001b[38;5;241m*\u001b[39m ag__\u001b[38;5;241m.\u001b[39mld(mask_param)\n\u001b[0;32m---> 60\u001b[0m min_value \u001b[38;5;241m=\u001b[39m ag__\u001b[38;5;241m.\u001b[39mconverted_call(ag__\u001b[38;5;241m.\u001b[39mld(tf)\u001b[38;5;241m.\u001b[39mrandom\u001b[38;5;241m.\u001b[39muniform, (), \u001b[38;5;28mdict\u001b[39m(shape\u001b[38;5;241m=\u001b[39mag__\u001b[38;5;241m.\u001b[39mld(shape)[:\u001b[38;5;241m2\u001b[39m], dtype\u001b[38;5;241m=\u001b[39mag__\u001b[38;5;241m.\u001b[39mld(dtype)), fscope) \u001b[38;5;241m*\u001b[39m (\u001b[43mag__\u001b[49m\u001b[38;5;241;43m.\u001b[39;49m\u001b[43mld\u001b[49m\u001b[43m(\u001b[49m\u001b[43mspecs\u001b[49m\u001b[43m)\u001b[49m\u001b[38;5;241;43m.\u001b[39;49m\u001b[43mshape\u001b[49m\u001b[43m[\u001b[49m\u001b[43mag__\u001b[49m\u001b[38;5;241;43m.\u001b[39;49m\u001b[43mld\u001b[49m\u001b[43m(\u001b[49m\u001b[43maxis\u001b[49m\u001b[43m)\u001b[49m\u001b[43m]\u001b[49m\u001b[43m \u001b[49m\u001b[38;5;241;43m-\u001b[39;49m\u001b[43m \u001b[49m\u001b[43mag__\u001b[49m\u001b[38;5;241;43m.\u001b[39;49m\u001b[43mld\u001b[49m\u001b[43m(\u001b[49m\u001b[43mvalue\u001b[49m\u001b[43m)\u001b[49m)\n\u001b[1;32m     61\u001b[0m mask_start \u001b[38;5;241m=\u001b[39m ag__\u001b[38;5;241m.\u001b[39mconverted_call(ag__\u001b[38;5;241m.\u001b[39mld(tf)\u001b[38;5;241m.\u001b[39mcast, (ag__\u001b[38;5;241m.\u001b[39mld(min_value), ag__\u001b[38;5;241m.\u001b[39mld(tf)\u001b[38;5;241m.\u001b[39mfloat32), \u001b[38;5;28;01mNone\u001b[39;00m, fscope)[\u001b[38;5;241m.\u001b[39m\u001b[38;5;241m.\u001b[39m\u001b[38;5;241m.\u001b[39m, \u001b[38;5;28;01mNone\u001b[39;00m, \u001b[38;5;28;01mNone\u001b[39;00m]\n\u001b[1;32m     62\u001b[0m mask_end \u001b[38;5;241m=\u001b[39m (ag__\u001b[38;5;241m.\u001b[39mconverted_call(ag__\u001b[38;5;241m.\u001b[39mld(tf)\u001b[38;5;241m.\u001b[39mcast, (ag__\u001b[38;5;241m.\u001b[39mld(min_value), ag__\u001b[38;5;241m.\u001b[39mld(tf)\u001b[38;5;241m.\u001b[39mfloat32), \u001b[38;5;28;01mNone\u001b[39;00m, fscope) \u001b[38;5;241m+\u001b[39m ag__\u001b[38;5;241m.\u001b[39mconverted_call(ag__\u001b[38;5;241m.\u001b[39mld(tf)\u001b[38;5;241m.\u001b[39mcast, (ag__\u001b[38;5;241m.\u001b[39mld(value), ag__\u001b[38;5;241m.\u001b[39mld(tf)\u001b[38;5;241m.\u001b[39mfloat32), \u001b[38;5;28;01mNone\u001b[39;00m, fscope))[\u001b[38;5;241m.\u001b[39m\u001b[38;5;241m.\u001b[39m\u001b[38;5;241m.\u001b[39m, \u001b[38;5;28;01mNone\u001b[39;00m, \u001b[38;5;28;01mNone\u001b[39;00m]\n",
      "\u001b[0;31mValueError\u001b[0m: in user code:\n\n    File \"/home/cfr/.local/conda/envs/ML_Birds/lib/python3.11/site-packages/keras/src/engine/training.py\", line 1401, in train_function  *\n        return step_function(self, iterator)\n    File \"/home/cfr/.local/conda/envs/ML_Birds/lib/python3.11/site-packages/keras/src/engine/training.py\", line 1384, in step_function  **\n        outputs = model.distribute_strategy.run(run_step, args=(data,))\n    File \"/home/cfr/.local/conda/envs/ML_Birds/lib/python3.11/site-packages/keras/src/engine/training.py\", line 1373, in run_step  **\n        outputs = model.train_step(data)\n    File \"/home/cfr/.local/conda/envs/ML_Birds/lib/python3.11/site-packages/keras/src/engine/training.py\", line 1150, in train_step\n        y_pred = self(x, training=True)\n    File \"/home/cfr/.local/conda/envs/ML_Birds/lib/python3.11/site-packages/keras/src/utils/traceback_utils.py\", line 70, in error_handler\n        raise e.with_traceback(filtered_tb) from None\n    File \"/tmp/__autograph_generated_filev1_a71vl.py\", line 69, in tf__call\n        ag__.if_stmt(ag__.not_(ag__.ld(training)), if_body, else_body, get_state_2, set_state_2, ('do_return', 'retval_'), 2)\n    File \"/tmp/__autograph_generated_filev1_a71vl.py\", line 45, in else_body\n        ag__.for_stmt(ag__.converted_call(ag__.ld(tf).range, (ag__.ld(self).num_time_masks,), None, fscope), None, loop_body, get_state, set_state, ('x',), {'iterate_names': '_'})\n    File \"/tmp/__autograph_generated_filev1_a71vl.py\", line 43, in loop_body\n        x = ag__.converted_call(ag__.ld(self).mask_along_axis_iid, (ag__.ld(x), ag__.ld(self).time_mask_param, 0, 2 + ag__.converted_call(ag__.ld(int), (ag__.ld(self).time_last,), None, fscope), ag__.ld(self).time_mask_prob), None, fscope)\n    File \"/tmp/__autograph_generated_file349l6l4z.py\", line 83, in tf__mask_along_axis_iid\n        ag__.if_stmt(ag__.converted_call(ag__.ld(tf).random.uniform, ([],), None, fscope) > ag__.ld(p), if_body_2, else_body_2, get_state_2, set_state_2, ('do_return', 'retval_', 'specs'), 2)\n    File \"/tmp/__autograph_generated_file349l6l4z.py\", line 60, in else_body_2\n        min_value = ag__.converted_call(ag__.ld(tf).random.uniform, (), dict(shape=ag__.ld(shape)[:2], dtype=ag__.ld(dtype)), fscope) * (ag__.ld(specs).shape[ag__.ld(axis)] - ag__.ld(value))\n\n    ValueError: Exception encountered when calling layer 'time_freq_mask' (type TimeFreqMask).\n    \n    in user code:\n    \n        File \"/home/cfr/.local/conda/envs/ML_Birds/lib/python3.11/site-packages/tensorflow_extra/layers.py\", line 402, in call  *\n            x = self.mask_along_axis_iid(\n        File \"/home/cfr/.local/conda/envs/ML_Birds/lib/python3.11/site-packages/tensorflow_extra/layers.py\", line 442, in mask_along_axis_iid  *\n            min_value = tf.random.uniform(shape=shape[:2], dtype=dtype) * (\n    \n        ValueError: None values not supported.\n    \n    \n    Call arguments received by layer 'time_freq_mask' (type TimeFreqMask):\n      • inputs=tf.Tensor(shape=(None, None, None, None), dtype=float32)\n      • training=True\n"
     ]
    }
   ],
   "source": [
    "hist3 = model2.fit(training_generator,\n",
    "                    validation_data=validation_generator,\n",
    "                    use_multiprocessing=True, verbose = 2, epochs = cfg.n_epochs)"
   ]
  },
  {
   "cell_type": "code",
   "execution_count": null,
   "id": "6247a131-5a2a-436a-88bd-66647ca3b1c9",
   "metadata": {},
   "outputs": [],
   "source": []
  }
 ],
 "metadata": {
  "kernelspec": {
   "display_name": "Python 3 (ipykernel)",
   "language": "python",
   "name": "python3"
  },
  "language_info": {
   "codemirror_mode": {
    "name": "ipython",
    "version": 3
   },
   "file_extension": ".py",
   "mimetype": "text/x-python",
   "name": "python",
   "nbconvert_exporter": "python",
   "pygments_lexer": "ipython3",
   "version": "3.11.9"
  }
 },
 "nbformat": 4,
 "nbformat_minor": 5
}

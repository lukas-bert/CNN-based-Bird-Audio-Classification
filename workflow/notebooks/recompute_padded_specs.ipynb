{
 "cells": [
  {
   "cell_type": "markdown",
   "id": "b2a01c68-0519-4850-ad3e-84789149d1b1",
   "metadata": {},
   "source": [
    "## Recompute spectrograms that were saved with padding\n",
    "Unfortunately; I saved the spectrograms with padding, if the audio clip was shorter than 15 seconds.\n",
    "\n",
    "This is not optimal, so this notebook can be used to recompute these spectrograms"
   ]
  },
  {
   "cell_type": "code",
   "execution_count": 1,
   "id": "dfac67cd-4779-4f7d-8b37-cd919387a878",
   "metadata": {},
   "outputs": [],
   "source": [
    "import pandas as pd\n",
    "import numpy as np\n",
    "from tqdm import tqdm\n",
    "import librosa\n",
    "import h5py\n",
    "import os"
   ]
  },
  {
   "cell_type": "code",
   "execution_count": 2,
   "id": "b79f07f3-60c2-49b0-98df-5e1e02a2689c",
   "metadata": {},
   "outputs": [],
   "source": [
    "df_train = pd.read_csv(\"../../data/dataset_train.csv\")\n",
    "df_test = pd.read_csv(\"../../data/dataset_test.csv\")"
   ]
  },
  {
   "cell_type": "code",
   "execution_count": 3,
   "id": "6fcf5b81-289d-462c-af74-5f668d5aae49",
   "metadata": {},
   "outputs": [],
   "source": [
    "import json\n",
    "\n",
    "## Conifgurations\n",
    "config = json.load(open(\"../resources/config.json\", \"r\"))\n",
    "\n",
    "class cfg:\n",
    "    seed = config[\"seed\"]\n",
    "    # audio settings\n",
    "    sr = config[\"sampling_rate\"] # = 22050\n",
    "    duration = config[\"duration\"] # the duration of the clips\n",
    "    \n",
    "    n_samples = duration*sr\n",
    "    \n",
    "    # spectrogram settings\n",
    "    hop_length = config[\"hop_length\"] # = 2048 \"stepsize\" of the fft for the melspectrograms\n",
    "    nfft = config[\"nfft\"] # = 4096 windowsize of the fft for the melspectrograms\n",
    "    n_mels = config[\"n_mels\"] # = 128 number of mel frequency bins\n",
    "    fmax = sr/2 # maximum frequency in the melspectrograms\n",
    "    input_dim = (n_mels, int(duration*sr//hop_length + 1))\n",
    "    \n",
    "    test_size = config[\"test_size\"]"
   ]
  },
  {
   "cell_type": "code",
   "execution_count": 4,
   "id": "63bb9225-11f9-44c9-aaaf-65d6658b9c18",
   "metadata": {},
   "outputs": [],
   "source": [
    "def resave_spec(spec, hdf5_path, name, compression=\"gzip\", chunks=True):\n",
    "    try:\n",
    "        with h5py.File(hdf5_path, 'a') as f:  # Open in append mode\n",
    "            del f[name]\n",
    "            f.create_dataset(name, data=spec, compression=compression, chunks=chunks)\n",
    "    except Exception as e:\n",
    "        print(f'Error saving spectrograms to {hdf5_path}: {e}')\n",
    "\n",
    "def recompute_and_save_spec(filepath, name):\n",
    "    spec = compute_spec(filepath)\n",
    "    hdf5_path = os.path.dirname(filepath) + \"/spectrograms.h5\"\n",
    "    resave_spec(spec, hdf5_path = hdf5_path, name = name)\n",
    "    return spec.shape[-1]\n",
    "\n",
    "def compute_spec(filepath, sr=cfg.sr, duration=cfg.duration, nfft=cfg.nfft, hop_length=cfg.hop_length, n_mels=cfg.n_mels, fmax=cfg.fmax):\n",
    "    audio, sr = librosa.load(filepath, sr = sr)\n",
    "    mel_spectrogram = librosa.feature.melspectrogram(y=audio, sr=sr, n_fft=nfft, hop_length=hop_length, n_mels=n_mels, fmin = 0, fmax=fmax)\n",
    "    log_mel_spectrogram = librosa.power_to_db(mel_spectrogram)\n",
    "    return log_mel_spectrogram"
   ]
  },
  {
   "cell_type": "code",
   "execution_count": 5,
   "id": "6d39049c-b94f-4d0a-af41-99380b379c88",
   "metadata": {},
   "outputs": [
    {
     "name": "stderr",
     "output_type": "stream",
     "text": [
      " 55%|██████████████████████▋                  | 208/376 [00:06<00:04, 37.98it/s]Note: Illegal Audio-MPEG-Header 0x616c6261 at offset 111094.\n",
      "Note: Trying to resync...\n",
      "Note: Hit end of (available) data during resync.\n",
      " 61%|█████████████████████████▏               | 231/376 [00:07<00:03, 38.14it/s]Warning: Xing stream size off by more than 1%, fuzzy seeking may be even more fuzzy than by design!\n",
      " 72%|█████████████████████████████▌           | 271/376 [00:08<00:02, 41.19it/s]Warning: Xing stream size off by more than 1%, fuzzy seeking may be even more fuzzy than by design!\n",
      "100%|█████████████████████████████████████████| 376/376 [00:10<00:00, 35.37it/s]\n"
     ]
    }
   ],
   "source": [
    "indices = df_test[df_test[\"length_seconds\"] <= 15].index\n",
    "\n",
    "for i in tqdm(indices):\n",
    "    df_test.loc[i, \"length_spectrogram\"] = recompute_and_save_spec(\"../\" + df_test.loc[i, \"fullfilename\"], df_test.loc[i, \"spectrogram\"])"
   ]
  },
  {
   "cell_type": "code",
   "execution_count": 6,
   "id": "e3bb92a9-9a62-40f0-af91-92f49328fd19",
   "metadata": {},
   "outputs": [
    {
     "name": "stderr",
     "output_type": "stream",
     "text": [
      "  5%|██▏                                      | 75/1435 [00:02<00:39, 34.85it/s]Warning: Xing stream size off by more than 1%, fuzzy seeking may be even more fuzzy than by design!\n",
      "  6%|██▎                                      | 80/1435 [00:02<00:35, 37.64it/s]Warning: Xing stream size off by more than 1%, fuzzy seeking may be even more fuzzy than by design!\n",
      " 11%|████▎                                   | 156/1435 [00:04<00:37, 34.10it/s]Note: Illegal Audio-MPEG-Header 0x50455441 at offset 585059.\n",
      "Note: Trying to resync...\n",
      "Note: Hit end of (available) data during resync.\n",
      " 17%|██████▊                                 | 244/1435 [00:06<00:32, 37.03it/s]Warning: Xing stream size off by more than 1%, fuzzy seeking may be even more fuzzy than by design!\n",
      "[src/libmpg123/layer3.c:INT123_do_layer3():1801] error: dequantization failed!\n",
      " 19%|███████▍                                | 266/1435 [00:06<00:24, 47.57it/s]Warning: Xing stream size off by more than 1%, fuzzy seeking may be even more fuzzy than by design!\n",
      "Warning: Xing stream size off by more than 1%, fuzzy seeking may be even more fuzzy than by design!\n",
      " 23%|█████████▎                              | 335/1435 [00:08<00:27, 39.60it/s]Note: Illegal Audio-MPEG-Header 0x63682028 at offset 214748.\n",
      "Note: Trying to resync...\n",
      "Note: Hit end of (available) data during resync.\n",
      " 25%|██████████                              | 359/1435 [00:09<00:24, 43.97it/s]Warning: Xing stream size off by more than 1%, fuzzy seeking may be even more fuzzy than by design!\n",
      " 25%|██████████▏                             | 364/1435 [00:09<00:26, 40.92it/s]Note: Illegal Audio-MPEG-Header 0x50455441 at offset 214329.\n",
      "Note: Trying to resync...\n",
      "Note: Hit end of (available) data during resync.\n",
      " 44%|█████████████████▊                      | 637/1435 [00:16<00:22, 35.20it/s]Warning: Xing stream size off by more than 1%, fuzzy seeking may be even more fuzzy than by design!\n",
      " 50%|███████████████████▉                    | 715/1435 [00:18<00:17, 40.17it/s][src/libmpg123/layer3.c:INT123_do_layer3():1801] error: dequantization failed!\n",
      " 57%|██████████████████████▌                 | 811/1435 [00:20<00:16, 38.51it/s]Note: Illegal Audio-MPEG-Header 0x49474854 at offset 248184.\n",
      "Note: Trying to resync...\n",
      "Note: Hit end of (available) data during resync.\n",
      " 63%|█████████████████████████▍              | 911/1435 [00:23<00:12, 41.41it/s]Note: Illegal Audio-MPEG-Header 0x50455441 at offset 344315.\n",
      "Note: Trying to resync...\n",
      "Note: Hit end of (available) data during resync.\n",
      " 80%|███████████████████████████████        | 1144/1435 [00:29<00:06, 43.38it/s]Warning: Xing stream size off by more than 1%, fuzzy seeking may be even more fuzzy than by design!\n",
      " 92%|███████████████████████████████████▊   | 1320/1435 [00:33<00:02, 43.91it/s]Note: Illegal Audio-MPEG-Header 0x6f6d6520 at offset 206848.\n",
      "Note: Trying to resync...\n",
      "Note: Hit end of (available) data during resync.\n",
      " 97%|█████████████████████████████████████▋ | 1385/1435 [00:35<00:01, 35.72it/s]Warning: Xing stream size off by more than 1%, fuzzy seeking may be even more fuzzy than by design!\n",
      "100%|██████████████████████████████████████▊| 1429/1435 [00:36<00:00, 43.40it/s]Warning: Xing stream size off by more than 1%, fuzzy seeking may be even more fuzzy than by design!\n",
      "100%|███████████████████████████████████████| 1435/1435 [00:36<00:00, 39.08it/s]\n"
     ]
    }
   ],
   "source": [
    "indices = df_train[df_train[\"length_seconds\"] <= 15].index\n",
    "\n",
    "for i in tqdm(indices):\n",
    "    df_train.loc[i, \"length_spectrogram\"] = recompute_and_save_spec(\"../\" + df_train.loc[i, \"fullfilename\"], df_train.loc[i, \"spectrogram\"])"
   ]
  },
  {
   "cell_type": "code",
   "execution_count": 7,
   "id": "3a3222fa-933c-4b0d-ae86-6c47b3108699",
   "metadata": {},
   "outputs": [],
   "source": [
    "df_train.to_csv(\"../../data/dataset_train.csv\", index = False)\n",
    "df_test.to_csv(\"../../data/dataset_test.csv\", index = False)"
   ]
  }
 ],
 "metadata": {
  "kernelspec": {
   "display_name": "Python 3 (ipykernel)",
   "language": "python",
   "name": "python3"
  },
  "language_info": {
   "codemirror_mode": {
    "name": "ipython",
    "version": 3
   },
   "file_extension": ".py",
   "mimetype": "text/x-python",
   "name": "python",
   "nbconvert_exporter": "python",
   "pygments_lexer": "ipython3",
   "version": "3.9.19"
  }
 },
 "nbformat": 4,
 "nbformat_minor": 5
}

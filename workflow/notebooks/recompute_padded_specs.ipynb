{
 "cells": [
  {
   "cell_type": "markdown",
   "id": "b2a01c68-0519-4850-ad3e-84789149d1b1",
   "metadata": {},
   "source": [
    "## Recompute spectrograms that were saved with padding\n",
    "Unfortunately; I saved the spectrograms with padding, if the audio clip was shorter than 15 seconds.\n",
    "\n",
    "This is not optimal, so this notebook can be used to recompute these spectrograms"
   ]
  },
  {
   "cell_type": "code",
   "execution_count": 17,
   "id": "dfac67cd-4779-4f7d-8b37-cd919387a878",
   "metadata": {},
   "outputs": [],
   "source": [
    "import pandas as pd\n",
    "import numpy as np\n",
    "from tqdm import tqdm\n",
    "import librosa\n",
    "import h5py\n",
    "import os"
   ]
  },
  {
   "cell_type": "code",
   "execution_count": 27,
   "id": "b79f07f3-60c2-49b0-98df-5e1e02a2689c",
   "metadata": {},
   "outputs": [],
   "source": [
    "df_train = pd.read_csv(\"../../data/dataset_train.csv\")\n",
    "df_test = pd.read_csv(\"../../data/dataset_test.csv\")"
   ]
  },
  {
   "cell_type": "code",
   "execution_count": 19,
   "id": "6fcf5b81-289d-462c-af74-5f668d5aae49",
   "metadata": {},
   "outputs": [],
   "source": [
    "import json\n",
    "\n",
    "## Conifgurations\n",
    "config = json.load(open(\"../resources/config.json\", \"r\"))\n",
    "\n",
    "class cfg:\n",
    "    seed = config[\"seed\"]\n",
    "    # audio settings\n",
    "    sr = config[\"sampling_rate\"] # = 22050\n",
    "    duration = config[\"duration\"] # the duration of the clips\n",
    "    \n",
    "    n_samples = duration*sr\n",
    "    \n",
    "    # spectrogram settings\n",
    "    hop_length = config[\"hop_length\"] # = 2048 \"stepsize\" of the fft for the melspectrograms\n",
    "    nfft = config[\"nfft\"] # = 4096 windowsize of the fft for the melspectrograms\n",
    "    n_mels = config[\"n_mels\"] # = 128 number of mel frequency bins\n",
    "    fmax = sr/2 # maximum frequency in the melspectrograms\n",
    "    input_dim = (n_mels, int(duration*sr//hop_length + 1))\n",
    "    \n",
    "    test_size = config[\"test_size\"]"
   ]
  },
  {
   "cell_type": "code",
   "execution_count": 23,
   "id": "63bb9225-11f9-44c9-aaaf-65d6658b9c18",
   "metadata": {},
   "outputs": [],
   "source": [
    "def resave_spec(spec, hdf5_path, name, compression=\"gzip\", chunks=True):\n",
    "    try:\n",
    "        with h5py.File(hdf5_path, 'a') as f:  # Open in append mode\n",
    "            del f[name]\n",
    "            f.create_dataset(name, data=spec, compression=compression, chunks=chunks)\n",
    "    except Exception as e:\n",
    "        print(f'Error saving spectrograms to {hdf5_path}: {e}')\n",
    "\n",
    "def recompute_and_save_spec(filepath, name):\n",
    "    spec = compute_spec(filepath)\n",
    "    hdf5_path = os.path.dirname(filepath) + \"/spectrograms.h5\"\n",
    "    resave_spec(spec, hdf5_path = hdf5_path, name = name)\n",
    "    return spec.shape[-1]\n",
    "\n",
    "def compute_spec(filepath, sr=cfg.sr, duration=cfg.duration, nfft=cfg.nfft, hop_length=cfg.hop_length, n_mels=cfg.n_mels, fmax=cfg.fmax):\n",
    "    audio, sr = librosa.load(filepath, sr = sr)\n",
    "    mel_spectrogram = librosa.feature.melspectrogram(y=audio, sr=sr, n_fft=nfft, hop_length=hop_length, n_mels=n_mels, fmin = 0, fmax=fmax)\n",
    "    log_mel_spectrogram = librosa.power_to_db(mel_spectrogram)\n",
    "    return log_mel_spectrogram"
   ]
  },
  {
   "cell_type": "code",
   "execution_count": 24,
   "id": "6d39049c-b94f-4d0a-af41-99380b379c88",
   "metadata": {},
   "outputs": [
    {
     "name": "stderr",
     "output_type": "stream",
     "text": [
      " 56%|█████████████████████████████████████████████▎                                   | 209/374 [00:32<00:21,  7.64it/s]Note: Illegal Audio-MPEG-Header 0x616c6261 at offset 111094.\n",
      "Note: Trying to resync...\n",
      "Note: Hit end of (available) data during resync.\n",
      " 63%|██████████████████████████████████████████████████▋                              | 234/374 [00:35<00:19,  7.19it/s]Warning: Xing stream size off by more than 1%, fuzzy seeking may be even more fuzzy than by design!\n",
      " 65%|████████████████████████████████████████████████████▊                            | 244/374 [00:37<00:21,  5.98it/s]Note: Illegal Audio-MPEG-Header 0x50455441 at offset 344315.\n",
      "Note: Trying to resync...\n",
      "Note: Hit end of (available) data during resync.\n",
      "100%|█████████████████████████████████████████████████████████████████████████████████| 374/374 [00:58<00:00,  6.44it/s]\n"
     ]
    }
   ],
   "source": [
    "indices = df_test[df_test[\"length_seconds\"] <= 15].index\n",
    "\n",
    "for i in tqdm(indices):\n",
    "    df_test.loc[i, \"length_spectrogram\"] = recompute_and_save_spec(\"../\" + df_test.loc[i, \"fullfilename\"], df_test.loc[i, \"spectrogram\"])"
   ]
  },
  {
   "cell_type": "code",
   "execution_count": 25,
   "id": "e3bb92a9-9a62-40f0-af91-92f49328fd19",
   "metadata": {},
   "outputs": [
    {
     "name": "stderr",
     "output_type": "stream",
     "text": [
      "  5%|████▍                                                                            | 79/1437 [00:13<03:44,  6.06it/s]Warning: Xing stream size off by more than 1%, fuzzy seeking may be even more fuzzy than by design!\n",
      "  6%|████▌                                                                            | 82/1437 [00:14<04:06,  5.49it/s]Warning: Xing stream size off by more than 1%, fuzzy seeking may be even more fuzzy than by design!\n",
      " 11%|████████▉                                                                       | 160/1437 [00:28<03:42,  5.75it/s]Note: Illegal Audio-MPEG-Header 0x50455441 at offset 585059.\n",
      "Note: Trying to resync...\n",
      "Note: Hit end of (available) data during resync.\n",
      " 17%|█████████████▌                                                                  | 244/1437 [00:39<02:43,  7.29it/s]Warning: Xing stream size off by more than 1%, fuzzy seeking may be even more fuzzy than by design!\n",
      " 17%|█████████████▊                                                                  | 247/1437 [00:40<02:54,  6.82it/s][src/libmpg123/layer3.c:INT123_do_layer3():1801] error: dequantization failed!\n",
      " 19%|██████████████▊                                                                 | 267/1437 [00:42<01:54, 10.21it/s]Warning: Xing stream size off by more than 1%, fuzzy seeking may be even more fuzzy than by design!\n",
      " 19%|███████████████                                                                 | 271/1437 [00:43<01:42, 11.40it/s]Warning: Xing stream size off by more than 1%, fuzzy seeking may be even more fuzzy than by design!\n",
      " 23%|██████████████████▊                                                             | 337/1437 [00:54<03:23,  5.41it/s]Note: Illegal Audio-MPEG-Header 0x63682028 at offset 214748.\n",
      "Note: Trying to resync...\n",
      "Note: Hit end of (available) data during resync.\n",
      " 25%|████████████████████▏                                                           | 362/1437 [00:58<02:42,  6.61it/s]Warning: Xing stream size off by more than 1%, fuzzy seeking may be even more fuzzy than by design!\n",
      " 25%|████████████████████▍                                                           | 366/1437 [00:59<03:10,  5.61it/s]Note: Illegal Audio-MPEG-Header 0x50455441 at offset 214329.\n",
      "Note: Trying to resync...\n",
      "Note: Hit end of (available) data during resync.\n",
      " 44%|███████████████████████████████████▍                                            | 637/1437 [01:43<02:30,  5.32it/s]Warning: Xing stream size off by more than 1%, fuzzy seeking may be even more fuzzy than by design!\n",
      " 50%|███████████████████████████████████████▊                                        | 715/1437 [01:56<01:56,  6.19it/s][src/libmpg123/layer3.c:INT123_do_layer3():1801] error: dequantization failed!\n",
      " 57%|█████████████████████████████████████████████▏                                  | 812/1437 [02:13<01:59,  5.24it/s]Note: Illegal Audio-MPEG-Header 0x49474854 at offset 248184.\n",
      "Note: Trying to resync...\n",
      "Note: Hit end of (available) data during resync.\n",
      " 70%|███████████████████████████████████████████████████████▌                       | 1011/1437 [02:44<00:54,  7.85it/s]Warning: Xing stream size off by more than 1%, fuzzy seeking may be even more fuzzy than by design!\n",
      " 80%|███████████████████████████████████████████████████████████████                | 1148/1437 [03:03<00:39,  7.29it/s]Warning: Xing stream size off by more than 1%, fuzzy seeking may be even more fuzzy than by design!\n",
      " 92%|████████████████████████████████████████████████████████████████████████▉      | 1326/1437 [03:31<00:13,  7.97it/s]Note: Illegal Audio-MPEG-Header 0x6f6d6520 at offset 206848.\n",
      "Note: Trying to resync...\n",
      "Note: Hit end of (available) data during resync.\n",
      " 96%|████████████████████████████████████████████████████████████████████████████▏  | 1386/1437 [03:40<00:08,  5.80it/s]Warning: Xing stream size off by more than 1%, fuzzy seeking may be even more fuzzy than by design!\n",
      "100%|██████████████████████████████████████████████████████████████████████████████▊| 1433/1437 [03:48<00:00, 10.20it/s]Warning: Xing stream size off by more than 1%, fuzzy seeking may be even more fuzzy than by design!\n",
      "100%|███████████████████████████████████████████████████████████████████████████████| 1437/1437 [03:48<00:00,  6.28it/s]\n"
     ]
    }
   ],
   "source": [
    "indices = df_train[df_train[\"length_seconds\"] <= 15].index\n",
    "\n",
    "for i in tqdm(indices):\n",
    "    df_train.loc[i, \"length_spectrogram\"] = recompute_and_save_spec(\"../\" + df_train.loc[i, \"fullfilename\"], df_train.loc[i, \"spectrogram\"])"
   ]
  },
  {
   "cell_type": "code",
   "execution_count": 26,
   "id": "3a3222fa-933c-4b0d-ae86-6c47b3108699",
   "metadata": {},
   "outputs": [],
   "source": [
    "df_train.to_csv(\"../../data/dataset_train.csv\", index = False)\n",
    "df_test.to_csv(\"../../data/dataset_test.csv\", index = False)"
   ]
  }
 ],
 "metadata": {
  "kernelspec": {
   "display_name": "Python 3 (ipykernel)",
   "language": "python",
   "name": "python3"
  },
  "language_info": {
   "codemirror_mode": {
    "name": "ipython",
    "version": 3
   },
   "file_extension": ".py",
   "mimetype": "text/x-python",
   "name": "python",
   "nbconvert_exporter": "python",
   "pygments_lexer": "ipython3",
   "version": "3.9.19"
  }
 },
 "nbformat": 4,
 "nbformat_minor": 5
}
